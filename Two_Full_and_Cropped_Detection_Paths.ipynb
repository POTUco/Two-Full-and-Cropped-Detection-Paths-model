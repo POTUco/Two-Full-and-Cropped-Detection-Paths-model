{
 "cells": [
  {
   "cell_type": "code",
   "execution_count": 6,
   "id": "0fb6750e-e6a6-4e5a-bcdf-db4789e7d94e",
   "metadata": {
    "tags": []
   },
   "outputs": [],
   "source": [
    "import pandas as pd\n",
    "import os\n",
    "import cv2\n",
    "import shutil\n",
    "import pydicom\n",
    "from PIL import Image\n",
    "import numpy as np\n",
    "import glob\n",
    "import math"
   ]
  },
  {
   "cell_type": "markdown",
   "id": "c8a0d936-2a2e-4dbf-9a00-167c37ffe260",
   "metadata": {},
   "source": [
    "# 選出Mass的圖片"
   ]
  },
  {
   "cell_type": "code",
   "execution_count": 5,
   "id": "35b2ac2d-f270-45d8-b657-39c230068d3e",
   "metadata": {
    "tags": []
   },
   "outputs": [
    {
     "name": "stdout",
     "output_type": "stream",
     "text": [
      "finished\n"
     ]
    }
   ],
   "source": [
    "file_path = 'D:/vindr-mammo/finding_annotations.csv'\n",
    "source_folder = \"D:/vindr-mammo/process_new2/image_png\"\n",
    "target_folder = \"D:/vindr-mammo/process_new2/Mass/original_image\"\n",
    "\n",
    "df = pd.read_csv(file_path)\n",
    "\n",
    "data = df.values.tolist()\n",
    "\n",
    "for i in range (len(data)):\n",
    "    if data[i][9] == \"['Mass']\":\n",
    "        source_file_path = os.path.join(source_folder, data[i][2]+'.png')\n",
    "        target_file_path = os.path.join(target_folder, data[i][2]+'.png')\n",
    "        shutil.copy(source_file_path, target_file_path)\n",
    "        \n",
    "    else:\n",
    "        continue\n",
    "        \n",
    "print(\"finished\")"
   ]
  },
  {
   "cell_type": "markdown",
   "id": "78106a4e-c0ed-4333-943d-a8f9df45c943",
   "metadata": {},
   "source": [
    "# 選出Norm的圖片"
   ]
  },
  {
   "cell_type": "code",
   "execution_count": 7,
   "id": "0008e679-268e-4fe9-861f-4fbc16624e57",
   "metadata": {
    "tags": []
   },
   "outputs": [
    {
     "name": "stdout",
     "output_type": "stream",
     "text": [
      "finished\n"
     ]
    }
   ],
   "source": [
    "file_path = 'D:/vindr-mammo/finding_annotations.csv'\n",
    "source_folder = \"D:/vindr-mammo/process_new2/image_png\"\n",
    "target_folder = \"D:/vindr-mammo/process_new2/Norm/original_image\"\n",
    "\n",
    "df = pd.read_csv(file_path)\n",
    "\n",
    "data = df.values.tolist()\n",
    "\n",
    "for i in range (len(data)):\n",
    "    if data[i][9] == \"['No Finding']\":\n",
    "        source_file_path = os.path.join(source_folder, data[i][2]+'.png')\n",
    "        target_file_path = os.path.join(target_folder, data[i][2]+'.png')\n",
    "        shutil.copy(source_file_path, target_file_path)\n",
    "        \n",
    "    else:\n",
    "        continue\n",
    "        \n",
    "print(\"finished\")"
   ]
  },
  {
   "cell_type": "markdown",
   "id": "efc1216e-f0e9-4f13-ae44-f54bc9309084",
   "metadata": {},
   "source": [
    "# 產生label"
   ]
  },
  {
   "cell_type": "code",
   "execution_count": 7,
   "id": "fde093e0-1e37-4fa7-afcc-7d1ee0765cfe",
   "metadata": {
    "tags": []
   },
   "outputs": [
    {
     "name": "stdout",
     "output_type": "stream",
     "text": [
      "finished\n"
     ]
    }
   ],
   "source": [
    "output_folder = \"G:/BC_dataset/VinDr_Mammo/process_new2/Mass/process_image/label\"\n",
    "annotation_file_path = 'G:/BC_dataset/VinDr_Mammo/finding_annotations_mass.csv'\n",
    "input_folder = \"G:/BC_dataset/VinDr_Mammo/process_new2/Mass/original\"\n",
    "png_files = glob.glob(os.path.join(input_folder, \"*.png\"))\n",
    "df = pd.read_csv(annotation_file_path)\n",
    "data = df.values.tolist()\n",
    "\n",
    "for png_file in png_files:\n",
    "    image = cv2.imread(png_file)\n",
    "    file_name, file_extension = os.path.splitext(os.path.basename(png_file))\n",
    "    for i in range(len(data)):\n",
    "        if data[i][2] == file_name:\n",
    "            xmin = int(data[i][11])\n",
    "            ymin = int(data[i][12])\n",
    "            xmax = int(math.ceil(data[i][13]))\n",
    "            ymax = int(math.ceil(data[i][14]))\n",
    "\n",
    "            height,width,_ = image.shape\n",
    "\n",
    "            x_center = (xmin + xmax) / (2 * width)\n",
    "            y_center = (ymin + ymax) / (2 * height)\n",
    "            box_width = (xmax - xmin) / width\n",
    "            box_height = (ymax - ymin) / height\n",
    "\n",
    "            cv2.rectangle(image, (xmin, ymin), (xmax, ymax), (0, 255, 0), 2)\n",
    "            \n",
    "            output_image_path = os.path.join(output_folder, f\"{file_name}{file_extension}\")\n",
    "            cv2.imwrite(output_image_path, image)\n",
    "            \n",
    "print(\"finished\")\n",
    "    "
   ]
  },
  {
   "cell_type": "markdown",
   "id": "71bf095d-1e03-4bd0-9cb8-659ec6eca533",
   "metadata": {
    "tags": []
   },
   "source": [
    "# 去除部分背景，並產生新的label(Mass)"
   ]
  },
  {
   "cell_type": "code",
   "execution_count": 14,
   "id": "443de6fa-c4f3-4c7a-9d98-4e277cebfaf8",
   "metadata": {
    "tags": []
   },
   "outputs": [
    {
     "name": "stdout",
     "output_type": "stream",
     "text": [
      "finished\n"
     ]
    }
   ],
   "source": [
    "output_folder = \"D:/vindr-mammo/process_new2/Mass/process_image/cut\"\n",
    "output_label_folder = \"D:/vindr-mammo/process_new2/Mass/process_image/cut_label\"\n",
    "annotation_file_path = 'D:/vindr-mammo/process_new/Mass/finding_annotations_mass.csv'\n",
    "input_folder = \"D:/vindr-mammo/process_new2/Mass/original_image\"\n",
    "png_files = glob.glob(os.path.join(input_folder, \"*.png\"))\n",
    "df = pd.read_csv(annotation_file_path)\n",
    "data = df.values.tolist()\n",
    "\n",
    "\n",
    "for png_file in png_files:\n",
    "    image = cv2.imread(png_file)\n",
    "\n",
    "    gray_image = cv2.cvtColor(image, cv2.COLOR_BGR2GRAY)\n",
    "\n",
    "    gray_image[gray_image>=160]=0\n",
    "\n",
    "    _, thresholded = cv2.threshold(gray_image, 100, 255, cv2.THRESH_BINARY)\n",
    "\n",
    "    coords = cv2.findNonZero(thresholded)\n",
    "\n",
    "    x, y, width, height = cv2.boundingRect(coords)\n",
    "\n",
    "    cropped_image = image[y:y+height, x:x+width]\n",
    "\n",
    "    gray_cropped_image = cv2.cvtColor(cropped_image, cv2.COLOR_BGR2GRAY)\n",
    "\n",
    "    file_name, file_extension = os.path.splitext(os.path.basename(png_file))\n",
    "\n",
    "    processed_image_path = os.path.join(output_folder, f\"{file_name}{file_extension}\")\n",
    "\n",
    "    cv2.imwrite(processed_image_path, cropped_image)\n",
    "\n",
    "    i=0\n",
    "\n",
    "    num = 0\n",
    "    for i in range(len(data)):\n",
    "        if data[i][2] == file_name:\n",
    "            xmin = int(data[i][11] - float(x))\n",
    "            ymin = int(data[i][12] - float(y))\n",
    "            xmax = int(math.ceil(data[i][13] - float(x)))\n",
    "            ymax = int(math.ceil(data[i][14] - float(y)))\n",
    "\n",
    "            height,width,_ = cropped_image.shape\n",
    "\n",
    "            x_center = (xmin + xmax) / (2 * width)\n",
    "            y_center = (ymin + ymax) / (2 * height)\n",
    "            box_width = (xmax - xmin) / width\n",
    "            box_height = (ymax - ymin) / height\n",
    "\n",
    "            cv2.rectangle(cropped_image, (xmin, ymin), (xmax, ymax), (0, 255, 0), 2)\n",
    "\n",
    "            output_image_path = os.path.join(output_label_folder, f\"{file_name}{file_extension}\")\n",
    "            cv2.imwrite(output_image_path, cropped_image)\n",
    "\n",
    "            label=\"\"\n",
    "            if(data[i][10] == 'BI-RADS 3'):\n",
    "                label_type = 0\n",
    "                label += f\"{label_type} {x_center:.6f} {y_center:.6f} {box_width:.6f} {box_height:.6f}\\n\"\n",
    "\n",
    "            else:\n",
    "                label_type = 0\n",
    "                label += f\"{label_type} {x_center:.6f} {y_center:.6f} {box_width:.6f} {box_height:.6f}\\n\"\n",
    "\n",
    "\n",
    "            if(num != 0):\n",
    "                output_label_path = os.path.join(output_folder, f\"{file_name}.txt\")\n",
    "                with open(output_label_path, 'a') as label_file:\n",
    "                    label_file.write(label)\n",
    "\n",
    "            else:\n",
    "                output_label_path = os.path.join(output_folder, f\"{file_name}.txt\")\n",
    "                with open(output_label_path, 'w') as label_file:\n",
    "                    label_file.write(label)\n",
    "\n",
    "            num = 1\n",
    "             \n",
    "print(\"finished\")"
   ]
  },
  {
   "cell_type": "markdown",
   "id": "6c09e8d6-b736-41ec-8be5-08eb2fb56ec6",
   "metadata": {},
   "source": [
    "## 去除部分背景，並產生新的label(NORM)"
   ]
  },
  {
   "cell_type": "code",
   "execution_count": 5,
   "id": "f697f049-ae0d-4ca7-8c51-39d4e8fabe80",
   "metadata": {
    "tags": []
   },
   "outputs": [
    {
     "name": "stdout",
     "output_type": "stream",
     "text": [
      "finished\n"
     ]
    }
   ],
   "source": [
    "NORM_folder = \"D:/vindr-mammo/process_new2/Norm/process_image/cut\"\n",
    "annotation_file_path = 'D:/vindr-mammo/finding_annotations.csv'\n",
    "original_image_folder = \"D:/vindr-mammo/process_new2/Norm/original_image\"\n",
    "png_files = glob.glob(os.path.join(original_image_folder, \"*.png\"))\n",
    "df = pd.read_csv(annotation_file_path)\n",
    "\n",
    "data = df.values.tolist()\n",
    "\n",
    "for png_file in png_files:\n",
    "    image = cv2.imread(png_file)\n",
    "\n",
    "    file_name, file_extension = os.path.splitext(os.path.basename(png_file))\n",
    "    \n",
    "    gray_image = cv2.cvtColor(image, cv2.COLOR_BGR2GRAY)\n",
    "\n",
    "    gray_image[gray_image>=160]=0\n",
    "\n",
    "    _, thresholded = cv2.threshold(gray_image, 141, 255, cv2.THRESH_BINARY)\n",
    "\n",
    "    coords = cv2.findNonZero(thresholded)\n",
    "\n",
    "    x, y, width, height = cv2.boundingRect(coords)\n",
    "\n",
    "    cropped_image = image[y:y+height, x:x+width]\n",
    "\n",
    "    gray_cropped_image = cv2.cvtColor(cropped_image, cv2.COLOR_BGR2GRAY)\n",
    "\n",
    "    file_name, file_extension = os.path.splitext(os.path.basename(png_file))\n",
    "\n",
    "    processed_image_path = os.path.join(NORM_folder, f\"{file_name}{file_extension}\")\n",
    "\n",
    "    cv2.imwrite(processed_image_path, cropped_image)\n",
    "\n",
    "    label=\"\"\n",
    "    label += f\"\\n\"\n",
    "\n",
    "    output_label_path = os.path.join(NORM_folder, f\"{file_name}.txt\")\n",
    "    with open(output_label_path, 'w') as label_file:\n",
    "        label_file.write(label)\n",
    "             \n",
    "print(\"finished\")\n"
   ]
  },
  {
   "cell_type": "markdown",
   "id": "c1c488f3-8296-456d-81bd-af8d09745adb",
   "metadata": {},
   "source": [
    "# 選出calcification的圖片"
   ]
  },
  {
   "cell_type": "code",
   "execution_count": 11,
   "id": "97f2d8a7-6cd6-4e17-a508-ed3619dd5568",
   "metadata": {
    "tags": []
   },
   "outputs": [
    {
     "name": "stdout",
     "output_type": "stream",
     "text": [
      "finished\n"
     ]
    }
   ],
   "source": [
    "file_path = 'D:/vindr-mammo/finding_annotations.csv'\n",
    "source_folder = \"D:/vindr-mammo/process_new2/image_png\"\n",
    "target_folder = \"D:/vindr-mammo/process_new2/Calcification/original_image\"\n",
    "\n",
    "df = pd.read_csv(file_path)\n",
    "\n",
    "data = df.values.tolist()\n",
    "\n",
    "for i in range (len(data)):\n",
    "    if data[i][9] == \"['Suspicious Calcification']\":\n",
    "        source_file_path = os.path.join(source_folder, data[i][2]+'.png')\n",
    "        target_file_path = os.path.join(target_folder, data[i][2]+'.png')\n",
    "        shutil.copy(source_file_path, target_file_path)\n",
    "        \n",
    "    else:\n",
    "        continue\n",
    "        \n",
    "print(\"finished\")"
   ]
  },
  {
   "cell_type": "markdown",
   "id": "cf5d8d12-ab31-41dd-a4d4-0d4755cd66bb",
   "metadata": {
    "tags": []
   },
   "source": [
    "# 去除部分背景，並產生新的label(Calcification)"
   ]
  },
  {
   "cell_type": "code",
   "execution_count": 14,
   "id": "799acb5d-0832-4cd8-9252-3ba418343ec0",
   "metadata": {
    "tags": []
   },
   "outputs": [
    {
     "name": "stdout",
     "output_type": "stream",
     "text": [
      "finished\n"
     ]
    }
   ],
   "source": [
    "output_folder = \"D:/vindr-mammo/process_new2/Calcification/process_image/cut\"\n",
    "output_label_folder = \"D:/vindr-mammo/process_new2/Calcification/process_image/cut_label\"\n",
    "annotation_file_path = 'D:/vindr-mammo/process_new/Calcification/finding_annotations_calcification.csv'\n",
    "input_folder = \"D:/vindr-mammo/process_new2/Calcification/original_image\"\n",
    "png_files = glob.glob(os.path.join(input_folder, \"*.png\"))\n",
    "df = pd.read_csv(annotation_file_path)\n",
    "data = df.values.tolist()\n",
    "\n",
    "for png_file in png_files:\n",
    "    image = cv2.imread(png_file)\n",
    "\n",
    "    gray_image = cv2.cvtColor(image, cv2.COLOR_BGR2GRAY)\n",
    "\n",
    "    gray_image[gray_image>=160]=0\n",
    "\n",
    "    _, thresholded = cv2.threshold(gray_image, 141, 255, cv2.THRESH_BINARY)\n",
    "\n",
    "    coords = cv2.findNonZero(thresholded)\n",
    "\n",
    "    x, y, width, height = cv2.boundingRect(coords)\n",
    "\n",
    "    cropped_image = image[y:y+height, x:x+width]\n",
    "\n",
    "    gray_cropped_image = cv2.cvtColor(cropped_image, cv2.COLOR_BGR2GRAY)\n",
    "\n",
    "    file_name, file_extension = os.path.splitext(os.path.basename(png_file))\n",
    "\n",
    "    processed_image_path = os.path.join(output_folder, f\"{file_name}{file_extension}\")\n",
    "\n",
    "    cv2.imwrite(processed_image_path, cropped_image)\n",
    "\n",
    "    i=0\n",
    "\n",
    "    num = 0\n",
    "    for i in range(len(data)):\n",
    "        if data[i][2] == file_name:\n",
    "            xmin = int(data[i][11] - float(x))\n",
    "            ymin = int(data[i][12] - float(y))\n",
    "            xmax = int(math.ceil(data[i][13] - float(x)))\n",
    "            ymax = int(math.ceil(data[i][14] - float(y)))\n",
    "\n",
    "            height,width = gray_cropped_image.shape\n",
    "\n",
    "            x_center = (xmin + xmax) / (2 * width)\n",
    "            y_center = (ymin + ymax) / (2 * height)\n",
    "            box_width = (xmax - xmin) / width\n",
    "            box_height = (ymax - ymin) / height\n",
    "\n",
    "            cv2.rectangle(cropped_image, (xmin, ymin), (xmax, ymax), (0, 255, 0), 2)\n",
    "\n",
    "            output_image_path = os.path.join(output_label_folder, f\"{file_name}{file_extension}\")\n",
    "            cv2.imwrite(output_image_path, cropped_image)\n",
    "\n",
    "            label=\"\"\n",
    "            if(data[i][10] == 'BI-RADS 3'):\n",
    "                label_type = 0\n",
    "                label += f\"{label_type} {x_center:.6f} {y_center:.6f} {box_width:.6f} {box_height:.6f}\\n\"\n",
    "\n",
    "            else:\n",
    "                label_type = 0\n",
    "                label += f\"{label_type} {x_center:.6f} {y_center:.6f} {box_width:.6f} {box_height:.6f}\\n\"\n",
    "\n",
    "\n",
    "            if(num != 0):\n",
    "                output_label_path = os.path.join(output_folder, f\"{file_name}.txt\")\n",
    "                with open(output_label_path, 'a') as label_file:\n",
    "                    label_file.write(label)\n",
    "\n",
    "            else:\n",
    "                output_label_path = os.path.join(output_folder, f\"{file_name}.txt\")\n",
    "                with open(output_label_path, 'w') as label_file:\n",
    "                    label_file.write(label)\n",
    "\n",
    "            num = 1\n",
    "             \n",
    "print(\"finished\")"
   ]
  },
  {
   "cell_type": "markdown",
   "id": "e6f5c928-74a8-4c99-be25-45473c672f1b",
   "metadata": {},
   "source": [
    "# 分配YOLO Train及Valid資料"
   ]
  },
  {
   "cell_type": "code",
   "execution_count": 4,
   "id": "efa06dd5-0a02-4bde-ae35-364d7774019d",
   "metadata": {
    "tags": []
   },
   "outputs": [
    {
     "data": {
      "text/plain": [
       "3475"
      ]
     },
     "execution_count": 4,
     "metadata": {},
     "output_type": "execute_result"
    }
   ],
   "source": [
    "import glob\n",
    "import os\n",
    "from os import listdir, getcwd\n",
    "import random\n",
    "import numpy as np\n",
    "\n",
    "input_path = 'D:/darknet-master/build/darknet/x64/YOLOs'\n",
    "cfg_path = 'D:/darknet-master/build/darknet/x64/data/'\n",
    "train_ratio = 0.8\n",
    "\n",
    "if os.path.isdir(input_path):  \n",
    "    types = os.path.join(input_path,'*.jpg'), os.path.join(input_path,'*.jpeg'), os.path.join(input_path,'*.png')\n",
    "    files_grabbed = []\n",
    "    for files in types:\n",
    "        files_grabbed.extend(sorted(glob.iglob(files)))  \n",
    "elif os.path.isfile(input_path):  \n",
    "    files_grabbed = [input_path]\n",
    "else:  \n",
    "    raise ValueError(\"File PATH is NOT Valid\")        \n",
    "\n",
    "train_file = open('%s/%s.txt' % (cfg_path, 'train'), 'w')\n",
    "test_file = open('%s/%s.txt' % (cfg_path, 'valid'), 'w')\n",
    "\n",
    "trainNum = int(len(files_grabbed) * train_ratio)\n",
    "\n",
    "\n",
    "random.shuffle(files_grabbed)\n",
    "\n",
    "train_file.write(\"\\n\".join(files_grabbed[:trainNum]))\n",
    "test_file.write(\"\\n\".join(files_grabbed[trainNum:]))"
   ]
  },
  {
   "cell_type": "markdown",
   "id": "73a8629a-3d9e-4b68-869d-13c1bc5a05f1",
   "metadata": {},
   "source": [
    "# PHASE_1 strategy2"
   ]
  },
  {
   "cell_type": "code",
   "execution_count": 27,
   "id": "faefbf86-6c4f-4359-92d1-4b883afdc500",
   "metadata": {
    "tags": []
   },
   "outputs": [
    {
     "name": "stdout",
     "output_type": "stream",
     "text": [
      "finished\n"
     ]
    }
   ],
   "source": [
    "txt_folder = \"C:/Users/home/Desktop/Two_FULL_datasets/PHASE_1/strategy_2/S2_datasets\"\n",
    "txt_files = glob.glob(os.path.join(txt_folder, \"*.txt\"))\n",
    "\n",
    "for txt_file in txt_files:\n",
    "    file_name, file_extension = os.path.splitext(os.path.basename(txt_file))\n",
    "    label = \"\"\n",
    "    with open(txt_file, 'r') as file:\n",
    "        lines = file.readlines()\n",
    "        for line in lines:\n",
    "            parts = line.strip().split()\n",
    "        \n",
    "        if parts[0]==\"1\":\n",
    "            label_type = '0'\n",
    "            label += f\"{label_type} {parts[1]} {parts[2]} {parts[3]} {parts[4]}\\n\"\n",
    "            \n",
    "            output_label_path = os.path.join(txt_folder, f\"{file_name}.txt\")\n",
    "            with open(output_label_path, 'w') as label_file:\n",
    "                label_file.write(label)\n",
    "\n",
    "        else:\n",
    "            continue\n",
    "\n",
    "print(\"finished\")  "
   ]
  },
  {
   "cell_type": "markdown",
   "id": "61e757b5-927a-489a-8711-f0a632f861a2",
   "metadata": {},
   "source": [
    "# 影像切割成slice"
   ]
  },
  {
   "cell_type": "markdown",
   "id": "1b6cc0b7-7e10-46dc-96d4-4cb3c4402d52",
   "metadata": {},
   "source": [
    "## 1024*1024"
   ]
  },
  {
   "cell_type": "code",
   "execution_count": 9,
   "id": "755d6388-9bf4-44fd-9c60-555cecc83293",
   "metadata": {
    "tags": []
   },
   "outputs": [
    {
     "name": "stdout",
     "output_type": "stream",
     "text": [
      "finished\n"
     ]
    }
   ],
   "source": [
    "def calculate_zero_pixel_ratio(image):\n",
    "    total_pixels = image.size\n",
    "    zero_pixels = np.count_nonzero(image == 0)\n",
    "    zero_ratio = zero_pixels / total_pixels\n",
    "    return zero_ratio\n",
    "\n",
    "def process_image(image_path,dataset_folder):\n",
    "    image = cv2.imread(image_path)\n",
    "    file_name, file_extension = os.path.splitext(os.path.basename(image_path))\n",
    "    label_path = os.path.join(dataset_folder,f\"{file_name}.txt\")\n",
    "    original_height, original_width, _ = image.shape\n",
    "    slice_size = 1024\n",
    "    overlap = int(slice_size * 0.5)\n",
    "    \n",
    "    with open(label_path, 'r') as label_file:\n",
    "        lines = label_file.readlines()\n",
    "        \n",
    "    num = 0\n",
    "    \n",
    "    for slice_y in range(0, original_height -  slice_size + 1, overlap):\n",
    "        for slice_x in range(0, original_width - slice_size + 1, overlap):\n",
    "            slice_image = image[slice_y:slice_y+slice_size, slice_x:slice_x+slice_size]\n",
    "            zero_ratio = calculate_zero_pixel_ratio(slice_image)\n",
    "            if(zero_ratio>0.75):\n",
    "                continue\n",
    "            new_label_lines = []\n",
    "            for line in lines:\n",
    "                label_info = line.strip().split()\n",
    "                class_id = label_info[0]\n",
    "                x_center = float(label_info[1])\n",
    "                y_center = float(label_info[2])\n",
    "                width = float(label_info[3])\n",
    "                height = float(label_info[4])\n",
    "                \n",
    "                label_x_min = math.floor((x_center * original_width) - (width * original_width / 2))\n",
    "                label_y_min = math.floor((y_center * original_height) - (height * original_height / 2))\n",
    "                label_x_max = math.ceil(label_x_min + width * original_width)\n",
    "                label_y_max = math.ceil(label_y_min + height * original_height)\n",
    "                \n",
    "                slice_x_min = slice_x\n",
    "                slice_y_min = slice_y\n",
    "                slice_x_max = slice_x + slice_size\n",
    "                slice_y_max = slice_y + slice_size\n",
    "                \n",
    "                overlap_x_min = max(label_x_min, slice_x_min)\n",
    "                overlap_y_min = max(label_y_min, slice_y_min)\n",
    "                overlap_x_max = min(label_x_max, slice_x_max)\n",
    "                overlap_y_max = min(label_y_max, slice_y_max)\n",
    "                if overlap_x_min < overlap_x_max and overlap_y_min < overlap_y_max:\n",
    "                    new_width = (overlap_x_max - overlap_x_min) / slice_size\n",
    "                    new_height = (overlap_y_max - overlap_y_min) / slice_size\n",
    "                    new_x_center = (((overlap_x_min + overlap_x_max) / 2) - slice_x_min) / slice_size\n",
    "                    new_y_center = (((overlap_y_min + overlap_y_max) / 2) - slice_y_min) / slice_size\n",
    "                    \n",
    "                    if((new_width*slice_size)*(new_height*slice_size))/((width*original_width)*(height*original_height))<0.7:\n",
    "                        continue\n",
    "                    \n",
    "                    slice_folder = \"D:/vindr-mammo/process_new2/Mass/process_image/1024_1024/311/AN\"\n",
    "                    slice_filename = os.path.join(slice_folder,f\"{file_name}_slice{num}.png\")\n",
    "                    cv2.imwrite(slice_filename, slice_image)\n",
    "                    \n",
    "                    new_x_min = math.floor((new_x_center*slice_size) - (new_width*slice_size/2))\n",
    "                    new_y_min = math.floor((new_y_center*slice_size) - (new_height*slice_size/2))\n",
    "                    new_x_max = math.ceil((new_x_center*slice_size) + (new_width*slice_size/2))\n",
    "                    new_y_max = math.ceil((new_y_center*slice_size) + (new_height*slice_size/2))\n",
    "                    \n",
    "                    label_picture = cv2.imread(slice_filename)\n",
    "                    cv2.rectangle(label_picture, (new_x_min, new_y_min), (new_x_max, new_y_max), (0, 255, 0), 2)\n",
    "                    \n",
    "                    output_label_png_folder = \"D:/vindr-mammo/process_new2/Mass/process_image/1024_1024/311/label\"\n",
    "                    output_image_path = os.path.join(output_label_png_folder, f\"{file_name}_slice{num}_label.png\")\n",
    "                    cv2.imwrite(output_image_path, label_picture)\n",
    "                    \n",
    "                    new_label_lines.append(f\"{class_id} {new_x_center:.6f} {new_y_center:.6f} {new_width:.6f} {new_height:.6f}\")\n",
    "                \n",
    "                    txt_folder = \"D:/vindr-mammo/process_new2/Mass/process_image/1024_1024/311/AN\"\n",
    "                    output_label_path = os.path.join(txt_folder, f\"{file_name}_slice{num}.txt\")\n",
    "                    with open(output_label_path, 'w') as new_label_file:\n",
    "                        new_label_file.write('\\n'.join(new_label_lines))\n",
    "                    \n",
    "                    num = num + 1\n",
    "                else :\n",
    "                    slice_folder = \"D:/vindr-mammo/process_new2/Mass/process_image/1024_1024/311/N\"\n",
    "                    slice_filename = os.path.join(slice_folder,f\"{file_name}_slice{num}.png\")\n",
    "                    cv2.imwrite(slice_filename, slice_image)\n",
    "                    \n",
    "                    txt_folder = \"D:/vindr-mammo/process_new2/Mass/process_image/1024_1024/311/N\"\n",
    "                    output_label_path = os.path.join(txt_folder, f\"{file_name}_slice{num}.txt\")\n",
    "                    with open(output_label_path, 'w') as new_label_file:\n",
    "                        new_label_file.write(\"\")\n",
    "                        \n",
    "                    num = num + 1\n",
    "\n",
    "if __name__ == \"__main__\":\n",
    "    dataset_folder = \"D:/vindr-mammo/process_new2/Mass/process_image/311\"\n",
    "    png_files = glob.glob(os.path.join(dataset_folder, \"*.png\"))\n",
    "    for png_file in png_files:\n",
    "        image = cv2.imread(png_file)\n",
    "        original_height, original_width, _ = image.shape\n",
    "        slice_size = 1024\n",
    "        if(original_height < slice_size or original_width < slice_size):\n",
    "            continue\n",
    "        else:\n",
    "            process_image(png_file, dataset_folder)\n",
    "    \n",
    "    print(\"finished\")"
   ]
  },
  {
   "cell_type": "code",
   "execution_count": 61,
   "id": "623c90b7-55a7-48a4-845d-2f248bd94083",
   "metadata": {
    "tags": []
   },
   "outputs": [
    {
     "name": "stdout",
     "output_type": "stream",
     "text": [
      "finished\n"
     ]
    }
   ],
   "source": [
    "txt_folder = \"G:/BC_dataset/Two_FULL_datasets/PHASE_2/1024x1024/mass\"\n",
    "txt_files = glob.glob(os.path.join(txt_folder, \"*.txt\"))\n",
    "\n",
    "for txt_file in txt_files:\n",
    "    file_name, file_extension = os.path.splitext(os.path.basename(txt_file))\n",
    "    label = \"\"\n",
    "    with open(txt_file, 'r') as file:\n",
    "        lines = file.readlines()\n",
    "        for line in lines:\n",
    "            parts = line.strip().split()\n",
    "        \n",
    "        if parts[0]==\"1\":\n",
    "            label_type = '0'\n",
    "            label += f\"{label_type} {parts[1]} {parts[2]} {parts[3]} {parts[4]}\\n\"\n",
    "            \n",
    "            output_label_path = os.path.join(txt_folder, f\"{file_name}.txt\")\n",
    "            with open(output_label_path, 'w') as label_file:\n",
    "                label_file.write(label)\n",
    "\n",
    "        else:\n",
    "            continue\n",
    "\n",
    "print(\"finished\")  "
   ]
  },
  {
   "cell_type": "code",
   "execution_count": 44,
   "id": "d2cf811a-51d9-4666-8935-5ca4fac9a67e",
   "metadata": {
    "tags": []
   },
   "outputs": [
    {
     "name": "stdout",
     "output_type": "stream",
     "text": [
      "finished\n"
     ]
    }
   ],
   "source": [
    "def calculate_zero_pixel_ratio(image):\n",
    "    total_pixels = image.size\n",
    "    zero_pixels = np.count_nonzero(image == 0)\n",
    "    zero_ratio = zero_pixels / total_pixels\n",
    "    return zero_ratio\n",
    "\n",
    "def process_image(image_path, label_path):\n",
    "    image = cv2.imread(image_path)\n",
    "    file_name, file_extension = os.path.splitext(os.path.basename(image_path))\n",
    "    original_height, original_width, _ = image.shape\n",
    "    slice_size = 1024\n",
    "    overlap = int(slice_size * 0.5)\n",
    "    \n",
    "    with open(label_path, 'r') as label_file:\n",
    "        lines = label_file.readlines()\n",
    "        \n",
    "    num = 0\n",
    "    \n",
    "    for slice_y in range(0, original_height -  slice_size + 1, overlap):\n",
    "        for slice_x in range(0, original_width - slice_size + 1, overlap):\n",
    "            slice_image = image[slice_y:slice_y+slice_size, slice_x:slice_x+slice_size]\n",
    "            zero_ratio = calculate_zero_pixel_ratio(slice_image)\n",
    "            new_label_lines = []\n",
    "            for line in lines:\n",
    "                label_info = line.strip().split()\n",
    "                class_id = label_info[0]\n",
    "                x_center = float(label_info[1])\n",
    "                y_center = float(label_info[2])\n",
    "                width = float(label_info[3])\n",
    "                height = float(label_info[4])\n",
    "                \n",
    "                label_x_min = math.floor((x_center * original_width) - (width * original_width / 2))\n",
    "                label_y_min = math.floor((y_center * original_height) - (height * original_height / 2))\n",
    "                label_x_max = math.ceil(label_x_min + width * original_width)\n",
    "                label_y_max = math.ceil(label_y_min + height * original_height)\n",
    "                \n",
    "                slice_x_min = slice_x\n",
    "                slice_y_min = slice_y\n",
    "                slice_x_max = slice_x + slice_size\n",
    "                slice_y_max = slice_y + slice_size\n",
    "                \n",
    "                overlap_x_min = max(label_x_min, slice_x_min)\n",
    "                overlap_y_min = max(label_y_min, slice_y_min)\n",
    "                overlap_x_max = min(label_x_max, slice_x_max)\n",
    "                overlap_y_max = min(label_y_max, slice_y_max)\n",
    "                if overlap_x_min < overlap_x_max and overlap_y_min < overlap_y_max:\n",
    "                    new_width = (overlap_x_max - overlap_x_min) / slice_size\n",
    "                    new_height = (overlap_y_max - overlap_y_min) / slice_size\n",
    "                    new_x_center = (((overlap_x_min + overlap_x_max) / 2) - slice_x_min) / slice_size\n",
    "                    new_y_center = (((overlap_y_min + overlap_y_max) / 2) - slice_y_min) / slice_size\n",
    "                    \n",
    "                    slice_folder = \"C:/Users/home/Desktop/Two_FULL_datasets/PHASE_2/slice\"\n",
    "                    slice_filename = os.path.join(slice_folder,f\"{file_name}_slice{num}.png\")\n",
    "                    cv2.imwrite(slice_filename, slice_image)\n",
    "                    \n",
    "                    new_x_min = math.floor((new_x_center*slice_size) - (new_width*slice_size/2))\n",
    "                    new_y_min = math.floor((new_y_center*slice_size) - (new_height*slice_size/2))\n",
    "                    new_x_max = math.ceil((new_x_center*slice_size) + (new_width*slice_size/2))\n",
    "                    new_y_max = math.ceil((new_y_center*slice_size) + (new_height*slice_size/2))\n",
    "                    \n",
    "                    label_picture = cv2.imread(slice_filename)\n",
    "                    cv2.rectangle(label_picture, (new_x_min, new_y_min), (new_x_max, new_y_max), (0, 255, 0), 2)\n",
    "                    \n",
    "                    output_label_png_folder = \"C:/Users/home/Desktop/Two_FULL_datasets/PHASE_2/slice_label\"\n",
    "                    output_image_path = os.path.join(output_label_png_folder, f\"{file_name}_slice{num}_label.png\")\n",
    "                    cv2.imwrite(output_image_path, label_picture)\n",
    "                    \n",
    "                    new_label_lines.append(f\"{class_id} {new_x_center:.6f} {new_y_center:.6f} {new_width:.6f} {new_height:.6f}\")\n",
    "                \n",
    "                    txt_folder = \"C:/Users/home/Desktop/Two_FULL_datasets/PHASE_2/slice_label\"\n",
    "                    output_label_path = os.path.join(txt_folder, f\"{file_name}_slice{num}_label.txt\")\n",
    "                    with open(output_label_path, 'w') as new_label_file:\n",
    "                        new_label_file.write('\\n'.join(new_label_lines))\n",
    "                    \n",
    "                    num = num + 1\n",
    "\n",
    "if __name__ == \"__main__\":\n",
    "    image_path = \"C:/Users/home/Desktop/Two_FULL_datasets/PHASE_2/00be38a5c0566291168fe381ba0028e6.png\"\n",
    "    label_path = \"C:/Users/home/Desktop/Two_FULL_datasets/PHASE_2/00be38a5c0566291168fe381ba0028e6.txt\"\n",
    "    \n",
    "    process_image(image_path, label_path)\n",
    "    print(\"finished\")"
   ]
  },
  {
   "cell_type": "markdown",
   "id": "a90d6eb6-416a-4973-aef4-74df4082b8f4",
   "metadata": {},
   "source": [
    "# PHASE_3"
   ]
  },
  {
   "cell_type": "markdown",
   "id": "3d1d0526-445d-4af1-8a5c-3c737a754373",
   "metadata": {},
   "source": [
    "## 切割lesion區域"
   ]
  },
  {
   "cell_type": "code",
   "execution_count": 3,
   "id": "c9f4ba2a-ce8a-4e84-a8fb-f803fdcab8bd",
   "metadata": {
    "tags": []
   },
   "outputs": [
    {
     "name": "stdout",
     "output_type": "stream",
     "text": [
      "finished\n"
     ]
    }
   ],
   "source": [
    "annotation_file = \"C:/Users/home/Desktop/Two_FULL_datasets/finding_annotations_mass.csv\"\n",
    "image_folder = \"C:/Users/home/Desktop/Two_FULL_datasets/M\"\n",
    "benign = \"G:/BC_dataset/Two_FULL_datasets/PHASE_3/benign\"\n",
    "malignant = \"G:/BC_dataset/Two_FULL_datasets/PHASE_3/malignant\"\n",
    "\n",
    "df = pd.read_csv(annotation_file)\n",
    "\n",
    "datas = df.values.tolist()\n",
    "\n",
    "for data in datas:\n",
    "    xmin = math.floor(data[11])\n",
    "    ymin = math.floor(data[12])\n",
    "    xmax = math.ceil(data[13])\n",
    "    ymax = math.ceil(data[14])\n",
    "    finding_birads = data[10]\n",
    "    \n",
    "    png_file = os.path.join(image_folder , f\"{data[2]}.png\")\n",
    "    image = cv2.imread(png_file)\n",
    "    process_image = image[ymin:ymax,xmin:xmax]\n",
    "\n",
    "    if(finding_birads==\"BI-RADS 4\" or finding_birads==\"BI-RADS 5\"):\n",
    "        output = os.path.join(malignant , f\"{data[2]}.png\")\n",
    "        cv2.imwrite(output , process_image)\n",
    "    \n",
    "    else:\n",
    "        output = os.path.join(benign , f\"{data[2]}.png\")\n",
    "        cv2.imwrite(output , process_image)\n",
    "        \n",
    "print(\"finished\")"
   ]
  },
  {
   "cell_type": "markdown",
   "id": "d16f17d5-c988-4495-baeb-b0fd9235e948",
   "metadata": {},
   "source": [
    "# 完整執行偵測圖片 "
   ]
  },
  {
   "cell_type": "markdown",
   "id": "a3215992-308b-4701-8992-8f360a4446bc",
   "metadata": {},
   "source": [
    "## FMD"
   ]
  },
  {
   "cell_type": "code",
   "execution_count": 9,
   "id": "10fe0596-afed-4db6-9f30-485e5070cc0e",
   "metadata": {
    "jupyter": {
     "source_hidden": true
    },
    "tags": []
   },
   "outputs": [
    {
     "name": "stdout",
     "output_type": "stream",
     "text": [
      "已執行命令。\n",
      "FMD_result.txt complete!\n"
     ]
    }
   ],
   "source": [
    "import subprocess\n",
    "import time\n",
    "\n",
    "path_to_open = \"D:/darknet-master/build/darknet/x64\"\n",
    "\n",
    "command_to_execute = \"darknet.exe detector test data/obj_FMD_test.data cfg/FMD-test.cfg weights/P1/F4_no_negative.weights -dont_show -ext_output < data/FMD_test.txt > results/FMD_result.txt\"\n",
    "\n",
    "try:\n",
    "    subprocess.Popen(f'cmd /c \"cd /d {path_to_open} && {command_to_execute}\"', shell=True, stdout=subprocess.PIPE, stderr=subprocess.PIPE)\n",
    "    \n",
    "    print(\"已執行命令。\")\n",
    "except Exception as e:\n",
    "    print(\"發生錯誤:\", str(e))\n",
    "\n",
    "time.sleep(10)\n",
    "print(\"FMD_result.txt complete!\")"
   ]
  },
  {
   "cell_type": "code",
   "execution_count": 7,
   "id": "c6b9841b-16b2-42a2-947b-45f7bf3a7da5",
   "metadata": {},
   "outputs": [
    {
     "name": "stdout",
     "output_type": "stream",
     "text": [
      "106\n",
      "[['20586908_6c613a14b80a8591_MG_R_CC_ANON'], ['20586934_6c613a14b80a8591_MG_L_CC_ANON', '0.84', '99', '2004', '330', '2234', '0.66', '616', '1130', '842', '1333'], ['20586960_6c613a14b80a8591_MG_R_ML_ANON', '0.26', '1795', '1275', '1898', '1408'], ['20586986_6c613a14b80a8591_MG_L_ML_ANON'], ['20587612_f4b2d377f43ba0bd_MG_R_CC_ANON', '0.68', '2769', '529', '3032', '767'], ['20587664_f4b2d377f43ba0bd_MG_R_ML_ANON', '0.55', '2378', '840', '2763', '1173'], ['20587758_81cd83d2f4d78528_MG_L_CC_ANON', '0.99', '188', '1068', '379', '1281'], ['20587810_81cd83d2f4d78528_MG_L_ML_ANON'], ['20587902_8dbbd4e51f549ff0_MG_R_CC_ANON', '0.98', '1528', '1084', '2411', '1752'], ['20587928_8dbbd4e51f549ff0_MG_R_ML_ANON', '0.94', '1366', '1279', '2108', '1987'], ['20587994_024ee3569b2605dc_MG_R_CC_ANON'], ['20588046_024ee3569b2605dc_MG_R_ML_ANON', '0.98', '1980', '2184', '2250', '2367'], ['20588190_8d0b9620c53c0268_MG_L_CC_ANON', '0.99', '83', '850', '289', '1105'], ['20588216_8d0b9620c53c0268_MG_L_ML_ANON', '0.98', '80', '1455', '296', '1724'], ['20588308_493155e17143edef_MG_L_ML_ANON', '1.0', '46', '1470', '360', '1881'], ['20588334_493155e17143edef_MG_L_CC_ANON', '1.0', '30', '2081', '349', '2425'], ['20588536_bf1a6aaadb05e3df_MG_L_ML_ANON', '0.98', '343', '571', '841', '1076'], ['20588562_bf1a6aaadb05e3df_MG_L_CC_ANON', '0.99', '63', '876', '672', '1506'], ['20588680_036aff49b8ac84f0_MG_L_ML_ANON', '0.99', '-55', '1153', '899', '1593', '1.0', '83', '977', '706', '1781'], ['22427705_d713ef5849f98b6c_MG_L_CC_ANON', '0.96', '33', '1592', '287', '1837', '0.28', '217', '2929', '312', '3002'], ['22427751_d713ef5849f98b6c_MG_L_ML_ANON', '0.98', '693', '1207', '945', '1413'], ['22427840_bbd6a3a35438c11b_MG_R_CC_ANON', '0.86', '1976', '802', '2457', '1290'], ['22579730_bbd6a3a35438c11b_MG_R_ML_ANON', '1.0', '1668', '926', '2033', '1375'], ['22580038_6200187f3f1ccc18_MG_L_CC_ANON', '0.94', '721', '1777', '1010', '2105'], ['22580098_6200187f3f1ccc18_MG_L_ML_ANON', '0.96', '626', '2262', '965', '2505'], ['22580192_5530d5782fc89dd7_MG_R_CC_ANON', '0.95', '1704', '1228', '1980', '1496'], ['22580244_5530d5782fc89dd7_MG_R_ML_ANON', '0.71', '1350', '1521', '1504', '1734'], ['22580341_5eae9beae14d26fd_MG_R_CC_ANON', '0.91', '1699', '996', '2448', '1753', '0.9', '1855', '1843', '2231', '2347'], ['22580367_5eae9beae14d26fd_MG_L_CC_ANON', '0.99', '289', '1139', '850', '1620'], ['22580393_5eae9beae14d26fd_MG_R_ML_ANON', '0.94', '1586', '1071', '2186', '1848'], ['22580419_5eae9beae14d26fd_MG_L_ML_ANON', '1.0', '56', '1536', '521', '2129'], ['22580654_fe7d005dcbbfb46d_MG_R_CC_ANON', '0.94', '2460', '1729', '3148', '2765'], ['22580680_fe7d005dcbbfb46d_MG_L_CC_ANON'], ['22580706_fe7d005dcbbfb46d_MG_R_ML_ANON', '0.93', '2144', '3017', '3185', '3723'], ['22580732_fe7d005dcbbfb46d_MG_L_ML_ANON', '0.93', '574', '2445', '753', '2603'], ['22613650_dcafa6ba6374ec07_MG_L_CC_ANON', '0.97', '56', '1403', '522', '1956', '0.9', '1102', '1576', '1337', '1815'], ['22613702_dcafa6ba6374ec07_MG_L_ML_ANON', '0.84', '365', '1333', '962', '1814'], ['22613770_45c7f44839fd9e68_MG_R_CC_ANON', '0.26', '1869', '1432', '3062', '1690', '0.89', '1907', '1073', '3052', '2002', '0.48', '2338', '1117', '2967', '1705'], ['22613822_45c7f44839fd9e68_MG_R_ML_ANON', '0.25', '2243', '2528', '2368', '2649', '0.98', '2335', '967', '2729', '1300'], ['22614074_6bd24a0a42c19ce1_MG_R_CC_ANON', '0.95', '1990', '1452', '2327', '1940'], ['22614127_6bd24a0a42c19ce1_MG_R_ML_ANON', '1.0', '2000', '1709', '2404', '2101'], ['22614236_1e5c3af078f74b05_MG_L_CC_ANON', '0.98', '164', '1521', '477', '1801'], ['22614266_1e5c3af078f74b05_MG_L_ML_ANON', '0.88', '356', '1301', '641', '1594'], ['22614379_d065adcb9905b973_MG_L_CC_ANON', '1.0', '26', '2490', '614', '2897', '0.93', '954', '1498', '1095', '1647'], ['22614431_d065adcb9905b973_MG_L_ML_ANON', '1.0', '27', '2440', '310', '2870', '0.73', '760', '1452', '910', '1603', '0.93', '1138', '1943', '1282', '2109'], ['22614522_2dec4948fbe6336d_MG_L_CC_ANON', '0.98', '154', '308', '347', '556'], ['22614568_2dec4948fbe6336d_MG_L_ML_ANON', '0.98', '530', '1063', '732', '1303'], ['22670094_e1f51192f7bf3f5f_MG_R_CC_ANON', '0.89', '2774', '1136', '3227', '1453'], ['22670147_e1f51192f7bf3f5f_MG_R_ML_ANON'], ['22670278_98429c0bdf78c0c7_MG_R_CC_ANON', '0.99', '1890', '1052', '2103', '1316'], ['22670324_98429c0bdf78c0c7_MG_R_ML_ANON', '0.98', '1583', '1249', '1772', '1527'], ['22670465_7e677f3d530e41ed_MG_L_CC_ANON', '0.99', '94', '1802', '470', '2501', '0.84', '232', '666', '578', '1095'], ['22670511_7e677f3d530e41ed_MG_L_ML_ANON', '0.82', '265', '925', '769', '1452', '0.72', '336', '1810', '651', '2307'], ['22670620_e15a16f87b4f9782_MG_R_CC_ANON', '0.93', '3063', '586', '3332', '836'], ['22670673_e15a16f87b4f9782_MG_R_ML_ANON', '0.77', '3037', '1216', '3336', '1414'], ['22670809_0b7396cdccacca82_MG_R_CC_ANON', '0.98', '3042', '2533', '3275', '2824'], ['22670855_0b7396cdccacca82_MG_R_ML_ANON', '0.98', '2712', '1799', '2964', '2090'], ['22678646_61b13c59bcba149e_MG_L_CC_ANON', '1.0', '113', '1585', '380', '1939'], ['22678694_61b13c59bcba149e_MG_L_ML_ANON', '0.99', '26', '2175', '308', '2451'], ['22678787_64a22c47765f0c5c_MG_R_CC_ANON', '1.0', '1983', '1660', '2462', '2241'], ['22678833_64a22c47765f0c5c_MG_R_ML_ANON', '0.99', '2195', '2245', '2527', '2701'], ['24055274_1e10aef17c9fe149_MG_L_ML_ANON', '0.97', '482', '1591', '1024', '2032', '0.82', '696', '1632', '951', '2024'], ['24055355_1e10aef17c9fe149_MG_L_CC_ANON', '1.0', '564', '1330', '1134', '1760'], ['24055445_ac3185e18ffdc7b6_MG_L_ML_ANON', '0.36', '51', '2570', '231', '2772'], ['24055464_ac3185e18ffdc7b6_MG_R_ML_ANON'], ['24055483_ac3185e18ffdc7b6_MG_L_CC_ANON'], ['24055502_ac3185e18ffdc7b6_MG_R_CC_ANON'], ['24065251_c4b995eddb3c510c_MG_L_ML_ANON', '0.39', '644', '909', '1230', '1834', '0.92', '688', '999', '1091', '1564'], ['24065289_c4b995eddb3c510c_MG_L_CC_ANON', '0.86', '310', '1742', '843', '2335'], ['24065530_d8205a09c8173f44_MG_L_ML_ANON', '0.92', '152', '1599', '743', '2706', '0.48', '172', '1849', '809', '2364', '0.26', '254', '2169', '783', '2382', '0.3', '335', '1869', '630', '2227'], ['24065707_5291e1aee2bbf5df_MG_R_ML_ANON', '0.73', '2963', '1472', '3173', '1718'], ['24065761_5291e1aee2bbf5df_MG_R_CC_ANON', '0.97', '3069', '994', '3301', '1207'], ['27829134_fbb55bf7fff48540_MG_R_CC_ANON', '0.98', '2602', '1987', '3001', '2529'], ['27829188_fbb55bf7fff48540_MG_R_ML_ANON', '0.99', '2316', '1765', '2693', '2253'], ['30011507_349323117bf0fd93_MG_L_CC_ANON', '0.86', '67', '1145', '275', '1268', '0.86', '117', '2154', '252', '2293'], ['30011553_349323117bf0fd93_MG_L_ML_ANON', '0.43', '142', '1755', '278', '1924'], ['30011674_6968748e66837bc7_MG_L_CC_ANON', '0.97', '591', '1001', '870', '1286'], ['30011727_6968748e66837bc7_MG_L_ML_ANON', '0.99', '833', '1504', '1136', '1755'], ['50994273_cc9e66c5b31baab8_MG_R_CC_ANON'], ['50994354_cc9e66c5b31baab8_MG_R_ML_ANON', '0.98', '2207', '794', '2465', '1104', '0.92', '2301', '2138', '2419', '2224'], ['50994408_cc9e66c5b31baab8_MG_R_CC_ANON'], ['50995762_0c735e8768d276b4_MG_R_ML_ANON'], ['50995789_0c735e8768d276b4_MG_R_CC_ANON', '0.85', '1962', '1197', '2059', '1283'], ['50996352_6aba0b402889a16f_MG_R_ML_ANON', '1.0', '1870', '1365', '2191', '1702'], ['50996406_6aba0b402889a16f_MG_R_CC_ANON', '1.0', '2210', '1184', '2507', '1540'], ['50997461_97ec8cadfca70d32_MG_R_ML_ANON', '0.69', '2370', '1538', '2707', '2050', '0.98', '2739', '1413', '2957', '1630'], ['50997515_97ec8cadfca70d32_MG_R_CC_ANON', '0.6', '2244', '1164', '2456', '1399', '0.67', '2586', '1276', '2906', '1744'], ['50998981_a78eba834ef6ee88_MG_R_ML_ANON', '0.88', '2050', '1075', '2270', '1325'], ['50999008_a78eba834ef6ee88_MG_R_CC_ANON', '0.99', '2252', '1153', '2450', '1438'], ['50999432_f62fbf38fb208316_MG_L_ML_ANON', '1.0', '1037', '1767', '1348', '2241'], ['50999459_f62fbf38fb208316_MG_L_CC_ANON', '1.0', '902', '1572', '1278', '2036'], ['51048738_3f22cdda8da215e3_MG_R_ML_ANON', '0.92', '2000', '2590', '2201', '2719'], ['51048765_3f22cdda8da215e3_MG_R_CC_ANON'], ['51049053_8c105bb715bf1c3c_MG_L_ML_ANON', '0.98', '616', '2341', '811', '2564'], ['51049107_8c105bb715bf1c3c_MG_L_CC_ANON', '0.99', '356', '1517', '575', '1731'], ['53580804_51bec6477a7898b9_MG_L_ML_ANON', '0.99', '160', '2384', '468', '2638'], ['53580858_51bec6477a7898b9_MG_L_CC_ANON', '1.0', '162', '1699', '419', '1981'], ['53581406_b231a8ba4dd4214f_MG_R_ML_ANON', '0.98', '1737', '1666', '1874', '1826'], ['53581460_b231a8ba4dd4214f_MG_R_CC_ANON'], ['53582656_465aa5ec1b59efc6_MG_L_ML_ANON', '0.31', '83', '1350', '758', '2155'], ['53582683_465aa5ec1b59efc6_MG_L_CC_ANON', '0.38', '213', '1762', '775', '2541', '0.32', '232', '1066', '430', '1298'], ['53586869_6ac23356b912ee9b_MG_L_ML_ANON', '1.0', '1388', '3011', '1591', '3156'], ['53586896_6ac23356b912ee9b_MG_L_CC_ANON', '0.98', '1310', '2590', '1563', '2806'], ['53586960_809e3f43339f93c6_MG_L_ML_ANON'], ['53587014_809e3f43339f93c6_MG_L_CC_ANON', '0.75', '225', '2383', '721', '2711'], ['53587663_5fb370d4c1c71974_MG_R_CC_ANON']]\n"
     ]
    }
   ],
   "source": [
    "file_path = \"D:/darknet-master/build/darknet/x64/results/FMD_result.txt\"\n",
    "FMD_data = []\n",
    "FMD_result = []\n",
    "with open(file_path, 'r') as file:\n",
    "        lines = file.readlines()\n",
    "\n",
    "for line in lines:\n",
    "    if \"C:/Users/HAUYU/Desktop/data/full\" in line or \"abnormal\" in line:\n",
    "         FMD_data.append(line)\n",
    "\n",
    "\n",
    "num = 0\n",
    "for data in FMD_data:\n",
    "    if(num==0):\n",
    "        colon_index = data.find(': Predicted')\n",
    "        data = data[:colon_index]\n",
    "        basename = os.path.basename(data).split('.')[0]\n",
    "        picture_data=[basename]\n",
    "        num = num + 1\n",
    "    else:\n",
    "        if(data.startswith('C:/Users/HAUYU/Desktop/data/full')):\n",
    "            FMD_result.append(picture_data)\n",
    "            picture_data = []\n",
    "            colon_index = data.find(': Predicted')\n",
    "            data = data[:colon_index]\n",
    "            basename = os.path.basename(data).split('.')[0]\n",
    "            picture_data=[basename]\n",
    "            num = num + 1\n",
    "            if(num == len(FMD_data)):\n",
    "                FMD_result.append(picture_data)\n",
    "        else:\n",
    "            values = []\n",
    "            values.extend(data.strip().split())\n",
    "            values[1] = float(values[1].replace('%', '')) / 100 \n",
    "            picture_data.append(str(values[1]))\n",
    "            picture_data.append(values[3])\n",
    "            picture_data.append(values[5])\n",
    "            picture_data.append(str(int(values[3])+int(values[7])))\n",
    "            values[9] = int(values[9].replace(')', ''))\n",
    "            picture_data.append(str(int(values[5])+int(values[9])))\n",
    "            num = num + 1\n",
    "            if(num == len(FMD_data)):\n",
    "                FMD_result.append(picture_data)\n",
    "print(len(FMD_result))\n",
    "print(FMD_result)"
   ]
  },
  {
   "cell_type": "markdown",
   "id": "fcac8606-5cb5-4616-b2be-31a33e498491",
   "metadata": {
    "tags": []
   },
   "source": [
    "## CMD"
   ]
  },
  {
   "cell_type": "markdown",
   "id": "0546ec0d-50c6-4e57-919c-8beed9e84a9a",
   "metadata": {},
   "source": [
    "### 剪裁測試圖片"
   ]
  },
  {
   "cell_type": "code",
   "execution_count": 8,
   "id": "d2f4ad0c-e356-4446-a07d-9794766d6bbb",
   "metadata": {},
   "outputs": [],
   "source": [
    "def calculate_zero_pixel_ratio(image):\n",
    "    total_pixels = image.size\n",
    "    zero_pixels = np.count_nonzero(image == 0)\n",
    "    zero_ratio = zero_pixels / total_pixels\n",
    "    return zero_ratio\n",
    "                                      \n",
    "if __name__ == \"__main__\":\n",
    "    dataset_folder = \"C:/Users/HAUYU/Desktop/data/full\"\n",
    "    cropped_path = \"C:/Users/HAUYU/Desktop/data/cropped\"\n",
    "    CMD_result = []\n",
    "    png_files = glob.glob(os.path.join(dataset_folder, \"*.png\"))\n",
    "    for png_file in png_files:\n",
    "        image = cv2.imread(png_file)\n",
    "        original_height, original_width, _ = image.shape\n",
    "        slice_size = 1024\n",
    "        if(original_height < slice_size or original_width < slice_size):\n",
    "            continue\n",
    "        else:\n",
    "            file_name = os.path.basename(png_file).split('.')[0]\n",
    "            original_height, original_width, _ = image.shape\n",
    "            slice_size = 1024\n",
    "            overlap = int(slice_size * 0.5)\n",
    "            num = 0\n",
    "            for slice_y in range(0, original_height -  slice_size + 1, overlap):\n",
    "                for slice_x in range(0, original_width - slice_size + 1, overlap):\n",
    "                    slice_image = image[slice_y:slice_y+slice_size, slice_x:slice_x+slice_size]\n",
    "                    zero_ratio = calculate_zero_pixel_ratio(slice_image)\n",
    "                    if(zero_ratio>0.75):\n",
    "                        continue          \n",
    "                    slice_x_min = slice_x\n",
    "                    slice_y_min = slice_y\n",
    "                    slice_x_max = slice_x + slice_size\n",
    "                    slice_y_max = slice_y + slice_size\n",
    "\n",
    "                    slice_folder = os.path.join(cropped_path,file_name)\n",
    "                    if not os.path.exists(slice_folder):\n",
    "                        os.makedirs(slice_folder)\n",
    "                    slice_filename = os.path.join(slice_folder,f\"{file_name}_slice{num}.png\")\n",
    "                    cv2.imwrite(slice_filename, slice_image)\n",
    "                    slice_basename = os.path.basename(slice_filename).split('.')[0]\n",
    "                    CMD_data = [slice_basename,str(slice_x_min),str(slice_y_min),str(slice_x_max),str(slice_y_max)]\n",
    "                    CMD_result.append(CMD_data)\n",
    "                    num = num + 1\n",
    "    \n",
    "    cropped_folder = \"C:/Users/HAUYU/Desktop/data/cropped\"\n",
    "    CMD_test = \"D:/darknet-master/build/darknet/x64/data/CMD_test.txt\"\n",
    "    subfolders = [f.path for f in os.scandir(cropped_folder) if f.is_dir()]\n",
    "    with open(CMD_test, 'w') as file:\n",
    "        for subfolder in subfolders:\n",
    "            subfolder_name = os.path.basename(subfolder)\n",
    "            png_files = [f.path for f in os.scandir(subfolder) if f.is_file() and f.name.endswith('.png')]\n",
    "            for png_file in png_files:\n",
    "                file.write(png_file + '\\n')       "
   ]
  },
  {
   "cell_type": "code",
   "execution_count": 18,
   "id": "47f132df-5c60-41da-b47b-ff7d92ed2cf3",
   "metadata": {
    "jupyter": {
     "source_hidden": true
    },
    "tags": []
   },
   "outputs": [
    {
     "name": "stdout",
     "output_type": "stream",
     "text": [
      "已執行命令。\n",
      "CMD_result.txt complete!\n"
     ]
    }
   ],
   "source": [
    "path_to_open = \"D:/darknet-master/build/darknet/x64\"\n",
    "\n",
    "command_to_execute = \"darknet.exe detector test data/obj_CMD_test.data cfg/CMD-test.cfg weights/P2/yolo-obj_best.weights -dont_show -ext_output < data/CMD_test.txt > results/CMD_result.txt\"\n",
    "\n",
    "try:\n",
    "    subprocess.Popen(f'cmd /c \"cd /d {path_to_open} && {command_to_execute}\"', shell=True, stdout=subprocess.PIPE, stderr=subprocess.PIPE)\n",
    "\n",
    "    print(\"已執行命令。\")\n",
    "except Exception as e:\n",
    "    print(\"發生錯誤:\", str(e))\n",
    "\n",
    "time.sleep(10)\n",
    "print(\"CMD_result.txt complete!\")"
   ]
  },
  {
   "cell_type": "code",
   "execution_count": 10,
   "id": "0434fd7d-7a98-40a8-b245-1147957264e4",
   "metadata": {
    "collapsed": true,
    "jupyter": {
     "outputs_hidden": true
    },
    "tags": []
   },
   "outputs": [
    {
     "name": "stdout",
     "output_type": "stream",
     "text": [
      "[['20586908_6c613a14b80a8591_MG_R_CC_ANON_slice0', '1536', '0', '2560', '1024', '0.26', '41', '-224', '930', '920', '0.26', '513', '713', '400', '239'], ['20586908_6c613a14b80a8591_MG_R_CC_ANON_slice1', '2048', '0', '3072', '1024', '0.56', '45', '706', '365', '252'], ['20586908_6c613a14b80a8591_MG_R_CC_ANON_slice2', '1024', '512', '2048', '1536'], ['20586908_6c613a14b80a8591_MG_R_CC_ANON_slice3', '1536', '512', '2560', '1536'], ['20586908_6c613a14b80a8591_MG_R_CC_ANON_slice4', '2048', '512', '3072', '1536', '0.38', '42', '202', '374', '226'], ['20586908_6c613a14b80a8591_MG_R_CC_ANON_slice5', '1024', '1024', '2048', '2048'], ['20586908_6c613a14b80a8591_MG_R_CC_ANON_slice6', '1536', '1024', '2560', '2048'], ['20586908_6c613a14b80a8591_MG_R_CC_ANON_slice7', '2048', '1024', '3072', '2048', '0.62', '325', '1', '129', '89', '0.68', '393', '588', '152', '151'], ['20586908_6c613a14b80a8591_MG_R_CC_ANON_slice8', '1024', '1536', '2048', '2560'], ['20586908_6c613a14b80a8591_MG_R_CC_ANON_slice9', '1536', '1536', '2560', '2560'], ['20586908_6c613a14b80a8591_MG_R_CC_ANON_slice10', '2048', '1536', '3072', '2560'], ['20586908_6c613a14b80a8591_MG_R_CC_ANON_slice11', '1024', '2048', '2048', '3072'], ['20586908_6c613a14b80a8591_MG_R_CC_ANON_slice12', '1536', '2048', '2560', '3072'], ['20586908_6c613a14b80a8591_MG_R_CC_ANON_slice13', '2048', '2048', '3072', '3072'], ['20586908_6c613a14b80a8591_MG_R_CC_ANON_slice14', '1536', '2560', '2560', '3584'], ['20586908_6c613a14b80a8591_MG_R_CC_ANON_slice15', '2048', '2560', '3072', '3584'], ['20586934_6c613a14b80a8591_MG_L_CC_ANON_slice0', '0', '0', '1024', '1024'], ['20586934_6c613a14b80a8591_MG_L_CC_ANON_slice1', '512', '0', '1536', '1024', '0.49', '-3', '-208', '1020', '892'], ['20586934_6c613a14b80a8591_MG_L_CC_ANON_slice2', '0', '512', '1024', '1536'], ['20586934_6c613a14b80a8591_MG_L_CC_ANON_slice3', '512', '512', '1536', '1536'], ['20586934_6c613a14b80a8591_MG_L_CC_ANON_slice4', '1024', '512', '2048', '1536'], ['20586934_6c613a14b80a8591_MG_L_CC_ANON_slice5', '0', '1024', '1024', '2048'], ['20586934_6c613a14b80a8591_MG_L_CC_ANON_slice6', '512', '1024', '1536', '2048'], ['20586934_6c613a14b80a8591_MG_L_CC_ANON_slice7', '1024', '1024', '2048', '2048'], ['20586934_6c613a14b80a8591_MG_L_CC_ANON_slice8', '0', '1536', '1024', '2560', '0.99', '96', '450', '243', '241'], ['20586934_6c613a14b80a8591_MG_L_CC_ANON_slice9', '512', '1536', '1536', '2560'], ['20586934_6c613a14b80a8591_MG_L_CC_ANON_slice10', '1024', '1536', '2048', '2560'], ['20586934_6c613a14b80a8591_MG_L_CC_ANON_slice11', '0', '2048', '1024', '3072', '0.96', '92', '-10', '259', '189'], ['20586934_6c613a14b80a8591_MG_L_CC_ANON_slice12', '512', '2048', '1536', '3072'], ['20586934_6c613a14b80a8591_MG_L_CC_ANON_slice13', '1024', '2048', '2048', '3072', '0.25', '144', '-137', '851', '1300'], ['20586934_6c613a14b80a8591_MG_L_CC_ANON_slice14', '0', '2560', '1024', '3584'], ['20586934_6c613a14b80a8591_MG_L_CC_ANON_slice15', '512', '2560', '1536', '3584'], ['20586960_6c613a14b80a8591_MG_R_ML_ANON_slice0', '1536', '0', '2560', '1024'], ['20586960_6c613a14b80a8591_MG_R_ML_ANON_slice1', '2048', '0', '3072', '1024', '0.9', '393', '805', '279', '180'], ['20586960_6c613a14b80a8591_MG_R_ML_ANON_slice2', '1024', '512', '2048', '1536'], ['20586960_6c613a14b80a8591_MG_R_ML_ANON_slice3', '1536', '512', '2560', '1536'], ['20586960_6c613a14b80a8591_MG_R_ML_ANON_slice4', '2048', '512', '3072', '1536', '0.45', '13', '735', '335', '260'], ['20586960_6c613a14b80a8591_MG_R_ML_ANON_slice5', '512', '1024', '1536', '2048'], ['20586960_6c613a14b80a8591_MG_R_ML_ANON_slice6', '1024', '1024', '2048', '2048'], ['20586960_6c613a14b80a8591_MG_R_ML_ANON_slice7', '1536', '1024', '2560', '2048'], ['20586960_6c613a14b80a8591_MG_R_ML_ANON_slice8', '2048', '1024', '3072', '2048'], ['20586960_6c613a14b80a8591_MG_R_ML_ANON_slice9', '512', '1536', '1536', '2560'], ['20586960_6c613a14b80a8591_MG_R_ML_ANON_slice10', '1024', '1536', '2048', '2560'], ['20586960_6c613a14b80a8591_MG_R_ML_ANON_slice11', '1536', '1536', '2560', '2560'], ['20586960_6c613a14b80a8591_MG_R_ML_ANON_slice12', '2048', '1536', '3072', '2560'], ['20586960_6c613a14b80a8591_MG_R_ML_ANON_slice13', '1024', '2048', '2048', '3072'], ['20586960_6c613a14b80a8591_MG_R_ML_ANON_slice14', '1536', '2048', '2560', '3072'], ['20586960_6c613a14b80a8591_MG_R_ML_ANON_slice15', '2048', '2048', '3072', '3072'], ['20586960_6c613a14b80a8591_MG_R_ML_ANON_slice16', '1024', '2560', '2048', '3584'], ['20586960_6c613a14b80a8591_MG_R_ML_ANON_slice17', '1536', '2560', '2560', '3584'], ['20586960_6c613a14b80a8591_MG_R_ML_ANON_slice18', '2048', '2560', '3072', '3584'], ['20586986_6c613a14b80a8591_MG_L_ML_ANON_slice0', '0', '0', '1024', '1024'], ['20586986_6c613a14b80a8591_MG_L_ML_ANON_slice1', '512', '0', '1536', '1024'], ['20586986_6c613a14b80a8591_MG_L_ML_ANON_slice2', '1024', '0', '2048', '1024'], ['20586986_6c613a14b80a8591_MG_L_ML_ANON_slice3', '0', '512', '1024', '1536'], ['20586986_6c613a14b80a8591_MG_L_ML_ANON_slice4', '512', '512', '1536', '1536'], ['20586986_6c613a14b80a8591_MG_L_ML_ANON_slice5', '1024', '512', '2048', '1536'], ['20586986_6c613a14b80a8591_MG_L_ML_ANON_slice6', '0', '1024', '1024', '2048'], ['20586986_6c613a14b80a8591_MG_L_ML_ANON_slice7', '512', '1024', '1536', '2048'], ['20586986_6c613a14b80a8591_MG_L_ML_ANON_slice8', '1024', '1024', '2048', '2048'], ['20586986_6c613a14b80a8591_MG_L_ML_ANON_slice9', '1536', '1024', '2560', '2048'], ['20586986_6c613a14b80a8591_MG_L_ML_ANON_slice10', '0', '1536', '1024', '2560', '0.93', '101', '775', '306', '253'], ['20586986_6c613a14b80a8591_MG_L_ML_ANON_slice11', '512', '1536', '1536', '2560'], ['20586986_6c613a14b80a8591_MG_L_ML_ANON_slice12', '1024', '1536', '2048', '2560'], ['20586986_6c613a14b80a8591_MG_L_ML_ANON_slice13', '1536', '1536', '2560', '2560'], ['20586986_6c613a14b80a8591_MG_L_ML_ANON_slice14', '0', '2048', '1024', '3072', '0.9', '61', '247', '380', '362'], ['20586986_6c613a14b80a8591_MG_L_ML_ANON_slice15', '512', '2048', '1536', '3072'], ['20586986_6c613a14b80a8591_MG_L_ML_ANON_slice16', '1024', '2048', '2048', '3072'], ['20586986_6c613a14b80a8591_MG_L_ML_ANON_slice17', '0', '2560', '1024', '3584'], ['20586986_6c613a14b80a8591_MG_L_ML_ANON_slice18', '512', '2560', '1536', '3584'], ['20587612_f4b2d377f43ba0bd_MG_R_CC_ANON_slice0', '1536', '0', '2560', '1024', '0.37', '-13', '-163', '1034', '806'], ['20587612_f4b2d377f43ba0bd_MG_R_CC_ANON_slice1', '2048', '0', '3072', '1024', '1.0', '671', '502', '357', '304'], ['20587612_f4b2d377f43ba0bd_MG_R_CC_ANON_slice2', '1536', '512', '2560', '1536'], ['20587612_f4b2d377f43ba0bd_MG_R_CC_ANON_slice3', '2048', '512', '3072', '1536', '1.0', '678', '2', '343', '301'], ['20587612_f4b2d377f43ba0bd_MG_R_CC_ANON_slice4', '1024', '1024', '2048', '2048'], ['20587612_f4b2d377f43ba0bd_MG_R_CC_ANON_slice5', '1536', '1024', '2560', '2048'], ['20587612_f4b2d377f43ba0bd_MG_R_CC_ANON_slice6', '2048', '1024', '3072', '2048'], ['20587612_f4b2d377f43ba0bd_MG_R_CC_ANON_slice7', '1024', '1536', '2048', '2560'], ['20587612_f4b2d377f43ba0bd_MG_R_CC_ANON_slice8', '1536', '1536', '2560', '2560'], ['20587612_f4b2d377f43ba0bd_MG_R_CC_ANON_slice9', '2048', '1536', '3072', '2560'], ['20587612_f4b2d377f43ba0bd_MG_R_CC_ANON_slice10', '1024', '2048', '2048', '3072'], ['20587612_f4b2d377f43ba0bd_MG_R_CC_ANON_slice11', '1536', '2048', '2560', '3072'], ['20587612_f4b2d377f43ba0bd_MG_R_CC_ANON_slice12', '2048', '2048', '3072', '3072'], ['20587612_f4b2d377f43ba0bd_MG_R_CC_ANON_slice13', '1536', '2560', '2560', '3584'], ['20587612_f4b2d377f43ba0bd_MG_R_CC_ANON_slice14', '2048', '2560', '3072', '3584'], ['20587664_f4b2d377f43ba0bd_MG_R_ML_ANON_slice0', '1536', '0', '2560', '1024', '0.91', '868', '857', '158', '174'], ['20587664_f4b2d377f43ba0bd_MG_R_ML_ANON_slice1', '2048', '0', '3072', '1024', '0.97', '317', '850', '395', '176'], ['20587664_f4b2d377f43ba0bd_MG_R_ML_ANON_slice2', '1024', '512', '2048', '1536'], ['20587664_f4b2d377f43ba0bd_MG_R_ML_ANON_slice3', '1536', '512', '2560', '1536', '0.96', '865', '355', '168', '236'], ['20587664_f4b2d377f43ba0bd_MG_R_ML_ANON_slice4', '2048', '512', '3072', '1536', '1.0', '349', '333', '338', '307'], ['20587664_f4b2d377f43ba0bd_MG_R_ML_ANON_slice5', '1024', '1024', '2048', '2048'], ['20587664_f4b2d377f43ba0bd_MG_R_ML_ANON_slice6', '1536', '1024', '2560', '2048'], ['20587664_f4b2d377f43ba0bd_MG_R_ML_ANON_slice7', '2048', '1024', '3072', '2048', '0.5', '347', '3', '303', '101'], ['20587664_f4b2d377f43ba0bd_MG_R_ML_ANON_slice8', '1024', '1536', '2048', '2560'], ['20587664_f4b2d377f43ba0bd_MG_R_ML_ANON_slice9', '1536', '1536', '2560', '2560'], ['20587664_f4b2d377f43ba0bd_MG_R_ML_ANON_slice10', '2048', '1536', '3072', '2560'], ['20587664_f4b2d377f43ba0bd_MG_R_ML_ANON_slice11', '1024', '2048', '2048', '3072'], ['20587664_f4b2d377f43ba0bd_MG_R_ML_ANON_slice12', '1536', '2048', '2560', '3072'], ['20587664_f4b2d377f43ba0bd_MG_R_ML_ANON_slice13', '2048', '2048', '3072', '3072'], ['20587664_f4b2d377f43ba0bd_MG_R_ML_ANON_slice14', '1024', '2560', '2048', '3584', '0.66', '-108', '309', '1104', '825'], ['20587664_f4b2d377f43ba0bd_MG_R_ML_ANON_slice15', '1536', '2560', '2560', '3584'], ['20587664_f4b2d377f43ba0bd_MG_R_ML_ANON_slice16', '2048', '2560', '3072', '3584'], ['20587758_81cd83d2f4d78528_MG_L_CC_ANON_slice0', '0', '0', '1024', '1024'], ['20587758_81cd83d2f4d78528_MG_L_CC_ANON_slice1', '512', '0', '1536', '1024', '0.51', '-20', '-178', '1052', '838'], ['20587758_81cd83d2f4d78528_MG_L_CC_ANON_slice2', '0', '512', '1024', '1536', '0.54', '191', '572', '181', '178'], ['20587758_81cd83d2f4d78528_MG_L_CC_ANON_slice3', '512', '512', '1536', '1536'], ['20587758_81cd83d2f4d78528_MG_L_CC_ANON_slice4', '0', '1024', '1024', '2048'], ['20587758_81cd83d2f4d78528_MG_L_CC_ANON_slice5', '512', '1024', '1536', '2048'], ['20587758_81cd83d2f4d78528_MG_L_CC_ANON_slice6', '1024', '1024', '2048', '2048'], ['20587758_81cd83d2f4d78528_MG_L_CC_ANON_slice7', '0', '1536', '1024', '2560'], ['20587758_81cd83d2f4d78528_MG_L_CC_ANON_slice8', '512', '1536', '1536', '2560'], ['20587758_81cd83d2f4d78528_MG_L_CC_ANON_slice9', '1024', '1536', '2048', '2560'], ['20587758_81cd83d2f4d78528_MG_L_CC_ANON_slice10', '0', '2048', '1024', '3072'], ['20587758_81cd83d2f4d78528_MG_L_CC_ANON_slice11', '512', '2048', '1536', '3072'], ['20587810_81cd83d2f4d78528_MG_L_ML_ANON_slice0', '0', '0', '1024', '1024'], ['20587810_81cd83d2f4d78528_MG_L_ML_ANON_slice1', '512', '0', '1536', '1024'], ['20587810_81cd83d2f4d78528_MG_L_ML_ANON_slice2', '0', '512', '1024', '1536'], ['20587810_81cd83d2f4d78528_MG_L_ML_ANON_slice3', '512', '512', '1536', '1536'], ['20587810_81cd83d2f4d78528_MG_L_ML_ANON_slice4', '0', '1024', '1024', '2048'], ['20587810_81cd83d2f4d78528_MG_L_ML_ANON_slice5', '512', '1024', '1536', '2048'], ['20587810_81cd83d2f4d78528_MG_L_ML_ANON_slice6', '1024', '1024', '2048', '2048'], ['20587810_81cd83d2f4d78528_MG_L_ML_ANON_slice7', '0', '1536', '1024', '2560'], ['20587810_81cd83d2f4d78528_MG_L_ML_ANON_slice8', '512', '1536', '1536', '2560'], ['20587810_81cd83d2f4d78528_MG_L_ML_ANON_slice9', '1024', '1536', '2048', '2560'], ['20587810_81cd83d2f4d78528_MG_L_ML_ANON_slice10', '0', '2048', '1024', '3072'], ['20587810_81cd83d2f4d78528_MG_L_ML_ANON_slice11', '512', '2048', '1536', '3072'], ['20587810_81cd83d2f4d78528_MG_L_ML_ANON_slice12', '1024', '2048', '2048', '3072', '0.42', '-61', '-154', '1006', '1339'], ['20587902_8dbbd4e51f549ff0_MG_R_CC_ANON_slice0', '1536', '0', '2560', '1024'], ['20587902_8dbbd4e51f549ff0_MG_R_CC_ANON_slice1', '1024', '512', '2048', '1536', '0.38', '521', '474', '520', '510'], ['20587902_8dbbd4e51f549ff0_MG_R_CC_ANON_slice2', '1536', '512', '2560', '1536', '0.43', '9', '110', '994', '808'], ['20587902_8dbbd4e51f549ff0_MG_R_CC_ANON_slice3', '1024', '1024', '2048', '2048', '0.98', '467', '0', '616', '875'], ['20587902_8dbbd4e51f549ff0_MG_R_CC_ANON_slice4', '1536', '1024', '2560', '2048', '1.0', '-175', '28', '1256', '801'], ['20587902_8dbbd4e51f549ff0_MG_R_CC_ANON_slice5', '1024', '1536', '2048', '2560', '0.42', '-62', '342', '1007', '889', '0.58', '590', '-10', '394', '351'], ['20587902_8dbbd4e51f549ff0_MG_R_CC_ANON_slice6', '1536', '1536', '2560', '2560', '0.96', '57', '2', '532', '313'], ['20587902_8dbbd4e51f549ff0_MG_R_CC_ANON_slice7', '1536', '2048', '2560', '3072', '0.68', '-125', '328', '1139', '787'], ['20587928_8dbbd4e51f549ff0_MG_R_ML_ANON_slice0', '1024', '0', '2048', '1024', '0.46', '559', '781', '464', '241'], ['20587928_8dbbd4e51f549ff0_MG_R_ML_ANON_slice1', '1536', '0', '2560', '1024'], ['20587928_8dbbd4e51f549ff0_MG_R_ML_ANON_slice2', '1024', '512', '2048', '1536', '0.91', '392', '767', '500', '254'], ['20587928_8dbbd4e51f549ff0_MG_R_ML_ANON_slice3', '1536', '512', '2560', '1536', '0.97', '-15', '756', '396', '275'], ['20587928_8dbbd4e51f549ff0_MG_R_ML_ANON_slice4', '1024', '1024', '2048', '2048', '0.99', '287', '248', '714', '774'], ['20587928_8dbbd4e51f549ff0_MG_R_ML_ANON_slice5', '1536', '1024', '2560', '2048', '0.81', '7', '236', '450', '710'], ['20587928_8dbbd4e51f549ff0_MG_R_ML_ANON_slice6', '1024', '1536', '2048', '2560', '0.98', '307', '9', '673', '475'], ['20587928_8dbbd4e51f549ff0_MG_R_ML_ANON_slice7', '1536', '1536', '2560', '2560', '0.48', '2', '20', '470', '421'], ['20587928_8dbbd4e51f549ff0_MG_R_ML_ANON_slice8', '1536', '2048', '2560', '3072'], ['20587994_024ee3569b2605dc_MG_R_CC_ANON_slice0', '1024', '0', '2048', '1024'], ['20587994_024ee3569b2605dc_MG_R_CC_ANON_slice1', '1536', '0', '2560', '1024'], ['20587994_024ee3569b2605dc_MG_R_CC_ANON_slice2', '1024', '512', '2048', '1536'], ['20587994_024ee3569b2605dc_MG_R_CC_ANON_slice3', '1536', '512', '2560', '1536'], ['20587994_024ee3569b2605dc_MG_R_CC_ANON_slice4', '512', '1024', '1536', '2048'], ['20587994_024ee3569b2605dc_MG_R_CC_ANON_slice5', '1024', '1024', '2048', '2048'], ['20587994_024ee3569b2605dc_MG_R_CC_ANON_slice6', '1536', '1024', '2560', '2048'], ['20587994_024ee3569b2605dc_MG_R_CC_ANON_slice7', '512', '1536', '1536', '2560'], ['20587994_024ee3569b2605dc_MG_R_CC_ANON_slice8', '1024', '1536', '2048', '2560'], ['20587994_024ee3569b2605dc_MG_R_CC_ANON_slice9', '1536', '1536', '2560', '2560', '0.88', '393', '385', '276', '253'], ['20587994_024ee3569b2605dc_MG_R_CC_ANON_slice10', '1024', '2048', '2048', '3072'], ['20587994_024ee3569b2605dc_MG_R_CC_ANON_slice11', '1536', '2048', '2560', '3072', '0.42', '413', '1', '236', '107'], ['20588046_024ee3569b2605dc_MG_R_ML_ANON_slice0', '1024', '0', '2048', '1024'], ['20588046_024ee3569b2605dc_MG_R_ML_ANON_slice1', '1536', '0', '2560', '1024'], ['20588046_024ee3569b2605dc_MG_R_ML_ANON_slice2', '512', '512', '1536', '1536'], ['20588046_024ee3569b2605dc_MG_R_ML_ANON_slice3', '1024', '512', '2048', '1536'], ['20588046_024ee3569b2605dc_MG_R_ML_ANON_slice4', '1536', '512', '2560', '1536'], ['20588046_024ee3569b2605dc_MG_R_ML_ANON_slice5', '512', '1024', '1536', '2048'], ['20588046_024ee3569b2605dc_MG_R_ML_ANON_slice6', '1024', '1024', '2048', '2048'], ['20588046_024ee3569b2605dc_MG_R_ML_ANON_slice7', '1536', '1024', '2560', '2048'], ['20588046_024ee3569b2605dc_MG_R_ML_ANON_slice8', '512', '1536', '1536', '2560'], ['20588046_024ee3569b2605dc_MG_R_ML_ANON_slice9', '1024', '1536', '2048', '2560'], ['20588046_024ee3569b2605dc_MG_R_ML_ANON_slice10', '1536', '1536', '2560', '2560', '0.98', '410', '608', '329', '251'], ['20588046_024ee3569b2605dc_MG_R_ML_ANON_slice11', '512', '2048', '1536', '3072', '0.35', '-76', '271', '1032', '895'], ['20588046_024ee3569b2605dc_MG_R_ML_ANON_slice12', '1024', '2048', '2048', '3072'], ['20588046_024ee3569b2605dc_MG_R_ML_ANON_slice13', '1536', '2048', '2560', '3072', '0.99', '426', '95', '296', '259'], ['20588190_8d0b9620c53c0268_MG_L_CC_ANON_slice0', '0', '0', '1024', '1024', '0.89', '62', '839', '262', '186'], ['20588190_8d0b9620c53c0268_MG_L_CC_ANON_slice1', '0', '512', '1024', '1536', '0.99', '74', '341', '231', '246'], ['20588190_8d0b9620c53c0268_MG_L_CC_ANON_slice2', '512', '512', '1536', '1536'], ['20588190_8d0b9620c53c0268_MG_L_CC_ANON_slice3', '0', '1024', '1024', '2048'], ['20588190_8d0b9620c53c0268_MG_L_CC_ANON_slice4', '512', '1024', '1536', '2048'], ['20588190_8d0b9620c53c0268_MG_L_CC_ANON_slice5', '0', '1536', '1024', '2560'], ['20588190_8d0b9620c53c0268_MG_L_CC_ANON_slice6', '512', '1536', '1536', '2560'], ['20588190_8d0b9620c53c0268_MG_L_CC_ANON_slice7', '0', '2048', '1024', '3072'], ['20588190_8d0b9620c53c0268_MG_L_CC_ANON_slice8', '512', '2048', '1536', '3072'], ['20588216_8d0b9620c53c0268_MG_L_ML_ANON_slice0', '0', '0', '1024', '1024', '0.84', '350', '903', '143', '122'], ['20588216_8d0b9620c53c0268_MG_L_ML_ANON_slice1', '512', '0', '1536', '1024'], ['20588216_8d0b9620c53c0268_MG_L_ML_ANON_slice2', '0', '512', '1024', '1536'], ['20588216_8d0b9620c53c0268_MG_L_ML_ANON_slice3', '512', '512', '1536', '1536'], ['20588216_8d0b9620c53c0268_MG_L_ML_ANON_slice4', '0', '1024', '1024', '2048', '0.99', '71', '418', '235', '300'], ['20588216_8d0b9620c53c0268_MG_L_ML_ANON_slice5', '512', '1024', '1536', '2048'], ['20588216_8d0b9620c53c0268_MG_L_ML_ANON_slice6', '1024', '1024', '2048', '2048'], ['20588216_8d0b9620c53c0268_MG_L_ML_ANON_slice7', '0', '1536', '1024', '2560', '0.38', '46', '-6', '261', '226'], ['20588216_8d0b9620c53c0268_MG_L_ML_ANON_slice8', '512', '1536', '1536', '2560'], ['20588216_8d0b9620c53c0268_MG_L_ML_ANON_slice9', '1024', '1536', '2048', '2560'], ['20588216_8d0b9620c53c0268_MG_L_ML_ANON_slice10', '0', '2048', '1024', '3072'], ['20588216_8d0b9620c53c0268_MG_L_ML_ANON_slice11', '512', '2048', '1536', '3072'], ['20588308_493155e17143edef_MG_L_ML_ANON_slice0', '0', '0', '1024', '1024', '0.38', '12', '2', '307', '1009'], ['20588308_493155e17143edef_MG_L_ML_ANON_slice1', '0', '512', '1024', '1536'], ['20588308_493155e17143edef_MG_L_ML_ANON_slice2', '512', '512', '1536', '1536'], ['20588308_493155e17143edef_MG_L_ML_ANON_slice3', '0', '1024', '1024', '2048', '1.0', '26', '484', '376', '347'], ['20588308_493155e17143edef_MG_L_ML_ANON_slice4', '512', '1024', '1536', '2048'], ['20588308_493155e17143edef_MG_L_ML_ANON_slice5', '0', '1536', '1024', '2560', '0.99', '19', '5', '399', '313'], ['20588308_493155e17143edef_MG_L_ML_ANON_slice6', '512', '1536', '1536', '2560'], ['20588308_493155e17143edef_MG_L_ML_ANON_slice7', '0', '2048', '1024', '3072'], ['20588334_493155e17143edef_MG_L_CC_ANON_slice0', '0', '512', '1024', '1536'], ['20588334_493155e17143edef_MG_L_CC_ANON_slice1', '0', '1024', '1024', '2048'], ['20588334_493155e17143edef_MG_L_CC_ANON_slice2', '512', '1024', '1536', '2048'], ['20588334_493155e17143edef_MG_L_CC_ANON_slice3', '0', '1536', '1024', '2560', '1.0', '-0', '527', '366', '348'], ['20588334_493155e17143edef_MG_L_CC_ANON_slice4', '512', '1536', '1536', '2560'], ['20588334_493155e17143edef_MG_L_CC_ANON_slice5', '0', '2048', '1024', '3072', '1.0', '3', '29', '363', '334'], ['20588536_bf1a6aaadb05e3df_MG_L_ML_ANON_slice0', '0', '0', '1024', '1024', '0.97', '86', '471', '858', '513'], ['20588536_bf1a6aaadb05e3df_MG_L_ML_ANON_slice1', '512', '0', '1536', '1024', '1.0', '0', '460', '360', '553'], ['20588536_bf1a6aaadb05e3df_MG_L_ML_ANON_slice2', '0', '512', '1024', '1536', '0.96', '210', '14', '632', '571'], ['20588536_bf1a6aaadb05e3df_MG_L_ML_ANON_slice3', '512', '512', '1536', '1536', '1.0', '9', '12', '332', '574'], ['20588536_bf1a6aaadb05e3df_MG_L_ML_ANON_slice4', '0', '1024', '1024', '2048', '0.58', '845', '877', '181', '147'], ['20588536_bf1a6aaadb05e3df_MG_L_ML_ANON_slice5', '512', '1024', '1536', '2048'], ['20588536_bf1a6aaadb05e3df_MG_L_ML_ANON_slice6', '1024', '1024', '2048', '2048'], ['20588536_bf1a6aaadb05e3df_MG_L_ML_ANON_slice7', '0', '1536', '1024', '2560'], ['20588536_bf1a6aaadb05e3df_MG_L_ML_ANON_slice8', '512', '1536', '1536', '2560'], ['20588536_bf1a6aaadb05e3df_MG_L_ML_ANON_slice9', '1024', '1536', '2048', '2560'], ['20588536_bf1a6aaadb05e3df_MG_L_ML_ANON_slice10', '0', '2048', '1024', '3072'], ['20588536_bf1a6aaadb05e3df_MG_L_ML_ANON_slice11', '512', '2048', '1536', '3072'], ['20588536_bf1a6aaadb05e3df_MG_L_ML_ANON_slice12', '1024', '2048', '2048', '3072'], ['20588562_bf1a6aaadb05e3df_MG_L_CC_ANON_slice0', '0', '0', '1024', '1024', '0.56', '-30', '-168', '1071', '821', '0.82', '115', '836', '664', '187'], ['20588562_bf1a6aaadb05e3df_MG_L_CC_ANON_slice1', '0', '512', '1024', '1536', '0.99', '39', '316', '660', '667'], ['20588562_bf1a6aaadb05e3df_MG_L_CC_ANON_slice2', '512', '512', '1536', '1536', '0.68', '-1', '297', '224', '696'], ['20588562_bf1a6aaadb05e3df_MG_L_CC_ANON_slice3', '0', '1024', '1024', '2048', '1.0', '45', '-3', '642', '484'], ['20588562_bf1a6aaadb05e3df_MG_L_CC_ANON_slice4', '512', '1024', '1536', '2048', '0.94', '-4', '11', '178', '432'], ['20588562_bf1a6aaadb05e3df_MG_L_CC_ANON_slice5', '1024', '1024', '2048', '2048', '0.69', '-6', '257', '158', '271'], ['20588562_bf1a6aaadb05e3df_MG_L_CC_ANON_slice6', '0', '1536', '1024', '2560'], ['20588562_bf1a6aaadb05e3df_MG_L_CC_ANON_slice7', '512', '1536', '1536', '2560'], ['20588562_bf1a6aaadb05e3df_MG_L_CC_ANON_slice8', '1024', '1536', '2048', '2560'], ['20588562_bf1a6aaadb05e3df_MG_L_CC_ANON_slice9', '0', '2048', '1024', '3072'], ['20588562_bf1a6aaadb05e3df_MG_L_CC_ANON_slice10', '512', '2048', '1536', '3072'], ['20588562_bf1a6aaadb05e3df_MG_L_CC_ANON_slice11', '1024', '2048', '2048', '3072'], ['20588680_036aff49b8ac84f0_MG_L_ML_ANON_slice0', '0', '0', '1024', '1024'], ['20588680_036aff49b8ac84f0_MG_L_ML_ANON_slice1', '512', '0', '1536', '1024'], ['20588680_036aff49b8ac84f0_MG_L_ML_ANON_slice2', '0', '512', '1024', '1536', '0.98', '-79', '534', '1035', '491'], ['20588680_036aff49b8ac84f0_MG_L_ML_ANON_slice3', '512', '512', '1536', '1536'], ['20588680_036aff49b8ac84f0_MG_L_ML_ANON_slice4', '1024', '512', '2048', '1536'], ['20588680_036aff49b8ac84f0_MG_L_ML_ANON_slice5', '0', '1024', '1024', '2048', '0.99', '-46', '-3', '957', '787'], ['20588680_036aff49b8ac84f0_MG_L_ML_ANON_slice6', '512', '1024', '1536', '2048', '0.97', '-6', '27', '354', '721'], ['20588680_036aff49b8ac84f0_MG_L_ML_ANON_slice7', '1024', '1024', '2048', '2048'], ['20588680_036aff49b8ac84f0_MG_L_ML_ANON_slice8', '0', '1536', '1024', '2560', '0.64', '46', '-48', '806', '328'], ['20588680_036aff49b8ac84f0_MG_L_ML_ANON_slice9', '512', '1536', '1536', '2560', '0.92', '-1', '-6', '313', '250'], ['20588680_036aff49b8ac84f0_MG_L_ML_ANON_slice10', '1024', '1536', '2048', '2560'], ['20588680_036aff49b8ac84f0_MG_L_ML_ANON_slice11', '1536', '1536', '2560', '2560', '0.45', '-8', '156', '179', '340'], ['20588680_036aff49b8ac84f0_MG_L_ML_ANON_slice12', '0', '2048', '1024', '3072'], ['20588680_036aff49b8ac84f0_MG_L_ML_ANON_slice13', '512', '2048', '1536', '3072'], ['20588680_036aff49b8ac84f0_MG_L_ML_ANON_slice14', '1024', '2048', '2048', '3072'], ['20588680_036aff49b8ac84f0_MG_L_ML_ANON_slice15', '0', '2560', '1024', '3584'], ['20588680_036aff49b8ac84f0_MG_L_ML_ANON_slice16', '512', '2560', '1536', '3584'], ['20588680_036aff49b8ac84f0_MG_L_ML_ANON_slice17', '1024', '2560', '2048', '3584'], ['22427705_d713ef5849f98b6c_MG_L_CC_ANON_slice0', '0', '0', '1024', '1024', '0.34', '29', '-211', '967', '889'], ['22427705_d713ef5849f98b6c_MG_L_CC_ANON_slice1', '0', '512', '1024', '1536'], ['22427705_d713ef5849f98b6c_MG_L_CC_ANON_slice2', '512', '512', '1536', '1536', '0.59', '1', '363', '201', '264'], ['22427705_d713ef5849f98b6c_MG_L_CC_ANON_slice3', '0', '1024', '1024', '2048', '1.0', '26', '553', '245', '275'], ['22427705_d713ef5849f98b6c_MG_L_CC_ANON_slice4', '512', '1024', '1536', '2048'], ['22427705_d713ef5849f98b6c_MG_L_CC_ANON_slice5', '1024', '1024', '2048', '2048', '0.27', '9', '198', '445', '749'], ['22427705_d713ef5849f98b6c_MG_L_CC_ANON_slice6', '0', '1536', '1024', '2560', '1.0', '29', '53', '239', '259'], ['22427705_d713ef5849f98b6c_MG_L_CC_ANON_slice7', '512', '1536', '1536', '2560'], ['22427705_d713ef5849f98b6c_MG_L_CC_ANON_slice8', '1024', '1536', '2048', '2560'], ['22427705_d713ef5849f98b6c_MG_L_CC_ANON_slice9', '0', '2048', '1024', '3072'], ['22427705_d713ef5849f98b6c_MG_L_CC_ANON_slice10', '512', '2048', '1536', '3072'], ['22427705_d713ef5849f98b6c_MG_L_CC_ANON_slice11', '1024', '2048', '2048', '3072'], ['22427705_d713ef5849f98b6c_MG_L_CC_ANON_slice12', '0', '2560', '1024', '3584'], ['22427705_d713ef5849f98b6c_MG_L_CC_ANON_slice13', '512', '2560', '1536', '3584'], ['22427751_d713ef5849f98b6c_MG_L_ML_ANON_slice0', '0', '0', '1024', '1024', '0.39', '-33', '53', '825', '924'], ['22427751_d713ef5849f98b6c_MG_L_ML_ANON_slice1', '512', '0', '1536', '1024'], ['22427751_d713ef5849f98b6c_MG_L_ML_ANON_slice2', '0', '512', '1024', '1536', '1.0', '680', '683', '263', '248'], ['22427751_d713ef5849f98b6c_MG_L_ML_ANON_slice3', '512', '512', '1536', '1536', '1.0', '168', '692', '273', '231'], ['22427751_d713ef5849f98b6c_MG_L_ML_ANON_slice4', '1024', '512', '2048', '1536'], ['22427751_d713ef5849f98b6c_MG_L_ML_ANON_slice5', '0', '1024', '1024', '2048', '0.99', '696', '168', '255', '248'], ['22427751_d713ef5849f98b6c_MG_L_ML_ANON_slice6', '512', '1024', '1536', '2048', '1.0', '167', '164', '276', '256'], ['22427751_d713ef5849f98b6c_MG_L_ML_ANON_slice7', '1024', '1024', '2048', '2048'], ['22427751_d713ef5849f98b6c_MG_L_ML_ANON_slice8', '0', '1536', '1024', '2560'], ['22427751_d713ef5849f98b6c_MG_L_ML_ANON_slice9', '512', '1536', '1536', '2560', '0.58', '721', '718', '278', '310'], ['22427751_d713ef5849f98b6c_MG_L_ML_ANON_slice10', '1024', '1536', '2048', '2560'], ['22427751_d713ef5849f98b6c_MG_L_ML_ANON_slice11', '0', '2048', '1024', '3072'], ['22427751_d713ef5849f98b6c_MG_L_ML_ANON_slice12', '512', '2048', '1536', '3072'], ['22427751_d713ef5849f98b6c_MG_L_ML_ANON_slice13', '1024', '2048', '2048', '3072'], ['22427751_d713ef5849f98b6c_MG_L_ML_ANON_slice14', '0', '2560', '1024', '3584'], ['22427751_d713ef5849f98b6c_MG_L_ML_ANON_slice15', '512', '2560', '1536', '3584'], ['22427751_d713ef5849f98b6c_MG_L_ML_ANON_slice16', '1024', '2560', '2048', '3584'], ['22427840_bbd6a3a35438c11b_MG_R_CC_ANON_slice0', '1536', '512', '2560', '1536'], ['22427840_bbd6a3a35438c11b_MG_R_CC_ANON_slice1', '1024', '1024', '2048', '2048'], ['22427840_bbd6a3a35438c11b_MG_R_CC_ANON_slice2', '1536', '1024', '2560', '2048', '0.98', '495', '-1', '415', '302'], ['22427840_bbd6a3a35438c11b_MG_R_CC_ANON_slice3', '1024', '1536', '2048', '2560'], ['22427840_bbd6a3a35438c11b_MG_R_CC_ANON_slice4', '1536', '1536', '2560', '2560'], ['22427840_bbd6a3a35438c11b_MG_R_CC_ANON_slice5', '1536', '2048', '2560', '3072'], ['22579730_bbd6a3a35438c11b_MG_R_ML_ANON_slice0', '1024', '0', '2048', '1024'], ['22579730_bbd6a3a35438c11b_MG_R_ML_ANON_slice1', '1536', '0', '2560', '1024', '0.33', '88', '867', '573', '152'], ['22579730_bbd6a3a35438c11b_MG_R_ML_ANON_slice2', '1024', '512', '2048', '1536', '1.0', '611', '396', '396', '505'], ['22579730_bbd6a3a35438c11b_MG_R_ML_ANON_slice3', '1536', '512', '2560', '1536', '1.0', '88', '395', '453', '496', '0.7', '546', '351', '156', '172'], ['22579730_bbd6a3a35438c11b_MG_R_ML_ANON_slice4', '1024', '1024', '2048', '2048', '1.0', '623', '12', '372', '350'], ['22579730_bbd6a3a35438c11b_MG_R_ML_ANON_slice5', '1536', '1024', '2560', '2048', '1.0', '109', '19', '417', '334'], ['22579730_bbd6a3a35438c11b_MG_R_ML_ANON_slice6', '1024', '1536', '2048', '2560'], ['22579730_bbd6a3a35438c11b_MG_R_ML_ANON_slice7', '1536', '1536', '2560', '2560'], ['22579730_bbd6a3a35438c11b_MG_R_ML_ANON_slice8', '1024', '2048', '2048', '3072', '0.32', '-62', '384', '1012', '812'], ['22579730_bbd6a3a35438c11b_MG_R_ML_ANON_slice9', '1536', '2048', '2560', '3072'], ['22580038_6200187f3f1ccc18_MG_L_CC_ANON_slice0', '0', '0', '1024', '1024'], ['22580038_6200187f3f1ccc18_MG_L_CC_ANON_slice1', '512', '0', '1536', '1024', '0.37', '-6', '-169', '1026', '815'], ['22580038_6200187f3f1ccc18_MG_L_CC_ANON_slice2', '0', '512', '1024', '1536'], ['22580038_6200187f3f1ccc18_MG_L_CC_ANON_slice3', '512', '512', '1536', '1536'], ['22580038_6200187f3f1ccc18_MG_L_CC_ANON_slice4', '1024', '512', '2048', '1536'], ['22580038_6200187f3f1ccc18_MG_L_CC_ANON_slice5', '0', '1024', '1024', '2048', '0.95', '700', '676', '315', '360'], ['22580038_6200187f3f1ccc18_MG_L_CC_ANON_slice6', '512', '1024', '1536', '2048', '0.94', '197', '678', '313', '356'], ['22580038_6200187f3f1ccc18_MG_L_CC_ANON_slice7', '1024', '1024', '2048', '2048'], ['22580038_6200187f3f1ccc18_MG_L_CC_ANON_slice8', '0', '1536', '1024', '2560', '1.0', '699', '183', '303', '377'], ['22580038_6200187f3f1ccc18_MG_L_CC_ANON_slice9', '512', '1536', '1536', '2560', '0.94', '188', '169', '331', '398'], ['22580038_6200187f3f1ccc18_MG_L_CC_ANON_slice10', '0', '2048', '1024', '3072', '0.28', '650', '0', '372', '51'], ['22580038_6200187f3f1ccc18_MG_L_CC_ANON_slice11', '512', '2048', '1536', '3072', '0.27', '-27', '370', '1060', '832'], ['22580098_6200187f3f1ccc18_MG_L_ML_ANON_slice0', '0', '0', '1024', '1024'], ['22580098_6200187f3f1ccc18_MG_L_ML_ANON_slice1', '512', '0', '1536', '1024'], ['22580098_6200187f3f1ccc18_MG_L_ML_ANON_slice2', '0', '512', '1024', '1536', '0.92', '812', '783', '219', '243'], ['22580098_6200187f3f1ccc18_MG_L_ML_ANON_slice3', '512', '512', '1536', '1536', '0.51', '291', '789', '327', '230'], ['22580098_6200187f3f1ccc18_MG_L_ML_ANON_slice4', '1024', '512', '2048', '1536'], ['22580098_6200187f3f1ccc18_MG_L_ML_ANON_slice5', '0', '1024', '1024', '2048'], ['22580098_6200187f3f1ccc18_MG_L_ML_ANON_slice6', '512', '1024', '1536', '2048'], ['22580098_6200187f3f1ccc18_MG_L_ML_ANON_slice7', '1024', '1024', '2048', '2048'], ['22580098_6200187f3f1ccc18_MG_L_ML_ANON_slice8', '0', '1536', '1024', '2560', '1.0', '597', '708', '335', '313'], ['22580098_6200187f3f1ccc18_MG_L_ML_ANON_slice9', '512', '1536', '1536', '2560', '1.0', '86', '701', '336', '315'], ['22580098_6200187f3f1ccc18_MG_L_ML_ANON_slice10', '1024', '1536', '2048', '2560'], ['22580098_6200187f3f1ccc18_MG_L_ML_ANON_slice11', '0', '2048', '1024', '3072', '0.99', '602', '198', '349', '304'], ['22580098_6200187f3f1ccc18_MG_L_ML_ANON_slice12', '512', '2048', '1536', '3072', '0.3', '31', '425', '946', '724', '0.97', '90', '201', '340', '300'], ['22580192_5530d5782fc89dd7_MG_R_CC_ANON_slice0', '1024', '0', '2048', '1024', '0.32', '-21', '-190', '1048', '853'], ['22580192_5530d5782fc89dd7_MG_R_CC_ANON_slice1', '1536', '0', '2560', '1024', '0.44', '-36', '-155', '1089', '645'], ['22580192_5530d5782fc89dd7_MG_R_CC_ANON_slice2', '512', '512', '1536', '1536'], ['22580192_5530d5782fc89dd7_MG_R_CC_ANON_slice3', '1024', '512', '2048', '1536', '0.68', '691', '729', '286', '249'], ['22580192_5530d5782fc89dd7_MG_R_CC_ANON_slice4', '1536', '512', '2560', '1536', '0.93', '175', '731', '278', '240'], ['22580192_5530d5782fc89dd7_MG_R_CC_ANON_slice5', '512', '1024', '1536', '2048'], ['22580192_5530d5782fc89dd7_MG_R_CC_ANON_slice6', '1024', '1024', '2048', '2048'], ['22580192_5530d5782fc89dd7_MG_R_CC_ANON_slice7', '1536', '1024', '2560', '2048', '0.47', '167', '236', '291', '224'], ['22580192_5530d5782fc89dd7_MG_R_CC_ANON_slice8', '512', '1536', '1536', '2560'], ['22580192_5530d5782fc89dd7_MG_R_CC_ANON_slice9', '1024', '1536', '2048', '2560'], ['22580192_5530d5782fc89dd7_MG_R_CC_ANON_slice10', '1536', '1536', '2560', '2560'], ['22580192_5530d5782fc89dd7_MG_R_CC_ANON_slice11', '1024', '2048', '2048', '3072'], ['22580192_5530d5782fc89dd7_MG_R_CC_ANON_slice12', '1536', '2048', '2560', '3072'], ['22580244_5530d5782fc89dd7_MG_R_ML_ANON_slice0', '1024', '0', '2048', '1024'], ['22580244_5530d5782fc89dd7_MG_R_ML_ANON_slice1', '1536', '0', '2560', '1024'], ['22580244_5530d5782fc89dd7_MG_R_ML_ANON_slice2', '512', '512', '1536', '1536'], ['22580244_5530d5782fc89dd7_MG_R_ML_ANON_slice3', '1024', '512', '2048', '1536'], ['22580244_5530d5782fc89dd7_MG_R_ML_ANON_slice4', '1536', '512', '2560', '1536'], ['22580244_5530d5782fc89dd7_MG_R_ML_ANON_slice5', '512', '1024', '1536', '2048', '0.69', '843', '472', '167', '240'], ['22580244_5530d5782fc89dd7_MG_R_ML_ANON_slice6', '1024', '1024', '2048', '2048', '0.4', '339', '474', '159', '243'], ['22580244_5530d5782fc89dd7_MG_R_ML_ANON_slice7', '1536', '1024', '2560', '2048'], ['22580244_5530d5782fc89dd7_MG_R_ML_ANON_slice8', '512', '1536', '1536', '2560', '0.68', '837', '-3', '171', '212'], ['22580244_5530d5782fc89dd7_MG_R_ML_ANON_slice9', '1024', '1536', '2048', '2560', '0.79', '334', '-9', '169', '212'], ['22580244_5530d5782fc89dd7_MG_R_ML_ANON_slice10', '1536', '1536', '2560', '2560'], ['22580244_5530d5782fc89dd7_MG_R_ML_ANON_slice11', '512', '2048', '1536', '3072'], ['22580244_5530d5782fc89dd7_MG_R_ML_ANON_slice12', '1024', '2048', '2048', '3072'], ['22580244_5530d5782fc89dd7_MG_R_ML_ANON_slice13', '1536', '2048', '2560', '3072'], ['22580341_5eae9beae14d26fd_MG_R_CC_ANON_slice0', '1536', '0', '2560', '1024', '0.27', '-65', '-176', '1023', '971'], ['22580341_5eae9beae14d26fd_MG_R_CC_ANON_slice1', '1024', '512', '2048', '1536'], ['22580341_5eae9beae14d26fd_MG_R_CC_ANON_slice2', '1536', '512', '2560', '1536', '0.95', '89', '323', '834', '792'], ['22580341_5eae9beae14d26fd_MG_R_CC_ANON_slice3', '1024', '1024', '2048', '2048'], ['22580341_5eae9beae14d26fd_MG_R_CC_ANON_slice4', '1536', '1024', '2560', '2048', '1.0', '22', '8', '990', '750', '0.97', '336', '826', '354', '197'], ['22580341_5eae9beae14d26fd_MG_R_CC_ANON_slice5', '1024', '1536', '2048', '2560'], ['22580341_5eae9beae14d26fd_MG_R_CC_ANON_slice6', '1536', '1536', '2560', '2560', '0.99', '298', '313', '409', '416'], ['22580341_5eae9beae14d26fd_MG_R_CC_ANON_slice7', '1536', '2048', '2560', '3072', '0.88', '284', '3', '439', '223'], ['22580367_5eae9beae14d26fd_MG_L_CC_ANON_slice0', '0', '0', '1024', '1024', '0.35', '17', '-175', '988', '827', '0.75', '28', '871', '395', '152'], ['22580367_5eae9beae14d26fd_MG_L_CC_ANON_slice1', '0', '512', '1024', '1536', '0.98', '270', '646', '592', '365'], ['22580367_5eae9beae14d26fd_MG_L_CC_ANON_slice2', '512', '512', '1536', '1536', '0.97', '1', '529', '346', '511'], ['22580367_5eae9beae14d26fd_MG_L_CC_ANON_slice3', '0', '1024', '1024', '2048', '1.0', '255', '120', '544', '506'], ['22580367_5eae9beae14d26fd_MG_L_CC_ANON_slice4', '512', '1024', '1536', '2048', '0.98', '12', '58', '271', '620'], ['22580367_5eae9beae14d26fd_MG_L_CC_ANON_slice5', '0', '1536', '1024', '2560'], ['22580367_5eae9beae14d26fd_MG_L_CC_ANON_slice6', '512', '1536', '1536', '2560', '0.26', '127', '-224', '891', '1466'], ['22580367_5eae9beae14d26fd_MG_L_CC_ANON_slice7', '0', '2048', '1024', '3072', '0.8', '328', '7', '243', '213'], ['22580393_5eae9beae14d26fd_MG_R_ML_ANON_slice0', '1024', '0', '2048', '1024'], ['22580393_5eae9beae14d26fd_MG_R_ML_ANON_slice1', '1536', '0', '2560', '1024'], ['22580393_5eae9beae14d26fd_MG_R_ML_ANON_slice2', '1024', '512', '2048', '1536', '0.5', '562', '544', '452', '463'], ['22580393_5eae9beae14d26fd_MG_R_ML_ANON_slice3', '1536', '512', '2560', '1536', '0.99', '43', '547', '557', '492'], ['22580393_5eae9beae14d26fd_MG_R_ML_ANON_slice4', '1024', '1024', '2048', '2048', '0.29', '560', '83', '453', '711'], ['22580393_5eae9beae14d26fd_MG_R_ML_ANON_slice5', '1536', '1024', '2560', '2048', '0.87', '51', '26', '639', '835'], ['22580393_5eae9beae14d26fd_MG_R_ML_ANON_slice6', '1024', '1536', '2048', '2560', '0.42', '575', '-3', '425', '227'], ['22580393_5eae9beae14d26fd_MG_R_ML_ANON_slice7', '1536', '1536', '2560', '2560', '0.46', '110', '1', '535', '223'], ['22580393_5eae9beae14d26fd_MG_R_ML_ANON_slice8', '1536', '2048', '2560', '3072', '0.33', '-64', '395', '1026', '790'], ['22580419_5eae9beae14d26fd_MG_L_ML_ANON_slice0', '0', '0', '1024', '1024'], ['22580419_5eae9beae14d26fd_MG_L_ML_ANON_slice1', '512', '0', '1536', '1024'], ['22580419_5eae9beae14d26fd_MG_L_ML_ANON_slice2', '0', '512', '1024', '1536', '0.33', '413', '572', '493', '441'], ['22580419_5eae9beae14d26fd_MG_L_ML_ANON_slice3', '512', '512', '1536', '1536'], ['22580419_5eae9beae14d26fd_MG_L_ML_ANON_slice4', '0', '1024', '1024', '2048', '1.0', '21', '618', '526', '387'], ['22580419_5eae9beae14d26fd_MG_L_ML_ANON_slice5', '512', '1024', '1536', '2048'], ['22580419_5eae9beae14d26fd_MG_L_ML_ANON_slice6', '0', '1536', '1024', '2560', '1.0', '44', '99', '480', '453'], ['22580419_5eae9beae14d26fd_MG_L_ML_ANON_slice7', '512', '1536', '1536', '2560'], ['22580419_5eae9beae14d26fd_MG_L_ML_ANON_slice8', '0', '2048', '1024', '3072'], ['22580654_fe7d005dcbbfb46d_MG_R_CC_ANON_slice0', '2048', '0', '3072', '1024', '0.3', '-41', '-11', '969', '1045', '0.6', '-36', '-171', '1078', '827'], ['22580654_fe7d005dcbbfb46d_MG_R_CC_ANON_slice1', '1536', '512', '2560', '1536'], ['22580654_fe7d005dcbbfb46d_MG_R_CC_ANON_slice2', '2048', '512', '3072', '1536'], ['22580654_fe7d005dcbbfb46d_MG_R_CC_ANON_slice3', '1536', '1024', '2560', '2048', '0.92', '831', '801', '193', '223'], ['22580654_fe7d005dcbbfb46d_MG_R_CC_ANON_slice4', '2048', '1024', '3072', '2048', '0.98', '337', '727', '649', '302'], ['22580654_fe7d005dcbbfb46d_MG_R_CC_ANON_slice5', '1536', '1536', '2560', '2560', '0.96', '779', '240', '245', '816'], ['22580654_fe7d005dcbbfb46d_MG_R_CC_ANON_slice6', '2048', '1536', '3072', '2560', '0.85', '312', '39', '673', '1187', '0.97', '349', '252', '592', '526'], ['22580654_fe7d005dcbbfb46d_MG_R_CC_ANON_slice7', '1536', '2048', '2560', '3072', '0.93', '781', '-7', '238', '643'], ['22580654_fe7d005dcbbfb46d_MG_R_CC_ANON_slice8', '2048', '2048', '3072', '3072', '0.99', '247', '-96', '785', '830'], ['22580654_fe7d005dcbbfb46d_MG_R_CC_ANON_slice9', '2048', '2560', '3072', '3584', '0.94', '373', '4', '688', '215'], ['22580680_fe7d005dcbbfb46d_MG_L_CC_ANON_slice0', '0', '0', '1024', '1024', '0.36', '12', '-188', '995', '852'], ['22580680_fe7d005dcbbfb46d_MG_L_CC_ANON_slice1', '0', '512', '1024', '1536'], ['22580680_fe7d005dcbbfb46d_MG_L_CC_ANON_slice2', '512', '512', '1536', '1536'], ['22580680_fe7d005dcbbfb46d_MG_L_CC_ANON_slice3', '0', '1024', '1024', '2048'], ['22580680_fe7d005dcbbfb46d_MG_L_CC_ANON_slice4', '512', '1024', '1536', '2048'], ['22580680_fe7d005dcbbfb46d_MG_L_CC_ANON_slice5', '0', '1536', '1024', '2560'], ['22580680_fe7d005dcbbfb46d_MG_L_CC_ANON_slice6', '512', '1536', '1536', '2560'], ['22580680_fe7d005dcbbfb46d_MG_L_CC_ANON_slice7', '0', '2048', '1024', '3072'], ['22580680_fe7d005dcbbfb46d_MG_L_CC_ANON_slice8', '512', '2048', '1536', '3072'], ['22580680_fe7d005dcbbfb46d_MG_L_CC_ANON_slice9', '0', '2560', '1024', '3584'], ['22580706_fe7d005dcbbfb46d_MG_R_ML_ANON_slice0', '1536', '0', '2560', '1024'], ['22580706_fe7d005dcbbfb46d_MG_R_ML_ANON_slice1', '2048', '0', '3072', '1024', '0.48', '-52', '313', '1119', '812'], ['22580706_fe7d005dcbbfb46d_MG_R_ML_ANON_slice2', '1536', '512', '2560', '1536'], ['22580706_fe7d005dcbbfb46d_MG_R_ML_ANON_slice3', '2048', '512', '3072', '1536', '0.88', '-23', '-33', '1053', '1087'], ['22580706_fe7d005dcbbfb46d_MG_R_ML_ANON_slice4', '1536', '1024', '2560', '2048'], ['22580706_fe7d005dcbbfb46d_MG_R_ML_ANON_slice5', '2048', '1024', '3072', '2048', '0.98', '857', '544', '173', '455'], ['22580706_fe7d005dcbbfb46d_MG_R_ML_ANON_slice6', '1536', '1536', '2560', '2560'], ['22580706_fe7d005dcbbfb46d_MG_R_ML_ANON_slice7', '2048', '1536', '3072', '2560', '0.98', '855', '17', '176', '494'], ['22580706_fe7d005dcbbfb46d_MG_R_ML_ANON_slice8', '1024', '2048', '2048', '3072'], ['22580706_fe7d005dcbbfb46d_MG_R_ML_ANON_slice9', '1536', '2048', '2560', '3072', '0.33', '903', '858', '123', '162'], ['22580706_fe7d005dcbbfb46d_MG_R_ML_ANON_slice10', '2048', '2048', '3072', '3072', '0.43', '370', '816', '559', '210'], ['22580706_fe7d005dcbbfb46d_MG_R_ML_ANON_slice11', '1024', '2560', '2048', '3584'], ['22580706_fe7d005dcbbfb46d_MG_R_ML_ANON_slice12', '1536', '2560', '2560', '3584', '0.98', '646', '530', '370', '497'], ['22580706_fe7d005dcbbfb46d_MG_R_ML_ANON_slice13', '2048', '2560', '3072', '3584', '0.98', '157', '164', '840', '989'], ['22580732_fe7d005dcbbfb46d_MG_L_ML_ANON_slice0', '0', '0', '1024', '1024'], ['22580732_fe7d005dcbbfb46d_MG_L_ML_ANON_slice1', '0', '512', '1024', '1536'], ['22580732_fe7d005dcbbfb46d_MG_L_ML_ANON_slice2', '512', '512', '1536', '1536'], ['22580732_fe7d005dcbbfb46d_MG_L_ML_ANON_slice3', '0', '1024', '1024', '2048'], ['22580732_fe7d005dcbbfb46d_MG_L_ML_ANON_slice4', '512', '1024', '1536', '2048'], ['22580732_fe7d005dcbbfb46d_MG_L_ML_ANON_slice5', '0', '1536', '1024', '2560', '0.52', '562', '898', '188', '127'], ['22580732_fe7d005dcbbfb46d_MG_L_ML_ANON_slice6', '512', '1536', '1536', '2560'], ['22580732_fe7d005dcbbfb46d_MG_L_ML_ANON_slice7', '0', '2048', '1024', '3072', '0.82', '560', '404', '191', '159'], ['22580732_fe7d005dcbbfb46d_MG_L_ML_ANON_slice8', '512', '2048', '1536', '3072', '0.97', '51', '406', '189', '159'], ['22580732_fe7d005dcbbfb46d_MG_L_ML_ANON_slice9', '1024', '2048', '2048', '3072'], ['22580732_fe7d005dcbbfb46d_MG_L_ML_ANON_slice10', '0', '2560', '1024', '3584'], ['22580732_fe7d005dcbbfb46d_MG_L_ML_ANON_slice11', '512', '2560', '1536', '3584'], ['22613650_dcafa6ba6374ec07_MG_L_CC_ANON_slice0', '0', '0', '1024', '1024', '0.52', '-15', '-176', '1045', '830'], ['22613650_dcafa6ba6374ec07_MG_L_CC_ANON_slice1', '0', '512', '1024', '1536', '0.78', '86', '845', '449', '173'], ['22613650_dcafa6ba6374ec07_MG_L_CC_ANON_slice2', '512', '512', '1536', '1536'], ['22613650_dcafa6ba6374ec07_MG_L_CC_ANON_slice3', '0', '1024', '1024', '2048', '0.99', '-23', '231', '678', '823'], ['22613650_dcafa6ba6374ec07_MG_L_CC_ANON_slice4', '512', '1024', '1536', '2048', '0.34', '482', '439', '351', '406'], ['22613650_dcafa6ba6374ec07_MG_L_CC_ANON_slice5', '1024', '1024', '2048', '2048'], ['22613650_dcafa6ba6374ec07_MG_L_CC_ANON_slice6', '0', '1536', '1024', '2560', '1.0', '25', '-10', '556', '519'], ['22613650_dcafa6ba6374ec07_MG_L_CC_ANON_slice7', '512', '1536', '1536', '2560'], ['22613650_dcafa6ba6374ec07_MG_L_CC_ANON_slice8', '1024', '1536', '2048', '2560', '0.31', '7', '-5', '324', '316'], ['22613650_dcafa6ba6374ec07_MG_L_CC_ANON_slice9', '0', '2048', '1024', '3072'], ['22613650_dcafa6ba6374ec07_MG_L_CC_ANON_slice10', '512', '2048', '1536', '3072'], ['22613650_dcafa6ba6374ec07_MG_L_CC_ANON_slice11', '1024', '2048', '2048', '3072'], ['22613650_dcafa6ba6374ec07_MG_L_CC_ANON_slice12', '0', '2560', '1024', '3584'], ['22613650_dcafa6ba6374ec07_MG_L_CC_ANON_slice13', '512', '2560', '1536', '3584', '0.56', '-10', '321', '1018', '800'], ['22613702_dcafa6ba6374ec07_MG_L_ML_ANON_slice0', '0', '0', '1024', '1024'], ['22613702_dcafa6ba6374ec07_MG_L_ML_ANON_slice1', '0', '512', '1024', '1536', '0.78', '383', '700', '530', '327'], ['22613702_dcafa6ba6374ec07_MG_L_ML_ANON_slice2', '512', '512', '1536', '1536'], ['22613702_dcafa6ba6374ec07_MG_L_ML_ANON_slice3', '0', '1024', '1024', '2048', '0.97', '365', '213', '572', '633'], ['22613702_dcafa6ba6374ec07_MG_L_ML_ANON_slice4', '512', '1024', '1536', '2048', '0.91', '2', '252', '486', '635'], ['22613702_dcafa6ba6374ec07_MG_L_ML_ANON_slice5', '0', '1536', '1024', '2560', '0.99', '434', '5', '560', '309'], ['22613702_dcafa6ba6374ec07_MG_L_ML_ANON_slice6', '512', '1536', '1536', '2560', '1.0', '-2', '6', '499', '314'], ['22613702_dcafa6ba6374ec07_MG_L_ML_ANON_slice7', '1024', '1536', '2048', '2560'], ['22613702_dcafa6ba6374ec07_MG_L_ML_ANON_slice8', '0', '2048', '1024', '3072'], ['22613702_dcafa6ba6374ec07_MG_L_ML_ANON_slice9', '512', '2048', '1536', '3072'], ['22613702_dcafa6ba6374ec07_MG_L_ML_ANON_slice10', '1024', '2048', '2048', '3072'], ['22613702_dcafa6ba6374ec07_MG_L_ML_ANON_slice11', '0', '2560', '1024', '3584'], ['22613702_dcafa6ba6374ec07_MG_L_ML_ANON_slice12', '512', '2560', '1536', '3584'], ['22613770_45c7f44839fd9e68_MG_R_CC_ANON_slice0', '2048', '512', '3072', '1536', '0.26', '-3', '581', '1028', '421'], ['22613770_45c7f44839fd9e68_MG_R_CC_ANON_slice1', '1536', '1024', '2560', '2048'], ['22613770_45c7f44839fd9e68_MG_R_CC_ANON_slice2', '2048', '1024', '3072', '2048', '0.97', '-10', '109', '898', '829'], ['22613770_45c7f44839fd9e68_MG_R_CC_ANON_slice3', '1536', '1536', '2560', '2560'], ['22613770_45c7f44839fd9e68_MG_R_CC_ANON_slice4', '2048', '1536', '3072', '2560', '0.42', '-34', '-14', '827', '634'], ['22613770_45c7f44839fd9e68_MG_R_CC_ANON_slice5', '1536', '2048', '2560', '3072'], ['22613770_45c7f44839fd9e68_MG_R_CC_ANON_slice6', '2048', '2048', '3072', '3072'], ['22613770_45c7f44839fd9e68_MG_R_CC_ANON_slice7', '1536', '2560', '2560', '3584', '0.39', '-67', '372', '1025', '835'], ['22613770_45c7f44839fd9e68_MG_R_CC_ANON_slice8', '2048', '2560', '3072', '3584'], ['22613822_45c7f44839fd9e68_MG_R_ML_ANON_slice0', '2048', '0', '3072', '1024'], ['22613822_45c7f44839fd9e68_MG_R_ML_ANON_slice1', '1536', '512', '2560', '1536', '0.82', '709', '415', '302', '451'], ['22613822_45c7f44839fd9e68_MG_R_ML_ANON_slice2', '2048', '512', '3072', '1536', '0.92', '137', '384', '627', '501'], ['22613822_45c7f44839fd9e68_MG_R_ML_ANON_slice3', '1536', '1024', '2560', '2048', '0.91', '788', '-24', '225', '352'], ['22613822_45c7f44839fd9e68_MG_R_ML_ANON_slice4', '2048', '1024', '3072', '2048', '0.97', '265', '5', '465', '299'], ['22613822_45c7f44839fd9e68_MG_R_ML_ANON_slice5', '1536', '1536', '2560', '2560'], ['22613822_45c7f44839fd9e68_MG_R_ML_ANON_slice6', '2048', '1536', '3072', '2560'], ['22613822_45c7f44839fd9e68_MG_R_ML_ANON_slice7', '1536', '2048', '2560', '3072'], ['22613822_45c7f44839fd9e68_MG_R_ML_ANON_slice8', '2048', '2048', '3072', '3072'], ['22613822_45c7f44839fd9e68_MG_R_ML_ANON_slice9', '2048', '2560', '3072', '3584'], ['22614074_6bd24a0a42c19ce1_MG_R_CC_ANON_slice0', '1536', '0', '2560', '1024', '0.28', '-9', '-282', '1027', '1036'], ['22614074_6bd24a0a42c19ce1_MG_R_CC_ANON_slice1', '2048', '0', '3072', '1024'], ['22614074_6bd24a0a42c19ce1_MG_R_CC_ANON_slice2', '1024', '512', '2048', '1536'], ['22614074_6bd24a0a42c19ce1_MG_R_CC_ANON_slice3', '1536', '512', '2560', '1536'], ['22614074_6bd24a0a42c19ce1_MG_R_CC_ANON_slice4', '2048', '512', '3072', '1536'], ['22614074_6bd24a0a42c19ce1_MG_R_CC_ANON_slice5', '512', '1024', '1536', '2048'], ['22614074_6bd24a0a42c19ce1_MG_R_CC_ANON_slice6', '1024', '1024', '2048', '2048', '0.31', '942', '498', '81', '263'], ['22614074_6bd24a0a42c19ce1_MG_R_CC_ANON_slice7', '1536', '1024', '2560', '2048', '1.0', '412', '454', '389', '414'], ['22614074_6bd24a0a42c19ce1_MG_R_CC_ANON_slice8', '2048', '1024', '3072', '2048', '1.0', '1', '440', '290', '442'], ['22614074_6bd24a0a42c19ce1_MG_R_CC_ANON_slice9', '512', '1536', '1536', '2560'], ['22614074_6bd24a0a42c19ce1_MG_R_CC_ANON_slice10', '1024', '1536', '2048', '2560'], ['22614074_6bd24a0a42c19ce1_MG_R_CC_ANON_slice11', '1536', '1536', '2560', '2560', '1.0', '429', '4', '385', '358'], ['22614074_6bd24a0a42c19ce1_MG_R_CC_ANON_slice12', '2048', '1536', '3072', '2560', '1.0', '6', '-26', '279', '415'], ['22614074_6bd24a0a42c19ce1_MG_R_CC_ANON_slice13', '512', '2048', '1536', '3072'], ['22614074_6bd24a0a42c19ce1_MG_R_CC_ANON_slice14', '1024', '2048', '2048', '3072'], ['22614074_6bd24a0a42c19ce1_MG_R_CC_ANON_slice15', '1536', '2048', '2560', '3072'], ['22614074_6bd24a0a42c19ce1_MG_R_CC_ANON_slice16', '2048', '2048', '3072', '3072'], ['22614074_6bd24a0a42c19ce1_MG_R_CC_ANON_slice17', '512', '2560', '1536', '3584', '0.62', '-82', '283', '1051', '875'], ['22614074_6bd24a0a42c19ce1_MG_R_CC_ANON_slice18', '1024', '2560', '2048', '3584'], ['22614074_6bd24a0a42c19ce1_MG_R_CC_ANON_slice19', '1536', '2560', '2560', '3584'], ['22614074_6bd24a0a42c19ce1_MG_R_CC_ANON_slice20', '2048', '2560', '3072', '3584'], ['22614127_6bd24a0a42c19ce1_MG_R_ML_ANON_slice0', '1536', '0', '2560', '1024'], ['22614127_6bd24a0a42c19ce1_MG_R_ML_ANON_slice1', '2048', '0', '3072', '1024', '0.29', '948', '552', '74', '299'], ['22614127_6bd24a0a42c19ce1_MG_R_ML_ANON_slice2', '1024', '512', '2048', '1536'], ['22614127_6bd24a0a42c19ce1_MG_R_ML_ANON_slice3', '1536', '512', '2560', '1536'], ['22614127_6bd24a0a42c19ce1_MG_R_ML_ANON_slice4', '2048', '512', '3072', '1536'], ['22614127_6bd24a0a42c19ce1_MG_R_ML_ANON_slice5', '512', '1024', '1536', '2048'], ['22614127_6bd24a0a42c19ce1_MG_R_ML_ANON_slice6', '1024', '1024', '2048', '2048'], ['22614127_6bd24a0a42c19ce1_MG_R_ML_ANON_slice7', '1536', '1024', '2560', '2048', '1.0', '448', '704', '428', '306'], ['22614127_6bd24a0a42c19ce1_MG_R_ML_ANON_slice8', '2048', '1024', '3072', '2048', '1.0', '1', '692', '373', '345'], ['22614127_6bd24a0a42c19ce1_MG_R_ML_ANON_slice9', '512', '1536', '1536', '2560'], ['22614127_6bd24a0a42c19ce1_MG_R_ML_ANON_slice10', '1024', '1536', '2048', '2560'], ['22614127_6bd24a0a42c19ce1_MG_R_ML_ANON_slice11', '1536', '1536', '2560', '2560', '1.0', '468', '181', '391', '392'], ['22614127_6bd24a0a42c19ce1_MG_R_ML_ANON_slice12', '2048', '1536', '3072', '2560', '1.0', '17', '199', '333', '375'], ['22614127_6bd24a0a42c19ce1_MG_R_ML_ANON_slice13', '512', '2048', '1536', '3072'], ['22614127_6bd24a0a42c19ce1_MG_R_ML_ANON_slice14', '1024', '2048', '2048', '3072'], ['22614127_6bd24a0a42c19ce1_MG_R_ML_ANON_slice15', '1536', '2048', '2560', '3072'], ['22614127_6bd24a0a42c19ce1_MG_R_ML_ANON_slice16', '2048', '2048', '3072', '3072'], ['22614127_6bd24a0a42c19ce1_MG_R_ML_ANON_slice17', '512', '2560', '1536', '3584'], ['22614127_6bd24a0a42c19ce1_MG_R_ML_ANON_slice18', '1024', '2560', '2048', '3584'], ['22614127_6bd24a0a42c19ce1_MG_R_ML_ANON_slice19', '1536', '2560', '2560', '3584'], ['22614127_6bd24a0a42c19ce1_MG_R_ML_ANON_slice20', '2048', '2560', '3072', '3584', '0.26', '235', '535', '126', '145'], ['22614236_1e5c3af078f74b05_MG_L_CC_ANON_slice0', '0', '0', '1024', '1024', '0.25', '63', '-226', '890', '919'], ['22614236_1e5c3af078f74b05_MG_L_CC_ANON_slice1', '0', '512', '1024', '1536'], ['22614236_1e5c3af078f74b05_MG_L_CC_ANON_slice2', '512', '512', '1536', '1536'], ['22614236_1e5c3af078f74b05_MG_L_CC_ANON_slice3', '0', '1024', '1024', '2048', '0.99', '137', '505', '354', '267'], ['22614236_1e5c3af078f74b05_MG_L_CC_ANON_slice4', '512', '1024', '1536', '2048'], ['22614236_1e5c3af078f74b05_MG_L_CC_ANON_slice5', '0', '1536', '1024', '2560', '0.99', '149', '3', '340', '251'], ['22614236_1e5c3af078f74b05_MG_L_CC_ANON_slice6', '512', '1536', '1536', '2560'], ['22614236_1e5c3af078f74b05_MG_L_CC_ANON_slice7', '0', '2048', '1024', '3072'], ['22614236_1e5c3af078f74b05_MG_L_CC_ANON_slice8', '512', '2048', '1536', '3072', '0.38', '-26', '366', '1058', '840'], ['22614266_1e5c3af078f74b05_MG_L_ML_ANON_slice0', '0', '0', '1024', '1024', '0.72', '-5', '533', '90', '190'], ['22614266_1e5c3af078f74b05_MG_L_ML_ANON_slice1', '512', '0', '1536', '1024'], ['22614266_1e5c3af078f74b05_MG_L_ML_ANON_slice2', '0', '512', '1024', '1536', '0.84', '352', '816', '300', '209'], ['22614266_1e5c3af078f74b05_MG_L_ML_ANON_slice3', '512', '512', '1536', '1536'], ['22614266_1e5c3af078f74b05_MG_L_ML_ANON_slice4', '0', '1024', '1024', '2048', '0.87', '333', '296', '320', '281'], ['22614266_1e5c3af078f74b05_MG_L_ML_ANON_slice5', '512', '1024', '1536', '2048'], ['22614266_1e5c3af078f74b05_MG_L_ML_ANON_slice6', '1024', '1024', '2048', '2048'], ['22614266_1e5c3af078f74b05_MG_L_ML_ANON_slice7', '0', '1536', '1024', '2560'], ['22614266_1e5c3af078f74b05_MG_L_ML_ANON_slice8', '512', '1536', '1536', '2560'], ['22614266_1e5c3af078f74b05_MG_L_ML_ANON_slice9', '0', '2048', '1024', '3072'], ['22614266_1e5c3af078f74b05_MG_L_ML_ANON_slice10', '512', '2048', '1536', '3072'], ['22614379_d065adcb9905b973_MG_L_CC_ANON_slice0', '0', '0', '1024', '1024'], ['22614379_d065adcb9905b973_MG_L_CC_ANON_slice1', '512', '0', '1536', '1024', '0.3', '30', '-181', '954', '834'], ['22614379_d065adcb9905b973_MG_L_CC_ANON_slice2', '0', '512', '1024', '1536'], ['22614379_d065adcb9905b973_MG_L_CC_ANON_slice3', '512', '512', '1536', '1536'], ['22614379_d065adcb9905b973_MG_L_CC_ANON_slice4', '1024', '512', '2048', '1536'], ['22614379_d065adcb9905b973_MG_L_CC_ANON_slice5', '0', '1024', '1024', '2048'], ['22614379_d065adcb9905b973_MG_L_CC_ANON_slice6', '512', '1024', '1536', '2048'], ['22614379_d065adcb9905b973_MG_L_CC_ANON_slice7', '1024', '1024', '2048', '2048'], ['22614379_d065adcb9905b973_MG_L_CC_ANON_slice8', '0', '1536', '1024', '2560', '0.76', '87', '910', '553', '121'], ['22614379_d065adcb9905b973_MG_L_CC_ANON_slice9', '512', '1536', '1536', '2560'], ['22614379_d065adcb9905b973_MG_L_CC_ANON_slice10', '1024', '1536', '2048', '2560'], ['22614379_d065adcb9905b973_MG_L_CC_ANON_slice11', '0', '2048', '1024', '3072', '1.0', '11', '434', '621', '466'], ['22614379_d065adcb9905b973_MG_L_CC_ANON_slice12', '512', '2048', '1536', '3072', '0.62', '-7', '443', '101', '375'], ['22614431_d065adcb9905b973_MG_L_ML_ANON_slice0', '0', '0', '1024', '1024'], ['22614431_d065adcb9905b973_MG_L_ML_ANON_slice1', '512', '0', '1536', '1024'], ['22614431_d065adcb9905b973_MG_L_ML_ANON_slice2', '1024', '0', '2048', '1024', '0.29', '18', '-182', '988', '842'], ['22614431_d065adcb9905b973_MG_L_ML_ANON_slice3', '0', '512', '1024', '1536', '0.79', '752', '934', '161', '86'], ['22614431_d065adcb9905b973_MG_L_ML_ANON_slice4', '512', '512', '1536', '1536', '0.86', '240', '934', '159', '85'], ['22614431_d065adcb9905b973_MG_L_ML_ANON_slice5', '1024', '512', '2048', '1536'], ['22614431_d065adcb9905b973_MG_L_ML_ANON_slice6', '0', '1024', '1024', '2048', '0.98', '753', '426', '152', '155'], ['22614431_d065adcb9905b973_MG_L_ML_ANON_slice7', '512', '1024', '1536', '2048', '0.98', '240', '427', '157', '155', '0.71', '614', '907', '151', '117'], ['22614431_d065adcb9905b973_MG_L_ML_ANON_slice8', '1024', '1024', '2048', '2048', '0.93', '98', '909', '157', '114'], ['22614431_d065adcb9905b973_MG_L_ML_ANON_slice9', '0', '1536', '1024', '2560', '0.76', '28', '914', '314', '108'], ['22614431_d065adcb9905b973_MG_L_ML_ANON_slice10', '512', '1536', '1536', '2560', '0.59', '587', '403', '181', '172'], ['22614431_d065adcb9905b973_MG_L_ML_ANON_slice11', '1024', '1536', '2048', '2560', '0.72', '89', '405', '172', '165'], ['22614431_d065adcb9905b973_MG_L_ML_ANON_slice12', '0', '2048', '1024', '3072', '1.0', '5', '402', '327', '463'], ['22614431_d065adcb9905b973_MG_L_ML_ANON_slice13', '512', '2048', '1536', '3072'], ['22614431_d065adcb9905b973_MG_L_ML_ANON_slice14', '1024', '2048', '2048', '3072', '0.34', '-27', '276', '1061', '880'], ['22614522_2dec4948fbe6336d_MG_L_CC_ANON_slice0', '0', '0', '1024', '1024'], ['22614522_2dec4948fbe6336d_MG_L_CC_ANON_slice1', '512', '0', '1536', '1024', '0.61', '11', '874', '483', '147'], ['22614522_2dec4948fbe6336d_MG_L_CC_ANON_slice2', '0', '512', '1024', '1536'], ['22614522_2dec4948fbe6336d_MG_L_CC_ANON_slice3', '512', '512', '1536', '1536'], ['22614522_2dec4948fbe6336d_MG_L_CC_ANON_slice4', '1024', '512', '2048', '1536'], ['22614522_2dec4948fbe6336d_MG_L_CC_ANON_slice5', '0', '1024', '1024', '2048'], ['22614522_2dec4948fbe6336d_MG_L_CC_ANON_slice6', '512', '1024', '1536', '2048'], ['22614522_2dec4948fbe6336d_MG_L_CC_ANON_slice7', '1024', '1024', '2048', '2048'], ['22614522_2dec4948fbe6336d_MG_L_CC_ANON_slice8', '0', '1536', '1024', '2560', '0.46', '732', '587', '185', '225'], ['22614522_2dec4948fbe6336d_MG_L_CC_ANON_slice9', '512', '1536', '1536', '2560', '0.49', '204', '583', '202', '233'], ['22614522_2dec4948fbe6336d_MG_L_CC_ANON_slice10', '1024', '1536', '2048', '2560'], ['22614522_2dec4948fbe6336d_MG_L_CC_ANON_slice11', '0', '2048', '1024', '3072'], ['22614522_2dec4948fbe6336d_MG_L_CC_ANON_slice12', '512', '2048', '1536', '3072'], ['22614568_2dec4948fbe6336d_MG_L_ML_ANON_slice0', '0', '0', '1024', '1024'], ['22614568_2dec4948fbe6336d_MG_L_ML_ANON_slice1', '512', '0', '1536', '1024'], ['22614568_2dec4948fbe6336d_MG_L_ML_ANON_slice2', '0', '512', '1024', '1536', '0.9', '517', '558', '229', '231'], ['22614568_2dec4948fbe6336d_MG_L_ML_ANON_slice3', '512', '512', '1536', '1536', '0.61', '25', '563', '198', '224'], ['22614568_2dec4948fbe6336d_MG_L_ML_ANON_slice4', '0', '1024', '1024', '2048', '0.85', '518', '50', '225', '232'], ['22614568_2dec4948fbe6336d_MG_L_ML_ANON_slice5', '512', '1024', '1536', '2048', '0.8', '24', '46', '199', '238'], ['22614568_2dec4948fbe6336d_MG_L_ML_ANON_slice6', '1024', '1024', '2048', '2048'], ['22614568_2dec4948fbe6336d_MG_L_ML_ANON_slice7', '0', '1536', '1024', '2560'], ['22614568_2dec4948fbe6336d_MG_L_ML_ANON_slice8', '512', '1536', '1536', '2560'], ['22614568_2dec4948fbe6336d_MG_L_ML_ANON_slice9', '1024', '1536', '2048', '2560'], ['22614568_2dec4948fbe6336d_MG_L_ML_ANON_slice10', '0', '2048', '1024', '3072'], ['22614568_2dec4948fbe6336d_MG_L_ML_ANON_slice11', '512', '2048', '1536', '3072'], ['22614568_2dec4948fbe6336d_MG_L_ML_ANON_slice12', '1024', '2048', '2048', '3072'], ['22670094_e1f51192f7bf3f5f_MG_R_CC_ANON_slice0', '2048', '0', '3072', '1024', '0.43', '-30', '-200', '1068', '879'], ['22670094_e1f51192f7bf3f5f_MG_R_CC_ANON_slice1', '1536', '512', '2560', '1536'], ['22670094_e1f51192f7bf3f5f_MG_R_CC_ANON_slice2', '2048', '512', '3072', '1536', '0.96', '731', '646', '288', '293'], ['22670094_e1f51192f7bf3f5f_MG_R_CC_ANON_slice3', '1024', '1024', '2048', '2048'], ['22670094_e1f51192f7bf3f5f_MG_R_CC_ANON_slice4', '1536', '1024', '2560', '2048'], ['22670094_e1f51192f7bf3f5f_MG_R_CC_ANON_slice5', '2048', '1024', '3072', '2048', '0.9', '731', '143', '293', '290'], ['22670094_e1f51192f7bf3f5f_MG_R_CC_ANON_slice6', '1024', '1536', '2048', '2560'], ['22670094_e1f51192f7bf3f5f_MG_R_CC_ANON_slice7', '1536', '1536', '2560', '2560'], ['22670094_e1f51192f7bf3f5f_MG_R_CC_ANON_slice8', '2048', '1536', '3072', '2560'], ['22670094_e1f51192f7bf3f5f_MG_R_CC_ANON_slice9', '1536', '2048', '2560', '3072'], ['22670094_e1f51192f7bf3f5f_MG_R_CC_ANON_slice10', '2048', '2048', '3072', '3072'], ['22670094_e1f51192f7bf3f5f_MG_R_CC_ANON_slice11', '2048', '2560', '3072', '3584'], ['22670147_e1f51192f7bf3f5f_MG_R_ML_ANON_slice0', '2048', '0', '3072', '1024'], ['22670147_e1f51192f7bf3f5f_MG_R_ML_ANON_slice1', '2048', '512', '3072', '1536', '0.57', '373', '662', '416', '345'], ['22670147_e1f51192f7bf3f5f_MG_R_ML_ANON_slice2', '1536', '1024', '2560', '2048'], ['22670147_e1f51192f7bf3f5f_MG_R_ML_ANON_slice3', '2048', '1024', '3072', '2048', '0.88', '361', '169', '429', '370'], ['22670147_e1f51192f7bf3f5f_MG_R_ML_ANON_slice4', '1024', '1536', '2048', '2560'], ['22670147_e1f51192f7bf3f5f_MG_R_ML_ANON_slice5', '1536', '1536', '2560', '2560'], ['22670147_e1f51192f7bf3f5f_MG_R_ML_ANON_slice6', '2048', '1536', '3072', '2560'], ['22670147_e1f51192f7bf3f5f_MG_R_ML_ANON_slice7', '1024', '2048', '2048', '3072'], ['22670147_e1f51192f7bf3f5f_MG_R_ML_ANON_slice8', '1536', '2048', '2560', '3072'], ['22670147_e1f51192f7bf3f5f_MG_R_ML_ANON_slice9', '2048', '2048', '3072', '3072'], ['22670147_e1f51192f7bf3f5f_MG_R_ML_ANON_slice10', '1536', '2560', '2560', '3584'], ['22670147_e1f51192f7bf3f5f_MG_R_ML_ANON_slice11', '2048', '2560', '3072', '3584'], ['22670278_98429c0bdf78c0c7_MG_R_CC_ANON_slice0', '1536', '0', '2560', '1024'], ['22670278_98429c0bdf78c0c7_MG_R_CC_ANON_slice1', '1024', '512', '2048', '1536', '0.98', '843', '528', '188', '297'], ['22670278_98429c0bdf78c0c7_MG_R_CC_ANON_slice2', '1536', '512', '2560', '1536', '1.0', '329', '532', '244', '289'], ['22670278_98429c0bdf78c0c7_MG_R_CC_ANON_slice3', '1024', '1024', '2048', '2048', '0.99', '846', '18', '183', '319'], ['22670278_98429c0bdf78c0c7_MG_R_CC_ANON_slice4', '1536', '1024', '2560', '2048', '1.0', '333', '25', '240', '285'], ['22670278_98429c0bdf78c0c7_MG_R_CC_ANON_slice5', '1024', '1536', '2048', '2560', '0.38', '267', '-10', '222', '237'], ['22670278_98429c0bdf78c0c7_MG_R_CC_ANON_slice6', '1536', '1536', '2560', '2560'], ['22670278_98429c0bdf78c0c7_MG_R_CC_ANON_slice7', '1024', '2048', '2048', '3072'], ['22670278_98429c0bdf78c0c7_MG_R_CC_ANON_slice8', '1536', '2048', '2560', '3072'], ['22670324_98429c0bdf78c0c7_MG_R_ML_ANON_slice0', '1024', '0', '2048', '1024'], ['22670324_98429c0bdf78c0c7_MG_R_ML_ANON_slice1', '1536', '0', '2560', '1024'], ['22670324_98429c0bdf78c0c7_MG_R_ML_ANON_slice2', '1024', '512', '2048', '1536', '1.0', '551', '707', '210', '313'], ['22670324_98429c0bdf78c0c7_MG_R_ML_ANON_slice3', '1536', '512', '2560', '1536', '1.0', '36', '705', '211', '318'], ['22670324_98429c0bdf78c0c7_MG_R_ML_ANON_slice4', '1024', '1024', '2048', '2048', '1.0', '556', '189', '200', '340'], ['22670324_98429c0bdf78c0c7_MG_R_ML_ANON_slice5', '1536', '1024', '2560', '2048', '1.0', '34', '194', '213', '337'], ['22670324_98429c0bdf78c0c7_MG_R_ML_ANON_slice6', '1024', '1536', '2048', '2560'], ['22670324_98429c0bdf78c0c7_MG_R_ML_ANON_slice7', '1536', '1536', '2560', '2560'], ['22670324_98429c0bdf78c0c7_MG_R_ML_ANON_slice8', '1024', '2048', '2048', '3072'], ['22670324_98429c0bdf78c0c7_MG_R_ML_ANON_slice9', '1536', '2048', '2560', '3072'], ['22670465_7e677f3d530e41ed_MG_L_CC_ANON_slice0', '0', '0', '1024', '1024', '1.0', '159', '668', '541', '339'], ['22670465_7e677f3d530e41ed_MG_L_CC_ANON_slice1', '0', '512', '1024', '1536', '1.0', '171', '141', '506', '594'], ['22670465_7e677f3d530e41ed_MG_L_CC_ANON_slice2', '512', '512', '1536', '1536'], ['22670465_7e677f3d530e41ed_MG_L_CC_ANON_slice3', '0', '1024', '1024', '2048', '0.99', '217', '-1', '446', '239'], ['22670465_7e677f3d530e41ed_MG_L_CC_ANON_slice4', '512', '1024', '1536', '2048'], ['22670465_7e677f3d530e41ed_MG_L_CC_ANON_slice5', '0', '1536', '1024', '2560'], ['22670465_7e677f3d530e41ed_MG_L_CC_ANON_slice6', '512', '1536', '1536', '2560'], ['22670465_7e677f3d530e41ed_MG_L_CC_ANON_slice7', '0', '2048', '1024', '3072'], ['22670465_7e677f3d530e41ed_MG_L_CC_ANON_slice8', '512', '2048', '1536', '3072'], ['22670511_7e677f3d530e41ed_MG_L_ML_ANON_slice0', '0', '0', '1024', '1024'], ['22670511_7e677f3d530e41ed_MG_L_ML_ANON_slice1', '512', '0', '1536', '1024', '0.3', '-0', '854', '156', '167'], ['22670511_7e677f3d530e41ed_MG_L_ML_ANON_slice2', '0', '512', '1024', '1536', '0.96', '246', '434', '535', '538'], ['22670511_7e677f3d530e41ed_MG_L_ML_ANON_slice3', '512', '512', '1536', '1536', '0.96', '1', '350', '324', '618'], ['22670511_7e677f3d530e41ed_MG_L_ML_ANON_slice4', '0', '1024', '1024', '2048', '0.93', '269', '3', '484', '366'], ['22670511_7e677f3d530e41ed_MG_L_ML_ANON_slice5', '512', '1024', '1536', '2048', '0.36', '2', '-37', '221', '396', '0.7', '6', '-19', '289', '509'], ['22670511_7e677f3d530e41ed_MG_L_ML_ANON_slice6', '0', '1536', '1024', '2560'], ['22670511_7e677f3d530e41ed_MG_L_ML_ANON_slice7', '512', '1536', '1536', '2560'], ['22670511_7e677f3d530e41ed_MG_L_ML_ANON_slice8', '0', '2048', '1024', '3072'], ['22670511_7e677f3d530e41ed_MG_L_ML_ANON_slice9', '512', '2048', '1536', '3072'], ['22670620_e15a16f87b4f9782_MG_R_CC_ANON_slice0', '2048', '0', '3072', '1024', '0.48', '-29', '-164', '1064', '806'], ['22670620_e15a16f87b4f9782_MG_R_CC_ANON_slice1', '1536', '512', '2560', '1536'], ['22670620_e15a16f87b4f9782_MG_R_CC_ANON_slice2', '2048', '512', '3072', '1536'], ['22670620_e15a16f87b4f9782_MG_R_CC_ANON_slice3', '1024', '1024', '2048', '2048'], ['22670620_e15a16f87b4f9782_MG_R_CC_ANON_slice4', '1536', '1024', '2560', '2048'], ['22670620_e15a16f87b4f9782_MG_R_CC_ANON_slice5', '2048', '1024', '3072', '2048'], ['22670620_e15a16f87b4f9782_MG_R_CC_ANON_slice6', '1024', '1536', '2048', '2560'], ['22670620_e15a16f87b4f9782_MG_R_CC_ANON_slice7', '1536', '1536', '2560', '2560'], ['22670620_e15a16f87b4f9782_MG_R_CC_ANON_slice8', '2048', '1536', '3072', '2560'], ['22670620_e15a16f87b4f9782_MG_R_CC_ANON_slice9', '1024', '2048', '2048', '3072'], ['22670620_e15a16f87b4f9782_MG_R_CC_ANON_slice10', '1536', '2048', '2560', '3072'], ['22670620_e15a16f87b4f9782_MG_R_CC_ANON_slice11', '2048', '2048', '3072', '3072'], ['22670620_e15a16f87b4f9782_MG_R_CC_ANON_slice12', '1536', '2560', '2560', '3584'], ['22670620_e15a16f87b4f9782_MG_R_CC_ANON_slice13', '2048', '2560', '3072', '3584'], ['22670673_e15a16f87b4f9782_MG_R_ML_ANON_slice0', '1536', '0', '2560', '1024', '0.29', '-51', '-74', '983', '903'], ['22670673_e15a16f87b4f9782_MG_R_ML_ANON_slice1', '2048', '0', '3072', '1024'], ['22670673_e15a16f87b4f9782_MG_R_ML_ANON_slice2', '1536', '512', '2560', '1536'], ['22670673_e15a16f87b4f9782_MG_R_ML_ANON_slice3', '2048', '512', '3072', '1536'], ['22670673_e15a16f87b4f9782_MG_R_ML_ANON_slice4', '1024', '1024', '2048', '2048'], ['22670673_e15a16f87b4f9782_MG_R_ML_ANON_slice5', '1536', '1024', '2560', '2048'], ['22670673_e15a16f87b4f9782_MG_R_ML_ANON_slice6', '2048', '1024', '3072', '2048'], ['22670673_e15a16f87b4f9782_MG_R_ML_ANON_slice7', '1024', '1536', '2048', '2560'], ['22670673_e15a16f87b4f9782_MG_R_ML_ANON_slice8', '1536', '1536', '2560', '2560'], ['22670673_e15a16f87b4f9782_MG_R_ML_ANON_slice9', '2048', '1536', '3072', '2560'], ['22670673_e15a16f87b4f9782_MG_R_ML_ANON_slice10', '1024', '2048', '2048', '3072'], ['22670673_e15a16f87b4f9782_MG_R_ML_ANON_slice11', '1536', '2048', '2560', '3072'], ['22670673_e15a16f87b4f9782_MG_R_ML_ANON_slice12', '2048', '2048', '3072', '3072'], ['22670673_e15a16f87b4f9782_MG_R_ML_ANON_slice13', '1024', '2560', '2048', '3584', '0.53', '-82', '296', '1049', '850'], ['22670673_e15a16f87b4f9782_MG_R_ML_ANON_slice14', '1536', '2560', '2560', '3584'], ['22670673_e15a16f87b4f9782_MG_R_ML_ANON_slice15', '2048', '2560', '3072', '3584'], ['22670809_0b7396cdccacca82_MG_R_CC_ANON_slice0', '2048', '512', '3072', '1536'], ['22670809_0b7396cdccacca82_MG_R_CC_ANON_slice1', '1536', '1024', '2560', '2048'], ['22670809_0b7396cdccacca82_MG_R_CC_ANON_slice2', '2048', '1024', '3072', '2048'], ['22670809_0b7396cdccacca82_MG_R_CC_ANON_slice3', '1536', '1536', '2560', '2560'], ['22670809_0b7396cdccacca82_MG_R_CC_ANON_slice4', '2048', '1536', '3072', '2560'], ['22670809_0b7396cdccacca82_MG_R_CC_ANON_slice5', '1536', '2048', '2560', '3072'], ['22670809_0b7396cdccacca82_MG_R_CC_ANON_slice6', '2048', '2048', '3072', '3072'], ['22670809_0b7396cdccacca82_MG_R_CC_ANON_slice7', '2048', '2560', '3072', '3584', '0.26', '966', '40', '61', '212'], ['22670855_0b7396cdccacca82_MG_R_ML_ANON_slice0', '1536', '0', '2560', '1024'], ['22670855_0b7396cdccacca82_MG_R_ML_ANON_slice1', '2048', '0', '3072', '1024'], ['22670855_0b7396cdccacca82_MG_R_ML_ANON_slice2', '1536', '512', '2560', '1536'], ['22670855_0b7396cdccacca82_MG_R_ML_ANON_slice3', '2048', '512', '3072', '1536'], ['22670855_0b7396cdccacca82_MG_R_ML_ANON_slice4', '1536', '1024', '2560', '2048'], ['22670855_0b7396cdccacca82_MG_R_ML_ANON_slice5', '2048', '1024', '3072', '2048', '0.95', '638', '753', '277', '282'], ['22670855_0b7396cdccacca82_MG_R_ML_ANON_slice6', '1536', '1536', '2560', '2560'], ['22670855_0b7396cdccacca82_MG_R_ML_ANON_slice7', '2048', '1536', '3072', '2560', '0.98', '620', '239', '319', '301'], ['22670855_0b7396cdccacca82_MG_R_ML_ANON_slice8', '1536', '2048', '2560', '3072'], ['22670855_0b7396cdccacca82_MG_R_ML_ANON_slice9', '2048', '2048', '3072', '3072'], ['22670855_0b7396cdccacca82_MG_R_ML_ANON_slice10', '2048', '2560', '3072', '3584', '0.4', '-83', '369', '1064', '837'], ['22678646_61b13c59bcba149e_MG_L_CC_ANON_slice0', '0', '512', '1024', '1536', '0.31', '36', '-233', '935', '938'], ['22678646_61b13c59bcba149e_MG_L_CC_ANON_slice1', '0', '1024', '1024', '2048', '0.45', '82', '563', '304', '313'], ['22678646_61b13c59bcba149e_MG_L_CC_ANON_slice2', '0', '1536', '1024', '2560', '0.31', '67', '46', '350', '354'], ['22678646_61b13c59bcba149e_MG_L_CC_ANON_slice3', '0', '2048', '1024', '3072'], ['22678694_61b13c59bcba149e_MG_L_ML_ANON_slice0', '0', '0', '1024', '1024'], ['22678694_61b13c59bcba149e_MG_L_ML_ANON_slice1', '0', '512', '1024', '1536', '0.74', '4', '-11', '228', '336'], ['22678694_61b13c59bcba149e_MG_L_ML_ANON_slice2', '0', '1024', '1024', '2048'], ['22678694_61b13c59bcba149e_MG_L_ML_ANON_slice3', '0', '1536', '1024', '2560', '0.99', '-1', '625', '329', '304'], ['22678694_61b13c59bcba149e_MG_L_ML_ANON_slice4', '0', '2048', '1024', '3072', '0.94', '2', '123', '331', '285'], ['22678787_64a22c47765f0c5c_MG_R_CC_ANON_slice0', '1024', '0', '2048', '1024', '0.43', '-10', '-75', '1023', '1030'], ['22678787_64a22c47765f0c5c_MG_R_CC_ANON_slice1', '1536', '0', '2560', '1024', '0.32', '-61', '-147', '1006', '899'], ['22678787_64a22c47765f0c5c_MG_R_CC_ANON_slice2', '512', '512', '1536', '1536'], ['22678787_64a22c47765f0c5c_MG_R_CC_ANON_slice3', '1024', '512', '2048', '1536', '0.3', '9', '78', '1139', '732'], ['22678787_64a22c47765f0c5c_MG_R_CC_ANON_slice4', '1536', '512', '2560', '1536'], ['22678787_64a22c47765f0c5c_MG_R_CC_ANON_slice5', '512', '1024', '1536', '2048'], ['22678787_64a22c47765f0c5c_MG_R_CC_ANON_slice6', '1024', '1024', '2048', '2048', '0.55', '340', '-2', '631', '215'], ['22678787_64a22c47765f0c5c_MG_R_CC_ANON_slice7', '1536', '1024', '2560', '2048', '1.0', '407', '663', '510', '344'], ['22678787_64a22c47765f0c5c_MG_R_CC_ANON_slice8', '512', '1536', '1536', '2560'], ['22678787_64a22c47765f0c5c_MG_R_CC_ANON_slice9', '1024', '1536', '2048', '2560'], ['22678787_64a22c47765f0c5c_MG_R_CC_ANON_slice10', '1536', '1536', '2560', '2560', '0.35', '1', '-15', '226', '359', '1.0', '422', '122', '485', '686'], ['22678787_64a22c47765f0c5c_MG_R_CC_ANON_slice11', '1024', '2048', '2048', '3072'], ['22678787_64a22c47765f0c5c_MG_R_CC_ANON_slice12', '1536', '2048', '2560', '3072', '0.94', '453', '4', '499', '239'], ['22678833_64a22c47765f0c5c_MG_R_ML_ANON_slice0', '1024', '0', '2048', '1024'], ['22678833_64a22c47765f0c5c_MG_R_ML_ANON_slice1', '1536', '0', '2560', '1024'], ['22678833_64a22c47765f0c5c_MG_R_ML_ANON_slice2', '512', '512', '1536', '1536'], ['22678833_64a22c47765f0c5c_MG_R_ML_ANON_slice3', '1024', '512', '2048', '1536'], ['22678833_64a22c47765f0c5c_MG_R_ML_ANON_slice4', '1536', '512', '2560', '1536'], ['22678833_64a22c47765f0c5c_MG_R_ML_ANON_slice5', '512', '1024', '1536', '2048'], ['22678833_64a22c47765f0c5c_MG_R_ML_ANON_slice6', '1024', '1024', '2048', '2048'], ['22678833_64a22c47765f0c5c_MG_R_ML_ANON_slice7', '1536', '1024', '2560', '2048', '0.52', '-6', '366', '220', '590'], ['22678833_64a22c47765f0c5c_MG_R_ML_ANON_slice8', '512', '1536', '1536', '2560', '0.69', '572', '-2', '283', '244'], ['22678833_64a22c47765f0c5c_MG_R_ML_ANON_slice9', '1024', '1536', '2048', '2560', '0.49', '55', '-5', '267', '250'], ['22678833_64a22c47765f0c5c_MG_R_ML_ANON_slice10', '1536', '1536', '2560', '2560', '0.99', '614', '690', '387', '335'], ['22678833_64a22c47765f0c5c_MG_R_ML_ANON_slice11', '512', '2048', '1536', '3072', '0.26', '-50', '351', '986', '872'], ['22678833_64a22c47765f0c5c_MG_R_ML_ANON_slice12', '1024', '2048', '2048', '3072'], ['22678833_64a22c47765f0c5c_MG_R_ML_ANON_slice13', '1536', '2048', '2560', '3072', '0.98', '644', '164', '373', '581'], ['24055274_1e10aef17c9fe149_MG_L_ML_ANON_slice0', '0', '0', '1024', '1024'], ['24055274_1e10aef17c9fe149_MG_L_ML_ANON_slice1', '512', '0', '1536', '1024'], ['24055274_1e10aef17c9fe149_MG_L_ML_ANON_slice2', '0', '512', '1024', '1536'], ['24055274_1e10aef17c9fe149_MG_L_ML_ANON_slice3', '512', '512', '1536', '1536'], ['24055274_1e10aef17c9fe149_MG_L_ML_ANON_slice4', '1024', '512', '2048', '1536'], ['24055274_1e10aef17c9fe149_MG_L_ML_ANON_slice5', '0', '1024', '1024', '2048', '0.99', '399', '576', '613', '443'], ['24055274_1e10aef17c9fe149_MG_L_ML_ANON_slice6', '512', '1024', '1536', '2048', '1.0', '2', '588', '484', '422'], ['24055274_1e10aef17c9fe149_MG_L_ML_ANON_slice7', '1024', '1024', '2048', '2048'], ['24055274_1e10aef17c9fe149_MG_L_ML_ANON_slice8', '0', '1536', '1024', '2560', '1.0', '404', '68', '614', '468'], ['24055274_1e10aef17c9fe149_MG_L_ML_ANON_slice9', '512', '1536', '1536', '2560', '1.0', '-11', '78', '518', '453'], ['24055274_1e10aef17c9fe149_MG_L_ML_ANON_slice10', '1024', '1536', '2048', '2560'], ['24055274_1e10aef17c9fe149_MG_L_ML_ANON_slice11', '0', '2048', '1024', '3072'], ['24055274_1e10aef17c9fe149_MG_L_ML_ANON_slice12', '512', '2048', '1536', '3072'], ['24055274_1e10aef17c9fe149_MG_L_ML_ANON_slice13', '1024', '2048', '2048', '3072'], ['24055274_1e10aef17c9fe149_MG_L_ML_ANON_slice14', '0', '2560', '1024', '3584'], ['24055274_1e10aef17c9fe149_MG_L_ML_ANON_slice15', '512', '2560', '1536', '3584'], ['24055274_1e10aef17c9fe149_MG_L_ML_ANON_slice16', '1024', '2560', '2048', '3584'], ['24055355_1e10aef17c9fe149_MG_L_CC_ANON_slice0', '0', '0', '1024', '1024', '0.38', '22', '-172', '972', '818'], ['24055355_1e10aef17c9fe149_MG_L_CC_ANON_slice1', '0', '512', '1024', '1536', '0.99', '516', '821', '519', '199'], ['24055355_1e10aef17c9fe149_MG_L_CC_ANON_slice2', '512', '512', '1536', '1536', '0.92', '-12', '819', '645', '203'], ['24055355_1e10aef17c9fe149_MG_L_CC_ANON_slice3', '0', '1024', '1024', '2048', '1.0', '548', '291', '458', '482'], ['24055355_1e10aef17c9fe149_MG_L_CC_ANON_slice4', '512', '1024', '1536', '2048', '1.0', '18', '316', '678', '441'], ['24055355_1e10aef17c9fe149_MG_L_CC_ANON_slice5', '1024', '1024', '2048', '2048'], ['24055355_1e10aef17c9fe149_MG_L_CC_ANON_slice6', '0', '1536', '1024', '2560', '0.99', '548', '-3', '486', '245'], ['24055355_1e10aef17c9fe149_MG_L_CC_ANON_slice7', '512', '1536', '1536', '2560', '0.98', '41', '1', '549', '249'], ['24055355_1e10aef17c9fe149_MG_L_CC_ANON_slice8', '1024', '1536', '2048', '2560'], ['24055355_1e10aef17c9fe149_MG_L_CC_ANON_slice9', '0', '2048', '1024', '3072'], ['24055355_1e10aef17c9fe149_MG_L_CC_ANON_slice10', '512', '2048', '1536', '3072'], ['24055355_1e10aef17c9fe149_MG_L_CC_ANON_slice11', '1024', '2048', '2048', '3072'], ['24055355_1e10aef17c9fe149_MG_L_CC_ANON_slice12', '0', '2560', '1024', '3584'], ['24055355_1e10aef17c9fe149_MG_L_CC_ANON_slice13', '512', '2560', '1536', '3584'], ['24055355_1e10aef17c9fe149_MG_L_CC_ANON_slice14', '1024', '2560', '2048', '3584'], ['24055445_ac3185e18ffdc7b6_MG_L_ML_ANON_slice0', '0', '0', '1024', '1024', '0.38', '-5', '47', '893', '930'], ['24055445_ac3185e18ffdc7b6_MG_L_ML_ANON_slice1', '512', '0', '1536', '1024'], ['24055445_ac3185e18ffdc7b6_MG_L_ML_ANON_slice2', '1024', '0', '2048', '1024'], ['24055445_ac3185e18ffdc7b6_MG_L_ML_ANON_slice3', '0', '512', '1024', '1536'], ['24055445_ac3185e18ffdc7b6_MG_L_ML_ANON_slice4', '512', '512', '1536', '1536'], ['24055445_ac3185e18ffdc7b6_MG_L_ML_ANON_slice5', '1024', '512', '2048', '1536'], ['24055445_ac3185e18ffdc7b6_MG_L_ML_ANON_slice6', '0', '1024', '1024', '2048'], ['24055445_ac3185e18ffdc7b6_MG_L_ML_ANON_slice7', '512', '1024', '1536', '2048'], ['24055445_ac3185e18ffdc7b6_MG_L_ML_ANON_slice8', '1024', '1024', '2048', '2048'], ['24055445_ac3185e18ffdc7b6_MG_L_ML_ANON_slice9', '1536', '1024', '2560', '2048'], ['24055445_ac3185e18ffdc7b6_MG_L_ML_ANON_slice10', '0', '1536', '1024', '2560'], ['24055445_ac3185e18ffdc7b6_MG_L_ML_ANON_slice11', '512', '1536', '1536', '2560'], ['24055445_ac3185e18ffdc7b6_MG_L_ML_ANON_slice12', '1024', '1536', '2048', '2560', '0.71', '-25', '-3', '927', '1030'], ['24055445_ac3185e18ffdc7b6_MG_L_ML_ANON_slice13', '1536', '1536', '2560', '2560'], ['24055445_ac3185e18ffdc7b6_MG_L_ML_ANON_slice14', '0', '2048', '1024', '3072', '0.91', '79', '533', '161', '154'], ['24055445_ac3185e18ffdc7b6_MG_L_ML_ANON_slice15', '512', '2048', '1536', '3072'], ['24055445_ac3185e18ffdc7b6_MG_L_ML_ANON_slice16', '1024', '2048', '2048', '3072'], ['24055445_ac3185e18ffdc7b6_MG_L_ML_ANON_slice17', '1536', '2048', '2560', '3072'], ['24055445_ac3185e18ffdc7b6_MG_L_ML_ANON_slice18', '0', '2560', '1024', '3584', '0.45', '82', '19', '164', '157'], ['24055445_ac3185e18ffdc7b6_MG_L_ML_ANON_slice19', '512', '2560', '1536', '3584'], ['24055445_ac3185e18ffdc7b6_MG_L_ML_ANON_slice20', '1024', '2560', '2048', '3584'], ['24055464_ac3185e18ffdc7b6_MG_R_ML_ANON_slice0', '1536', '0', '2560', '1024'], ['24055464_ac3185e18ffdc7b6_MG_R_ML_ANON_slice1', '2048', '0', '3072', '1024'], ['24055464_ac3185e18ffdc7b6_MG_R_ML_ANON_slice2', '1024', '512', '2048', '1536'], ['24055464_ac3185e18ffdc7b6_MG_R_ML_ANON_slice3', '1536', '512', '2560', '1536'], ['24055464_ac3185e18ffdc7b6_MG_R_ML_ANON_slice4', '2048', '512', '3072', '1536'], ['24055464_ac3185e18ffdc7b6_MG_R_ML_ANON_slice5', '1024', '1024', '2048', '2048'], ['24055464_ac3185e18ffdc7b6_MG_R_ML_ANON_slice6', '1536', '1024', '2560', '2048'], ['24055464_ac3185e18ffdc7b6_MG_R_ML_ANON_slice7', '2048', '1024', '3072', '2048'], ['24055464_ac3185e18ffdc7b6_MG_R_ML_ANON_slice8', '1024', '1536', '2048', '2560'], ['24055464_ac3185e18ffdc7b6_MG_R_ML_ANON_slice9', '1536', '1536', '2560', '2560'], ['24055464_ac3185e18ffdc7b6_MG_R_ML_ANON_slice10', '2048', '1536', '3072', '2560'], ['24055464_ac3185e18ffdc7b6_MG_R_ML_ANON_slice11', '1024', '2048', '2048', '3072'], ['24055464_ac3185e18ffdc7b6_MG_R_ML_ANON_slice12', '1536', '2048', '2560', '3072'], ['24055464_ac3185e18ffdc7b6_MG_R_ML_ANON_slice13', '2048', '2048', '3072', '3072'], ['24055464_ac3185e18ffdc7b6_MG_R_ML_ANON_slice14', '1024', '2560', '2048', '3584'], ['24055464_ac3185e18ffdc7b6_MG_R_ML_ANON_slice15', '1536', '2560', '2560', '3584'], ['24055464_ac3185e18ffdc7b6_MG_R_ML_ANON_slice16', '2048', '2560', '3072', '3584'], ['24055483_ac3185e18ffdc7b6_MG_L_CC_ANON_slice0', '0', '0', '1024', '1024'], ['24055483_ac3185e18ffdc7b6_MG_L_CC_ANON_slice1', '512', '0', '1536', '1024', '0.52', '7', '-190', '1000', '858'], ['24055483_ac3185e18ffdc7b6_MG_L_CC_ANON_slice2', '0', '512', '1024', '1536'], ['24055483_ac3185e18ffdc7b6_MG_L_CC_ANON_slice3', '512', '512', '1536', '1536'], ['24055483_ac3185e18ffdc7b6_MG_L_CC_ANON_slice4', '1024', '512', '2048', '1536'], ['24055483_ac3185e18ffdc7b6_MG_L_CC_ANON_slice5', '0', '1024', '1024', '2048', '0.92', '427', '849', '156', '165'], ['24055483_ac3185e18ffdc7b6_MG_L_CC_ANON_slice6', '512', '1024', '1536', '2048', '0.44', '-5', '798', '65', '228'], ['24055483_ac3185e18ffdc7b6_MG_L_CC_ANON_slice7', '1024', '1024', '2048', '2048'], ['24055483_ac3185e18ffdc7b6_MG_L_CC_ANON_slice8', '0', '1536', '1024', '2560', '0.92', '423', '348', '165', '154'], ['24055483_ac3185e18ffdc7b6_MG_L_CC_ANON_slice9', '512', '1536', '1536', '2560', '0.28', '-3', '307', '62', '230'], ['24055483_ac3185e18ffdc7b6_MG_L_CC_ANON_slice10', '1024', '1536', '2048', '2560'], ['24055483_ac3185e18ffdc7b6_MG_L_CC_ANON_slice11', '1536', '1536', '2560', '2560'], ['24055483_ac3185e18ffdc7b6_MG_L_CC_ANON_slice12', '0', '2048', '1024', '3072'], ['24055483_ac3185e18ffdc7b6_MG_L_CC_ANON_slice13', '512', '2048', '1536', '3072'], ['24055483_ac3185e18ffdc7b6_MG_L_CC_ANON_slice14', '1024', '2048', '2048', '3072'], ['24055483_ac3185e18ffdc7b6_MG_L_CC_ANON_slice15', '1536', '2048', '2560', '3072'], ['24055483_ac3185e18ffdc7b6_MG_L_CC_ANON_slice16', '0', '2560', '1024', '3584'], ['24055483_ac3185e18ffdc7b6_MG_L_CC_ANON_slice17', '512', '2560', '1536', '3584'], ['24055483_ac3185e18ffdc7b6_MG_L_CC_ANON_slice18', '1024', '2560', '2048', '3584'], ['24055502_ac3185e18ffdc7b6_MG_R_CC_ANON_slice0', '2048', '0', '3072', '1024', '0.36', '-62', '-7', '1124', '1037', '0.47', '-22', '-176', '1051', '834'], ['24055502_ac3185e18ffdc7b6_MG_R_CC_ANON_slice1', '1536', '512', '2560', '1536'], ['24055502_ac3185e18ffdc7b6_MG_R_CC_ANON_slice2', '2048', '512', '3072', '1536'], ['24055502_ac3185e18ffdc7b6_MG_R_CC_ANON_slice3', '1024', '1024', '2048', '2048'], ['24055502_ac3185e18ffdc7b6_MG_R_CC_ANON_slice4', '1536', '1024', '2560', '2048'], ['24055502_ac3185e18ffdc7b6_MG_R_CC_ANON_slice5', '2048', '1024', '3072', '2048'], ['24055502_ac3185e18ffdc7b6_MG_R_CC_ANON_slice6', '1024', '1536', '2048', '2560'], ['24055502_ac3185e18ffdc7b6_MG_R_CC_ANON_slice7', '1536', '1536', '2560', '2560'], ['24055502_ac3185e18ffdc7b6_MG_R_CC_ANON_slice8', '2048', '1536', '3072', '2560'], ['24055502_ac3185e18ffdc7b6_MG_R_CC_ANON_slice9', '1024', '2048', '2048', '3072'], ['24055502_ac3185e18ffdc7b6_MG_R_CC_ANON_slice10', '1536', '2048', '2560', '3072'], ['24055502_ac3185e18ffdc7b6_MG_R_CC_ANON_slice11', '2048', '2048', '3072', '3072'], ['24055502_ac3185e18ffdc7b6_MG_R_CC_ANON_slice12', '1536', '2560', '2560', '3584'], ['24055502_ac3185e18ffdc7b6_MG_R_CC_ANON_slice13', '2048', '2560', '3072', '3584'], ['24065251_c4b995eddb3c510c_MG_L_ML_ANON_slice0', '0', '0', '1024', '1024'], ['24065251_c4b995eddb3c510c_MG_L_ML_ANON_slice1', '512', '0', '1536', '1024'], ['24065251_c4b995eddb3c510c_MG_L_ML_ANON_slice2', '1024', '0', '2048', '1024'], ['24065251_c4b995eddb3c510c_MG_L_ML_ANON_slice3', '0', '512', '1024', '1536', '0.99', '541', '458', '494', '564'], ['24065251_c4b995eddb3c510c_MG_L_ML_ANON_slice4', '512', '512', '1536', '1536', '0.99', '34', '501', '573', '527'], ['24065251_c4b995eddb3c510c_MG_L_ML_ANON_slice5', '1024', '512', '2048', '1536', '0.37', '-2', '449', '101', '574'], ['24065251_c4b995eddb3c510c_MG_L_ML_ANON_slice6', '0', '1024', '1024', '2048', '0.99', '563', '-14', '450', '772'], ['24065251_c4b995eddb3c510c_MG_L_ML_ANON_slice7', '512', '1024', '1536', '2048', '0.99', '81', '-7', '472', '786'], ['24065251_c4b995eddb3c510c_MG_L_ML_ANON_slice8', '1024', '1024', '2048', '2048'], ['24065251_c4b995eddb3c510c_MG_L_ML_ANON_slice9', '0', '1536', '1024', '2560'], ['24065251_c4b995eddb3c510c_MG_L_ML_ANON_slice10', '512', '1536', '1536', '2560', '0.82', '115', '-1', '516', '243'], ['24065251_c4b995eddb3c510c_MG_L_ML_ANON_slice11', '1024', '1536', '2048', '2560'], ['24065251_c4b995eddb3c510c_MG_L_ML_ANON_slice12', '0', '2048', '1024', '3072'], ['24065251_c4b995eddb3c510c_MG_L_ML_ANON_slice13', '512', '2048', '1536', '3072'], ['24065251_c4b995eddb3c510c_MG_L_ML_ANON_slice14', '1024', '2048', '2048', '3072'], ['24065251_c4b995eddb3c510c_MG_L_ML_ANON_slice15', '0', '2560', '1024', '3584'], ['24065251_c4b995eddb3c510c_MG_L_ML_ANON_slice16', '512', '2560', '1536', '3584', '0.57', '-25', '309', '1051', '820'], ['24065289_c4b995eddb3c510c_MG_L_CC_ANON_slice0', '0', '512', '1024', '1536', '0.38', '20', '-187', '976', '849'], ['24065289_c4b995eddb3c510c_MG_L_CC_ANON_slice1', '0', '1024', '1024', '2048', '0.99', '278', '694', '605', '338'], ['24065289_c4b995eddb3c510c_MG_L_CC_ANON_slice2', '512', '1024', '1536', '2048', '0.86', '-21', '686', '413', '355'], ['24065289_c4b995eddb3c510c_MG_L_CC_ANON_slice3', '0', '1536', '1024', '2560', '0.99', '298', '210', '543', '746'], ['24065289_c4b995eddb3c510c_MG_L_CC_ANON_slice4', '512', '1536', '1536', '2560', '0.98', '2', '244', '323', '642'], ['24065289_c4b995eddb3c510c_MG_L_CC_ANON_slice5', '0', '2048', '1024', '3072', '0.31', '280', '-6', '604', '375'], ['24065289_c4b995eddb3c510c_MG_L_CC_ANON_slice6', '512', '2048', '1536', '3072', '0.33', '-2', '6', '340', '336'], ['24065289_c4b995eddb3c510c_MG_L_CC_ANON_slice7', '1024', '2048', '2048', '3072'], ['24065289_c4b995eddb3c510c_MG_L_CC_ANON_slice8', '0', '2560', '1024', '3584'], ['24065289_c4b995eddb3c510c_MG_L_CC_ANON_slice9', '512', '2560', '1536', '3584'], ['24065530_d8205a09c8173f44_MG_L_ML_ANON_slice0', '0', '0', '1024', '1024'], ['24065530_d8205a09c8173f44_MG_L_ML_ANON_slice1', '0', '512', '1024', '1536'], ['24065530_d8205a09c8173f44_MG_L_ML_ANON_slice2', '512', '512', '1536', '1536'], ['24065530_d8205a09c8173f44_MG_L_ML_ANON_slice3', '0', '1024', '1024', '2048', '1.0', '95', '829', '696', '192'], ['24065530_d8205a09c8173f44_MG_L_ML_ANON_slice4', '512', '1024', '1536', '2048', '0.91', '-2', '826', '211', '202'], ['24065530_d8205a09c8173f44_MG_L_ML_ANON_slice5', '0', '1536', '1024', '2560', '1.0', '73', '227', '750', '838'], ['24065530_d8205a09c8173f44_MG_L_ML_ANON_slice6', '512', '1536', '1536', '2560', '0.97', '2', '306', '310', '705'], ['24065530_d8205a09c8173f44_MG_L_ML_ANON_slice7', '1024', '1536', '2048', '2560'], ['24065530_d8205a09c8173f44_MG_L_ML_ANON_slice8', '0', '2048', '1024', '3072', '1.0', '-15', '-26', '1030', '684'], ['24065530_d8205a09c8173f44_MG_L_ML_ANON_slice9', '512', '2048', '1536', '3072', '0.47', '14', '-3', '445', '598'], ['24065707_5291e1aee2bbf5df_MG_R_ML_ANON_slice0', '2048', '0', '3072', '1024'], ['24065707_5291e1aee2bbf5df_MG_R_ML_ANON_slice1', '2048', '512', '3072', '1536'], ['24065707_5291e1aee2bbf5df_MG_R_ML_ANON_slice2', '1536', '1024', '2560', '2048'], ['24065707_5291e1aee2bbf5df_MG_R_ML_ANON_slice3', '2048', '1024', '3072', '2048'], ['24065707_5291e1aee2bbf5df_MG_R_ML_ANON_slice4', '1536', '1536', '2560', '2560'], ['24065707_5291e1aee2bbf5df_MG_R_ML_ANON_slice5', '2048', '1536', '3072', '2560'], ['24065707_5291e1aee2bbf5df_MG_R_ML_ANON_slice6', '1536', '2048', '2560', '3072'], ['24065707_5291e1aee2bbf5df_MG_R_ML_ANON_slice7', '2048', '2048', '3072', '3072'], ['24065707_5291e1aee2bbf5df_MG_R_ML_ANON_slice8', '2048', '2560', '3072', '3584', '0.29', '-49', '387', '993', '805'], ['24065761_5291e1aee2bbf5df_MG_R_CC_ANON_slice0', '2048', '512', '3072', '1536'], ['24065761_5291e1aee2bbf5df_MG_R_CC_ANON_slice1', '2048', '1024', '3072', '2048'], ['24065761_5291e1aee2bbf5df_MG_R_CC_ANON_slice2', '2048', '1536', '3072', '2560'], ['24065761_5291e1aee2bbf5df_MG_R_CC_ANON_slice3', '2048', '2048', '3072', '3072'], ['27829134_fbb55bf7fff48540_MG_R_CC_ANON_slice0', '1536', '512', '2560', '1536'], ['27829134_fbb55bf7fff48540_MG_R_CC_ANON_slice1', '2048', '512', '3072', '1536'], ['27829134_fbb55bf7fff48540_MG_R_CC_ANON_slice2', '1536', '1024', '2560', '2048'], ['27829134_fbb55bf7fff48540_MG_R_CC_ANON_slice3', '2048', '1024', '3072', '2048'], ['27829134_fbb55bf7fff48540_MG_R_CC_ANON_slice4', '1024', '1536', '2048', '2560'], ['27829134_fbb55bf7fff48540_MG_R_CC_ANON_slice5', '1536', '1536', '2560', '2560'], ['27829134_fbb55bf7fff48540_MG_R_CC_ANON_slice6', '2048', '1536', '3072', '2560', '1.0', '474', '414', '508', '567'], ['27829134_fbb55bf7fff48540_MG_R_CC_ANON_slice7', '1536', '2048', '2560', '3072'], ['27829134_fbb55bf7fff48540_MG_R_CC_ANON_slice8', '2048', '2048', '3072', '3072', '1.0', '511', '6', '453', '462'], ['27829134_fbb55bf7fff48540_MG_R_CC_ANON_slice9', '1536', '2560', '2560', '3584', '0.51', '-82', '359', '1055', '858'], ['27829134_fbb55bf7fff48540_MG_R_CC_ANON_slice10', '2048', '2560', '3072', '3584'], ['27829188_fbb55bf7fff48540_MG_R_ML_ANON_slice0', '1536', '0', '2560', '1024'], ['27829188_fbb55bf7fff48540_MG_R_ML_ANON_slice1', '2048', '0', '3072', '1024', '0.67', '682', '288', '299', '442'], ['27829188_fbb55bf7fff48540_MG_R_ML_ANON_slice2', '1536', '512', '2560', '1536'], ['27829188_fbb55bf7fff48540_MG_R_ML_ANON_slice3', '2048', '512', '3072', '1536', '0.52', '630', '7', '335', '164'], ['27829188_fbb55bf7fff48540_MG_R_ML_ANON_slice4', '1024', '1024', '2048', '2048'], ['27829188_fbb55bf7fff48540_MG_R_ML_ANON_slice5', '1536', '1024', '2560', '2048', '0.93', '755', '633', '284', '403'], ['27829188_fbb55bf7fff48540_MG_R_ML_ANON_slice6', '2048', '1024', '3072', '2048', '1.0', '212', '638', '492', '377'], ['27829188_fbb55bf7fff48540_MG_R_ML_ANON_slice7', '1024', '1536', '2048', '2560'], ['27829188_fbb55bf7fff48540_MG_R_ML_ANON_slice8', '1536', '1536', '2560', '2560', '0.93', '732', '119', '285', '540'], ['27829188_fbb55bf7fff48540_MG_R_ML_ANON_slice9', '2048', '1536', '3072', '2560', '1.0', '232', '90', '443', '619'], ['27829188_fbb55bf7fff48540_MG_R_ML_ANON_slice10', '1024', '2048', '2048', '3072'], ['27829188_fbb55bf7fff48540_MG_R_ML_ANON_slice11', '1536', '2048', '2560', '3072', '0.97', '773', '-11', '256', '212'], ['27829188_fbb55bf7fff48540_MG_R_ML_ANON_slice12', '2048', '2048', '3072', '3072', '0.99', '207', '-4', '494', '208'], ['27829188_fbb55bf7fff48540_MG_R_ML_ANON_slice13', '1536', '2560', '2560', '3584'], ['27829188_fbb55bf7fff48540_MG_R_ML_ANON_slice14', '2048', '2560', '3072', '3584'], ['30011507_349323117bf0fd93_MG_L_CC_ANON_slice0', '0', '512', '1024', '1536'], ['30011507_349323117bf0fd93_MG_L_CC_ANON_slice1', '0', '1024', '1024', '2048'], ['30011507_349323117bf0fd93_MG_L_CC_ANON_slice2', '0', '1536', '1024', '2560', '0.94', '125', '595', '118', '164'], ['30011507_349323117bf0fd93_MG_L_CC_ANON_slice3', '0', '2048', '1024', '3072', '0.85', '121', '28', '135', '243'], ['30011553_349323117bf0fd93_MG_L_ML_ANON_slice0', '0', '0', '1024', '1024'], ['30011553_349323117bf0fd93_MG_L_ML_ANON_slice1', '512', '0', '1536', '1024'], ['30011553_349323117bf0fd93_MG_L_ML_ANON_slice2', '0', '512', '1024', '1536'], ['30011553_349323117bf0fd93_MG_L_ML_ANON_slice3', '512', '512', '1536', '1536'], ['30011553_349323117bf0fd93_MG_L_ML_ANON_slice4', '0', '1024', '1024', '2048'], ['30011553_349323117bf0fd93_MG_L_ML_ANON_slice5', '512', '1024', '1536', '2048'], ['30011553_349323117bf0fd93_MG_L_ML_ANON_slice6', '0', '1536', '1024', '2560'], ['30011553_349323117bf0fd93_MG_L_ML_ANON_slice7', '512', '1536', '1536', '2560'], ['30011553_349323117bf0fd93_MG_L_ML_ANON_slice8', '0', '2048', '1024', '3072'], ['30011674_6968748e66837bc7_MG_L_CC_ANON_slice0', '0', '0', '1024', '1024', '0.25', '456', '790', '522', '234'], ['30011674_6968748e66837bc7_MG_L_CC_ANON_slice1', '512', '0', '1536', '1024', '0.49', '-11', '-186', '1034', '852'], ['30011674_6968748e66837bc7_MG_L_CC_ANON_slice2', '0', '512', '1024', '1536', '0.97', '548', '363', '339', '416'], ['30011674_6968748e66837bc7_MG_L_CC_ANON_slice3', '512', '512', '1536', '1536', '0.84', '58', '343', '318', '453'], ['30011674_6968748e66837bc7_MG_L_CC_ANON_slice4', '1024', '512', '2048', '1536'], ['30011674_6968748e66837bc7_MG_L_CC_ANON_slice5', '0', '1024', '1024', '2048', '1.0', '566', '-2', '292', '244'], ['30011674_6968748e66837bc7_MG_L_CC_ANON_slice6', '512', '1024', '1536', '2048', '0.98', '77', '-0', '268', '250'], ['30011674_6968748e66837bc7_MG_L_CC_ANON_slice7', '1024', '1024', '2048', '2048'], ['30011674_6968748e66837bc7_MG_L_CC_ANON_slice8', '0', '1536', '1024', '2560'], ['30011674_6968748e66837bc7_MG_L_CC_ANON_slice9', '512', '1536', '1536', '2560'], ['30011674_6968748e66837bc7_MG_L_CC_ANON_slice10', '1024', '1536', '2048', '2560'], ['30011674_6968748e66837bc7_MG_L_CC_ANON_slice11', '0', '2048', '1024', '3072'], ['30011674_6968748e66837bc7_MG_L_CC_ANON_slice12', '512', '2048', '1536', '3072', '0.36', '-5', '395', '1013', '785'], ['30011727_6968748e66837bc7_MG_L_ML_ANON_slice0', '0', '0', '1024', '1024'], ['30011727_6968748e66837bc7_MG_L_ML_ANON_slice1', '512', '0', '1536', '1024'], ['30011727_6968748e66837bc7_MG_L_ML_ANON_slice2', '0', '512', '1024', '1536'], ['30011727_6968748e66837bc7_MG_L_ML_ANON_slice3', '512', '512', '1536', '1536'], ['30011727_6968748e66837bc7_MG_L_ML_ANON_slice4', '0', '1024', '1024', '2048', '0.9', '829', '467', '205', '275'], ['30011727_6968748e66837bc7_MG_L_ML_ANON_slice5', '512', '1024', '1536', '2048', '0.99', '298', '466', '318', '274'], ['30011727_6968748e66837bc7_MG_L_ML_ANON_slice6', '1024', '1024', '2048', '2048'], ['30011727_6968748e66837bc7_MG_L_ML_ANON_slice7', '0', '1536', '1024', '2560', '0.33', '-5', '839', '91', '193', '0.43', '838', '-16', '189', '278'], ['30011727_6968748e66837bc7_MG_L_ML_ANON_slice8', '512', '1536', '1536', '2560', '0.99', '312', '-9', '292', '242'], ['30011727_6968748e66837bc7_MG_L_ML_ANON_slice9', '1024', '1536', '2048', '2560'], ['30011727_6968748e66837bc7_MG_L_ML_ANON_slice10', '0', '2048', '1024', '3072'], ['30011727_6968748e66837bc7_MG_L_ML_ANON_slice11', '512', '2048', '1536', '3072'], ['50994273_cc9e66c5b31baab8_MG_R_CC_ANON_slice0', '1536', '0', '2560', '1024'], ['50994273_cc9e66c5b31baab8_MG_R_CC_ANON_slice1', '1536', '512', '2560', '1536'], ['50994273_cc9e66c5b31baab8_MG_R_CC_ANON_slice2', '1536', '1024', '2560', '2048'], ['50994273_cc9e66c5b31baab8_MG_R_CC_ANON_slice3', '1536', '1536', '2560', '2560'], ['50994354_cc9e66c5b31baab8_MG_R_ML_ANON_slice0', '1024', '0', '2048', '1024'], ['50994354_cc9e66c5b31baab8_MG_R_ML_ANON_slice1', '1536', '0', '2560', '1024', '0.96', '663', '796', '261', '233'], ['50994354_cc9e66c5b31baab8_MG_R_ML_ANON_slice2', '1024', '512', '2048', '1536'], ['50994354_cc9e66c5b31baab8_MG_R_ML_ANON_slice3', '1536', '512', '2560', '1536', '0.83', '665', '296', '265', '302'], ['50994354_cc9e66c5b31baab8_MG_R_ML_ANON_slice4', '1024', '1024', '2048', '2048'], ['50994354_cc9e66c5b31baab8_MG_R_ML_ANON_slice5', '1536', '1024', '2560', '2048'], ['50994354_cc9e66c5b31baab8_MG_R_ML_ANON_slice6', '1536', '1536', '2560', '2560'], ['50994354_cc9e66c5b31baab8_MG_R_ML_ANON_slice7', '1536', '2048', '2560', '3072'], ['50994408_cc9e66c5b31baab8_MG_R_CC_ANON_slice0', '1536', '512', '2560', '1536'], ['50994408_cc9e66c5b31baab8_MG_R_CC_ANON_slice1', '1536', '1024', '2560', '2048'], ['50994408_cc9e66c5b31baab8_MG_R_CC_ANON_slice2', '1536', '1536', '2560', '2560'], ['50994408_cc9e66c5b31baab8_MG_R_CC_ANON_slice3', '1536', '2048', '2560', '3072', '0.49', '-80', '349', '1049', '876'], ['50995762_0c735e8768d276b4_MG_R_ML_ANON_slice0', '1024', '0', '2048', '1024'], ['50995762_0c735e8768d276b4_MG_R_ML_ANON_slice1', '1536', '0', '2560', '1024'], ['50995762_0c735e8768d276b4_MG_R_ML_ANON_slice2', '1024', '512', '2048', '1536'], ['50995762_0c735e8768d276b4_MG_R_ML_ANON_slice3', '1536', '512', '2560', '1536'], ['50995762_0c735e8768d276b4_MG_R_ML_ANON_slice4', '1024', '1024', '2048', '2048'], ['50995762_0c735e8768d276b4_MG_R_ML_ANON_slice5', '1536', '1024', '2560', '2048'], ['50995762_0c735e8768d276b4_MG_R_ML_ANON_slice6', '1024', '1536', '2048', '2560'], ['50995762_0c735e8768d276b4_MG_R_ML_ANON_slice7', '1536', '1536', '2560', '2560'], ['50995762_0c735e8768d276b4_MG_R_ML_ANON_slice8', '1536', '2048', '2560', '3072'], ['50995789_0c735e8768d276b4_MG_R_CC_ANON_slice0', '1536', '0', '2560', '1024'], ['50995789_0c735e8768d276b4_MG_R_CC_ANON_slice1', '1024', '512', '2048', '1536'], ['50995789_0c735e8768d276b4_MG_R_CC_ANON_slice2', '1536', '512', '2560', '1536'], ['50995789_0c735e8768d276b4_MG_R_CC_ANON_slice3', '1024', '1024', '2048', '2048'], ['50995789_0c735e8768d276b4_MG_R_CC_ANON_slice4', '1536', '1024', '2560', '2048'], ['50995789_0c735e8768d276b4_MG_R_CC_ANON_slice5', '1024', '1536', '2048', '2560'], ['50995789_0c735e8768d276b4_MG_R_CC_ANON_slice6', '1536', '1536', '2560', '2560'], ['50995789_0c735e8768d276b4_MG_R_CC_ANON_slice7', '1536', '2048', '2560', '3072'], ['50996352_6aba0b402889a16f_MG_R_ML_ANON_slice0', '1024', '0', '2048', '1024'], ['50996352_6aba0b402889a16f_MG_R_ML_ANON_slice1', '1536', '0', '2560', '1024'], ['50996352_6aba0b402889a16f_MG_R_ML_ANON_slice2', '1024', '512', '2048', '1536', '0.98', '840', '860', '185', '165'], ['50996352_6aba0b402889a16f_MG_R_ML_ANON_slice3', '1536', '512', '2560', '1536', '1.0', '305', '842', '383', '183'], ['50996352_6aba0b402889a16f_MG_R_ML_ANON_slice4', '1024', '1024', '2048', '2048', '0.99', '829', '349', '199', '366'], ['50996352_6aba0b402889a16f_MG_R_ML_ANON_slice5', '1536', '1024', '2560', '2048', '1.0', '311', '349', '357', '354'], ['50996352_6aba0b402889a16f_MG_R_ML_ANON_slice6', '1024', '1536', '2048', '2560', '0.88', '843', '-2', '183', '173'], ['50996352_6aba0b402889a16f_MG_R_ML_ANON_slice7', '1536', '1536', '2560', '2560', '0.99', '310', '3', '371', '166'], ['50996352_6aba0b402889a16f_MG_R_ML_ANON_slice8', '1024', '2048', '2048', '3072', '0.4', '-70', '386', '1026', '806'], ['50996352_6aba0b402889a16f_MG_R_ML_ANON_slice9', '1536', '2048', '2560', '3072'], ['50996406_6aba0b402889a16f_MG_R_CC_ANON_slice0', '1536', '0', '2560', '1024', '0.62', '-109', '-110', '1115', '973', '0.26', '36', '-135', '950', '622'], ['50996406_6aba0b402889a16f_MG_R_CC_ANON_slice1', '1024', '512', '2048', '1536'], ['50996406_6aba0b402889a16f_MG_R_CC_ANON_slice2', '1536', '512', '2560', '1536', '1.0', '662', '665', '331', '355'], ['50996406_6aba0b402889a16f_MG_R_CC_ANON_slice3', '1024', '1024', '2048', '2048'], ['50996406_6aba0b402889a16f_MG_R_CC_ANON_slice4', '1536', '1024', '2560', '2048', '1.0', '660', '159', '337', '376'], ['50996406_6aba0b402889a16f_MG_R_CC_ANON_slice5', '1024', '1536', '2048', '2560'], ['50996406_6aba0b402889a16f_MG_R_CC_ANON_slice6', '1536', '1536', '2560', '2560'], ['50996406_6aba0b402889a16f_MG_R_CC_ANON_slice7', '1536', '2048', '2560', '3072'], ['50997461_97ec8cadfca70d32_MG_R_ML_ANON_slice0', '2048', '0', '3072', '1024'], ['50997461_97ec8cadfca70d32_MG_R_ML_ANON_slice1', '1536', '512', '2560', '1536'], ['50997461_97ec8cadfca70d32_MG_R_ML_ANON_slice2', '2048', '512', '3072', '1536'], ['50997461_97ec8cadfca70d32_MG_R_ML_ANON_slice3', '1024', '1024', '2048', '2048'], ['50997461_97ec8cadfca70d32_MG_R_ML_ANON_slice4', '1536', '1024', '2560', '2048'], ['50997461_97ec8cadfca70d32_MG_R_ML_ANON_slice5', '2048', '1024', '3072', '2048', '0.25', '140', '489', '175', '156'], ['50997461_97ec8cadfca70d32_MG_R_ML_ANON_slice6', '1024', '1536', '2048', '2560'], ['50997461_97ec8cadfca70d32_MG_R_ML_ANON_slice7', '1536', '1536', '2560', '2560'], ['50997461_97ec8cadfca70d32_MG_R_ML_ANON_slice8', '2048', '1536', '3072', '2560'], ['50997461_97ec8cadfca70d32_MG_R_ML_ANON_slice9', '1024', '2048', '2048', '3072'], ['50997461_97ec8cadfca70d32_MG_R_ML_ANON_slice10', '1536', '2048', '2560', '3072'], ['50997461_97ec8cadfca70d32_MG_R_ML_ANON_slice11', '2048', '2048', '3072', '3072'], ['50997461_97ec8cadfca70d32_MG_R_ML_ANON_slice12', '1024', '2560', '2048', '3584'], ['50997461_97ec8cadfca70d32_MG_R_ML_ANON_slice13', '1536', '2560', '2560', '3584'], ['50997461_97ec8cadfca70d32_MG_R_ML_ANON_slice14', '2048', '2560', '3072', '3584'], ['50997515_97ec8cadfca70d32_MG_R_CC_ANON_slice0', '2048', '0', '3072', '1024', '0.39', '-24', '560', '1076', '457', '0.52', '-0', '-161', '1009', '800'], ['50997515_97ec8cadfca70d32_MG_R_CC_ANON_slice1', '1536', '512', '2560', '1536'], ['50997515_97ec8cadfca70d32_MG_R_CC_ANON_slice2', '2048', '512', '3072', '1536'], ['50997515_97ec8cadfca70d32_MG_R_CC_ANON_slice3', '1024', '1024', '2048', '2048'], ['50997515_97ec8cadfca70d32_MG_R_CC_ANON_slice4', '1536', '1024', '2560', '2048'], ['50997515_97ec8cadfca70d32_MG_R_CC_ANON_slice5', '2048', '1024', '3072', '2048', '0.73', '492', '251', '418', '400'], ['50997515_97ec8cadfca70d32_MG_R_CC_ANON_slice6', '1024', '1536', '2048', '2560'], ['50997515_97ec8cadfca70d32_MG_R_CC_ANON_slice7', '1536', '1536', '2560', '2560'], ['50997515_97ec8cadfca70d32_MG_R_CC_ANON_slice8', '2048', '1536', '3072', '2560'], ['50997515_97ec8cadfca70d32_MG_R_CC_ANON_slice9', '1024', '2048', '2048', '3072'], ['50997515_97ec8cadfca70d32_MG_R_CC_ANON_slice10', '1536', '2048', '2560', '3072'], ['50997515_97ec8cadfca70d32_MG_R_CC_ANON_slice11', '2048', '2048', '3072', '3072'], ['50997515_97ec8cadfca70d32_MG_R_CC_ANON_slice12', '1536', '2560', '2560', '3584'], ['50997515_97ec8cadfca70d32_MG_R_CC_ANON_slice13', '2048', '2560', '3072', '3584'], ['50998981_a78eba834ef6ee88_MG_R_ML_ANON_slice0', '1536', '0', '2560', '1024'], ['50998981_a78eba834ef6ee88_MG_R_ML_ANON_slice1', '1536', '512', '2560', '1536', '0.78', '500', '569', '262', '301'], ['50998981_a78eba834ef6ee88_MG_R_ML_ANON_slice2', '1536', '1024', '2560', '2048', '0.78', '506', '47', '250', '340'], ['50998981_a78eba834ef6ee88_MG_R_ML_ANON_slice3', '1536', '1536', '2560', '2560'], ['50999008_a78eba834ef6ee88_MG_R_CC_ANON_slice0', '1536', '512', '2560', '1536', '0.98', '697', '656', '230', '270'], ['50999008_a78eba834ef6ee88_MG_R_CC_ANON_slice1', '1536', '1024', '2560', '2048', '0.98', '701', '147', '223', '272'], ['50999008_a78eba834ef6ee88_MG_R_CC_ANON_slice2', '1536', '1536', '2560', '2560'], ['50999432_f62fbf38fb208316_MG_L_ML_ANON_slice0', '0', '0', '1024', '1024', '0.82', '-50', '80', '729', '872'], ['50999432_f62fbf38fb208316_MG_L_ML_ANON_slice1', '512', '0', '1536', '1024'], ['50999432_f62fbf38fb208316_MG_L_ML_ANON_slice2', '1024', '0', '2048', '1024'], ['50999432_f62fbf38fb208316_MG_L_ML_ANON_slice3', '0', '512', '1024', '1536'], ['50999432_f62fbf38fb208316_MG_L_ML_ANON_slice4', '512', '512', '1536', '1536'], ['50999432_f62fbf38fb208316_MG_L_ML_ANON_slice5', '1024', '512', '2048', '1536'], ['50999432_f62fbf38fb208316_MG_L_ML_ANON_slice6', '0', '1024', '1024', '2048'], ['50999432_f62fbf38fb208316_MG_L_ML_ANON_slice7', '512', '1024', '1536', '2048', '1.0', '404', '726', '508', '299'], ['50999432_f62fbf38fb208316_MG_L_ML_ANON_slice8', '1024', '1024', '2048', '2048', '0.99', '-21', '736', '421', '290'], ['50999432_f62fbf38fb208316_MG_L_ML_ANON_slice9', '0', '1536', '1024', '2560'], ['50999432_f62fbf38fb208316_MG_L_ML_ANON_slice10', '512', '1536', '1536', '2560', '1.0', '418', '216', '476', '501'], ['50999432_f62fbf38fb208316_MG_L_ML_ANON_slice11', '1024', '1536', '2048', '2560', '1.0', '13', '225', '353', '475'], ['50999432_f62fbf38fb208316_MG_L_ML_ANON_slice12', '0', '2048', '1024', '3072'], ['50999432_f62fbf38fb208316_MG_L_ML_ANON_slice13', '512', '2048', '1536', '3072', '0.92', '461', '-4', '404', '183'], ['50999432_f62fbf38fb208316_MG_L_ML_ANON_slice14', '1024', '2048', '2048', '3072', '0.94', '17', '-4', '330', '181', '0.65', '19', '-142', '971', '1300'], ['50999432_f62fbf38fb208316_MG_L_ML_ANON_slice15', '0', '2560', '1024', '3584'], ['50999432_f62fbf38fb208316_MG_L_ML_ANON_slice16', '512', '2560', '1536', '3584'], ['50999459_f62fbf38fb208316_MG_L_CC_ANON_slice0', '0', '0', '1024', '1024', '0.61', '-41', '-174', '1093', '829'], ['50999459_f62fbf38fb208316_MG_L_CC_ANON_slice1', '0', '512', '1024', '1536'], ['50999459_f62fbf38fb208316_MG_L_CC_ANON_slice2', '512', '512', '1536', '1536', '0.25', '43', '-199', '925', '870'], ['50999459_f62fbf38fb208316_MG_L_CC_ANON_slice3', '0', '1024', '1024', '2048', '0.87', '863', '532', '161', '473'], ['50999459_f62fbf38fb208316_MG_L_CC_ANON_slice4', '512', '1024', '1536', '2048', '1.0', '314', '541', '493', '451'], ['50999459_f62fbf38fb208316_MG_L_CC_ANON_slice5', '1024', '1024', '2048', '2048', '0.98', '1', '545', '296', '464'], ['50999459_f62fbf38fb208316_MG_L_CC_ANON_slice6', '0', '1536', '1024', '2560', '0.94', '863', '32', '162', '448'], ['50999459_f62fbf38fb208316_MG_L_CC_ANON_slice7', '512', '1536', '1536', '2560', '1.0', '329', '37', '485', '460'], ['50999459_f62fbf38fb208316_MG_L_CC_ANON_slice8', '1024', '1536', '2048', '2560', '0.98', '-5', '32', '311', '457'], ['50999459_f62fbf38fb208316_MG_L_CC_ANON_slice9', '0', '2048', '1024', '3072'], ['50999459_f62fbf38fb208316_MG_L_CC_ANON_slice10', '512', '2048', '1536', '3072'], ['50999459_f62fbf38fb208316_MG_L_CC_ANON_slice11', '1024', '2048', '2048', '3072'], ['50999459_f62fbf38fb208316_MG_L_CC_ANON_slice12', '0', '2560', '1024', '3584'], ['50999459_f62fbf38fb208316_MG_L_CC_ANON_slice13', '512', '2560', '1536', '3584'], ['51048738_3f22cdda8da215e3_MG_R_ML_ANON_slice0', '1024', '0', '2048', '1024'], ['51048738_3f22cdda8da215e3_MG_R_ML_ANON_slice1', '1536', '0', '2560', '1024'], ['51048738_3f22cdda8da215e3_MG_R_ML_ANON_slice2', '512', '512', '1536', '1536'], ['51048738_3f22cdda8da215e3_MG_R_ML_ANON_slice3', '1024', '512', '2048', '1536'], ['51048738_3f22cdda8da215e3_MG_R_ML_ANON_slice4', '1536', '512', '2560', '1536'], ['51048738_3f22cdda8da215e3_MG_R_ML_ANON_slice5', '512', '1024', '1536', '2048'], ['51048738_3f22cdda8da215e3_MG_R_ML_ANON_slice6', '1024', '1024', '2048', '2048'], ['51048738_3f22cdda8da215e3_MG_R_ML_ANON_slice7', '1536', '1024', '2560', '2048'], ['51048738_3f22cdda8da215e3_MG_R_ML_ANON_slice8', '512', '1536', '1536', '2560'], ['51048738_3f22cdda8da215e3_MG_R_ML_ANON_slice9', '1024', '1536', '2048', '2560'], ['51048738_3f22cdda8da215e3_MG_R_ML_ANON_slice10', '1536', '1536', '2560', '2560'], ['51048738_3f22cdda8da215e3_MG_R_ML_ANON_slice11', '1024', '2048', '2048', '3072'], ['51048738_3f22cdda8da215e3_MG_R_ML_ANON_slice12', '1536', '2048', '2560', '3072', '0.49', '448', '526', '213', '158'], ['51048765_3f22cdda8da215e3_MG_R_CC_ANON_slice0', '1536', '0', '2560', '1024'], ['51048765_3f22cdda8da215e3_MG_R_CC_ANON_slice1', '1024', '512', '2048', '1536'], ['51048765_3f22cdda8da215e3_MG_R_CC_ANON_slice2', '1536', '512', '2560', '1536'], ['51048765_3f22cdda8da215e3_MG_R_CC_ANON_slice3', '512', '1024', '1536', '2048'], ['51048765_3f22cdda8da215e3_MG_R_CC_ANON_slice4', '1024', '1024', '2048', '2048'], ['51048765_3f22cdda8da215e3_MG_R_CC_ANON_slice5', '1536', '1024', '2560', '2048'], ['51048765_3f22cdda8da215e3_MG_R_CC_ANON_slice6', '1024', '1536', '2048', '2560', '0.38', '929', '861', '97', '157'], ['51048765_3f22cdda8da215e3_MG_R_CC_ANON_slice7', '1536', '1536', '2560', '2560'], ['51048765_3f22cdda8da215e3_MG_R_CC_ANON_slice8', '1024', '2048', '2048', '3072'], ['51048765_3f22cdda8da215e3_MG_R_CC_ANON_slice9', '1536', '2048', '2560', '3072'], ['51049053_8c105bb715bf1c3c_MG_L_ML_ANON_slice0', '0', '0', '1024', '1024', '0.61', '-1', '112', '887', '796'], ['51049053_8c105bb715bf1c3c_MG_L_ML_ANON_slice1', '512', '0', '1536', '1024'], ['51049053_8c105bb715bf1c3c_MG_L_ML_ANON_slice2', '0', '512', '1024', '1536'], ['51049053_8c105bb715bf1c3c_MG_L_ML_ANON_slice3', '512', '512', '1536', '1536'], ['51049053_8c105bb715bf1c3c_MG_L_ML_ANON_slice4', '1024', '512', '2048', '1536', '0.48', '-29', '-189', '1067', '862'], ['51049053_8c105bb715bf1c3c_MG_L_ML_ANON_slice5', '0', '1024', '1024', '2048'], ['51049053_8c105bb715bf1c3c_MG_L_ML_ANON_slice6', '512', '1024', '1536', '2048'], ['51049053_8c105bb715bf1c3c_MG_L_ML_ANON_slice7', '1024', '1024', '2048', '2048'], ['51049053_8c105bb715bf1c3c_MG_L_ML_ANON_slice8', '0', '1536', '1024', '2560', '0.9', '609', '810', '205', '211'], ['51049053_8c105bb715bf1c3c_MG_L_ML_ANON_slice9', '512', '1536', '1536', '2560', '0.8', '85', '816', '213', '198'], ['51049053_8c105bb715bf1c3c_MG_L_ML_ANON_slice10', '1024', '1536', '2048', '2560'], ['51049053_8c105bb715bf1c3c_MG_L_ML_ANON_slice11', '1536', '1536', '2560', '2560'], ['51049053_8c105bb715bf1c3c_MG_L_ML_ANON_slice12', '0', '2048', '1024', '3072', '0.89', '603', '306', '207', '225'], ['51049053_8c105bb715bf1c3c_MG_L_ML_ANON_slice13', '512', '2048', '1536', '3072', '0.65', '91', '311', '210', '218'], ['51049053_8c105bb715bf1c3c_MG_L_ML_ANON_slice14', '1024', '2048', '2048', '3072'], ['51049053_8c105bb715bf1c3c_MG_L_ML_ANON_slice15', '1536', '2048', '2560', '3072'], ['51049053_8c105bb715bf1c3c_MG_L_ML_ANON_slice16', '0', '2560', '1024', '3584'], ['51049053_8c105bb715bf1c3c_MG_L_ML_ANON_slice17', '512', '2560', '1536', '3584'], ['51049053_8c105bb715bf1c3c_MG_L_ML_ANON_slice18', '1024', '2560', '2048', '3584'], ['51049107_8c105bb715bf1c3c_MG_L_CC_ANON_slice0', '0', '0', '1024', '1024', '0.68', '-72', '-153', '1146', '926'], ['51049107_8c105bb715bf1c3c_MG_L_CC_ANON_slice1', '0', '512', '1024', '1536'], ['51049107_8c105bb715bf1c3c_MG_L_CC_ANON_slice2', '512', '512', '1536', '1536', '0.29', '19', '-196', '970', '870'], ['51049107_8c105bb715bf1c3c_MG_L_CC_ANON_slice3', '0', '1024', '1024', '2048', '0.55', '347', '489', '226', '233'], ['51049107_8c105bb715bf1c3c_MG_L_CC_ANON_slice4', '512', '1024', '1536', '2048'], ['51049107_8c105bb715bf1c3c_MG_L_CC_ANON_slice5', '1024', '1024', '2048', '2048'], ['51049107_8c105bb715bf1c3c_MG_L_CC_ANON_slice6', '0', '1536', '1024', '2560'], ['51049107_8c105bb715bf1c3c_MG_L_CC_ANON_slice7', '512', '1536', '1536', '2560'], ['51049107_8c105bb715bf1c3c_MG_L_CC_ANON_slice8', '1024', '1536', '2048', '2560'], ['51049107_8c105bb715bf1c3c_MG_L_CC_ANON_slice9', '0', '2048', '1024', '3072'], ['51049107_8c105bb715bf1c3c_MG_L_CC_ANON_slice10', '512', '2048', '1536', '3072'], ['51049107_8c105bb715bf1c3c_MG_L_CC_ANON_slice11', '1024', '2048', '2048', '3072'], ['51049107_8c105bb715bf1c3c_MG_L_CC_ANON_slice12', '0', '2560', '1024', '3584'], ['51049107_8c105bb715bf1c3c_MG_L_CC_ANON_slice13', '512', '2560', '1536', '3584', '0.27', '419', '581', '156', '114'], ['51049107_8c105bb715bf1c3c_MG_L_CC_ANON_slice14', '1024', '2560', '2048', '3584'], ['53580804_51bec6477a7898b9_MG_L_ML_ANON_slice0', '0', '0', '1024', '1024'], ['53580804_51bec6477a7898b9_MG_L_ML_ANON_slice1', '512', '0', '1536', '1024', '0.42', '6', '396', '152', '477'], ['53580804_51bec6477a7898b9_MG_L_ML_ANON_slice2', '0', '512', '1024', '1536'], ['53580804_51bec6477a7898b9_MG_L_ML_ANON_slice3', '512', '512', '1536', '1536', '0.66', '-10', '-21', '189', '360'], ['53580804_51bec6477a7898b9_MG_L_ML_ANON_slice4', '1024', '512', '2048', '1536'], ['53580804_51bec6477a7898b9_MG_L_ML_ANON_slice5', '0', '1024', '1024', '2048'], ['53580804_51bec6477a7898b9_MG_L_ML_ANON_slice6', '512', '1024', '1536', '2048'], ['53580804_51bec6477a7898b9_MG_L_ML_ANON_slice7', '1024', '1024', '2048', '2048'], ['53580804_51bec6477a7898b9_MG_L_ML_ANON_slice8', '0', '1536', '1024', '2560', '0.91', '123', '858', '343', '167'], ['53580804_51bec6477a7898b9_MG_L_ML_ANON_slice9', '512', '1536', '1536', '2560'], ['53580804_51bec6477a7898b9_MG_L_ML_ANON_slice10', '1024', '1536', '2048', '2560'], ['53580804_51bec6477a7898b9_MG_L_ML_ANON_slice11', '0', '2048', '1024', '3072', '0.93', '135', '343', '261', '287'], ['53580804_51bec6477a7898b9_MG_L_ML_ANON_slice12', '512', '2048', '1536', '3072'], ['53580804_51bec6477a7898b9_MG_L_ML_ANON_slice13', '1024', '2048', '2048', '3072'], ['53580804_51bec6477a7898b9_MG_L_ML_ANON_slice14', '0', '2560', '1024', '3584'], ['53580804_51bec6477a7898b9_MG_L_ML_ANON_slice15', '512', '2560', '1536', '3584'], ['53580804_51bec6477a7898b9_MG_L_ML_ANON_slice16', '1024', '2560', '2048', '3584'], ['53580858_51bec6477a7898b9_MG_L_CC_ANON_slice0', '0', '512', '1024', '1536'], ['53580858_51bec6477a7898b9_MG_L_CC_ANON_slice1', '512', '512', '1536', '1536', '0.5', '-11', '-174', '1036', '829'], ['53580858_51bec6477a7898b9_MG_L_CC_ANON_slice2', '0', '1024', '1024', '2048', '1.0', '141', '663', '287', '295'], ['53580858_51bec6477a7898b9_MG_L_CC_ANON_slice3', '512', '1024', '1536', '2048'], ['53580858_51bec6477a7898b9_MG_L_CC_ANON_slice4', '0', '1536', '1024', '2560', '1.0', '136', '152', '290', '305'], ['53580858_51bec6477a7898b9_MG_L_CC_ANON_slice5', '512', '1536', '1536', '2560'], ['53580858_51bec6477a7898b9_MG_L_CC_ANON_slice6', '1024', '1536', '2048', '2560'], ['53580858_51bec6477a7898b9_MG_L_CC_ANON_slice7', '0', '2048', '1024', '3072'], ['53580858_51bec6477a7898b9_MG_L_CC_ANON_slice8', '512', '2048', '1536', '3072'], ['53580858_51bec6477a7898b9_MG_L_CC_ANON_slice9', '1024', '2048', '2048', '3072'], ['53580858_51bec6477a7898b9_MG_L_CC_ANON_slice10', '0', '2560', '1024', '3584'], ['53580858_51bec6477a7898b9_MG_L_CC_ANON_slice11', '512', '2560', '1536', '3584'], ['53581406_b231a8ba4dd4214f_MG_R_ML_ANON_slice0', '1024', '0', '2048', '1024'], ['53581406_b231a8ba4dd4214f_MG_R_ML_ANON_slice1', '1536', '0', '2560', '1024', '0.68', '127', '109', '910', '796'], ['53581406_b231a8ba4dd4214f_MG_R_ML_ANON_slice2', '512', '512', '1536', '1536'], ['53581406_b231a8ba4dd4214f_MG_R_ML_ANON_slice3', '1024', '512', '2048', '1536'], ['53581406_b231a8ba4dd4214f_MG_R_ML_ANON_slice4', '1536', '512', '2560', '1536'], ['53581406_b231a8ba4dd4214f_MG_R_ML_ANON_slice5', '512', '1024', '1536', '2048'], ['53581406_b231a8ba4dd4214f_MG_R_ML_ANON_slice6', '1024', '1024', '2048', '2048', '0.94', '711', '645', '136', '154'], ['53581406_b231a8ba4dd4214f_MG_R_ML_ANON_slice7', '1536', '1024', '2560', '2048', '0.92', '196', '647', '141', '148'], ['53581406_b231a8ba4dd4214f_MG_R_ML_ANON_slice8', '512', '1536', '1536', '2560'], ['53581406_b231a8ba4dd4214f_MG_R_ML_ANON_slice9', '1024', '1536', '2048', '2560', '0.85', '708', '134', '137', '151'], ['53581406_b231a8ba4dd4214f_MG_R_ML_ANON_slice10', '1536', '1536', '2560', '2560', '0.74', '193', '134', '142', '154'], ['53581406_b231a8ba4dd4214f_MG_R_ML_ANON_slice11', '1024', '2048', '2048', '3072'], ['53581406_b231a8ba4dd4214f_MG_R_ML_ANON_slice12', '1536', '2048', '2560', '3072'], ['53581460_b231a8ba4dd4214f_MG_R_CC_ANON_slice0', '1536', '0', '2560', '1024'], ['53581460_b231a8ba4dd4214f_MG_R_CC_ANON_slice1', '1024', '512', '2048', '1536'], ['53581460_b231a8ba4dd4214f_MG_R_CC_ANON_slice2', '1536', '512', '2560', '1536'], ['53581460_b231a8ba4dd4214f_MG_R_CC_ANON_slice3', '1024', '1024', '2048', '2048'], ['53581460_b231a8ba4dd4214f_MG_R_CC_ANON_slice4', '1536', '1024', '2560', '2048'], ['53581460_b231a8ba4dd4214f_MG_R_CC_ANON_slice5', '1024', '1536', '2048', '2560'], ['53581460_b231a8ba4dd4214f_MG_R_CC_ANON_slice6', '1536', '1536', '2560', '2560'], ['53581460_b231a8ba4dd4214f_MG_R_CC_ANON_slice7', '1024', '2048', '2048', '3072', '0.53', '-76', '277', '1038', '887'], ['53581460_b231a8ba4dd4214f_MG_R_CC_ANON_slice8', '1536', '2048', '2560', '3072'], ['53582656_465aa5ec1b59efc6_MG_L_ML_ANON_slice0', '0', '0', '1024', '1024'], ['53582656_465aa5ec1b59efc6_MG_L_ML_ANON_slice1', '0', '512', '1024', '1536'], ['53582656_465aa5ec1b59efc6_MG_L_ML_ANON_slice2', '512', '512', '1536', '1536'], ['53582656_465aa5ec1b59efc6_MG_L_ML_ANON_slice3', '0', '1024', '1024', '2048', '0.98', '16', '144', '859', '883'], ['53582656_465aa5ec1b59efc6_MG_L_ML_ANON_slice4', '512', '1024', '1536', '2048', '0.57', '-5', '120', '345', '798'], ['53582656_465aa5ec1b59efc6_MG_L_ML_ANON_slice5', '0', '1536', '1024', '2560', '0.93', '-30', '-10', '952', '645'], ['53582656_465aa5ec1b59efc6_MG_L_ML_ANON_slice6', '512', '1536', '1536', '2560'], ['53582656_465aa5ec1b59efc6_MG_L_ML_ANON_slice7', '0', '2048', '1024', '3072'], ['53582683_465aa5ec1b59efc6_MG_L_CC_ANON_slice0', '0', '512', '1024', '1536'], ['53582683_465aa5ec1b59efc6_MG_L_CC_ANON_slice1', '0', '1024', '1024', '2048', '0.26', '214', '44', '211', '230'], ['53582683_465aa5ec1b59efc6_MG_L_CC_ANON_slice2', '512', '1024', '1536', '2048'], ['53582683_465aa5ec1b59efc6_MG_L_CC_ANON_slice3', '0', '1536', '1024', '2560', '0.98', '114', '79', '776', '845'], ['53582683_465aa5ec1b59efc6_MG_L_CC_ANON_slice4', '512', '1536', '1536', '2560', '0.4', '-4', '145', '336', '606'], ['53582683_465aa5ec1b59efc6_MG_L_CC_ANON_slice5', '0', '2048', '1024', '3072'], ['53582683_465aa5ec1b59efc6_MG_L_CC_ANON_slice6', '512', '2048', '1536', '3072', '0.29', '-25', '-11', '1068', '1051'], ['53586869_6ac23356b912ee9b_MG_L_ML_ANON_slice0', '0', '0', '1024', '1024', '0.98', '-93', '-22', '1206', '1089'], ['53586869_6ac23356b912ee9b_MG_L_ML_ANON_slice1', '512', '0', '1536', '1024'], ['53586869_6ac23356b912ee9b_MG_L_ML_ANON_slice2', '0', '512', '1024', '1536', '0.33', '73', '393', '872', '781', '0.75', '123', '-79', '890', '765'], ['53586869_6ac23356b912ee9b_MG_L_ML_ANON_slice3', '512', '512', '1536', '1536', '0.45', '-52', '-8', '602', '520'], ['53586869_6ac23356b912ee9b_MG_L_ML_ANON_slice4', '0', '1024', '1024', '2048'], ['53586869_6ac23356b912ee9b_MG_L_ML_ANON_slice5', '512', '1024', '1536', '2048'], ['53586869_6ac23356b912ee9b_MG_L_ML_ANON_slice6', '1024', '1024', '2048', '2048'], ['53586869_6ac23356b912ee9b_MG_L_ML_ANON_slice7', '0', '1536', '1024', '2560'], ['53586869_6ac23356b912ee9b_MG_L_ML_ANON_slice8', '512', '1536', '1536', '2560'], ['53586869_6ac23356b912ee9b_MG_L_ML_ANON_slice9', '1024', '1536', '2048', '2560'], ['53586869_6ac23356b912ee9b_MG_L_ML_ANON_slice10', '1536', '1536', '2560', '2560'], ['53586869_6ac23356b912ee9b_MG_L_ML_ANON_slice11', '0', '2048', '1024', '3072'], ['53586869_6ac23356b912ee9b_MG_L_ML_ANON_slice12', '512', '2048', '1536', '3072'], ['53586869_6ac23356b912ee9b_MG_L_ML_ANON_slice13', '1024', '2048', '2048', '3072'], ['53586869_6ac23356b912ee9b_MG_L_ML_ANON_slice14', '1536', '2048', '2560', '3072'], ['53586869_6ac23356b912ee9b_MG_L_ML_ANON_slice15', '0', '2560', '1024', '3584'], ['53586869_6ac23356b912ee9b_MG_L_ML_ANON_slice16', '512', '2560', '1536', '3584', '0.83', '867', '443', '163', '175'], ['53586869_6ac23356b912ee9b_MG_L_ML_ANON_slice17', '1024', '2560', '2048', '3584'], ['53586869_6ac23356b912ee9b_MG_L_ML_ANON_slice18', '1536', '2560', '2560', '3584'], ['53586896_6ac23356b912ee9b_MG_L_CC_ANON_slice0', '0', '0', '1024', '1024', '0.49', '-14', '-159', '1034', '801'], ['53586896_6ac23356b912ee9b_MG_L_CC_ANON_slice1', '512', '0', '1536', '1024', '0.67', '-60', '-151', '1123', '920'], ['53586896_6ac23356b912ee9b_MG_L_CC_ANON_slice2', '0', '512', '1024', '1536'], ['53586896_6ac23356b912ee9b_MG_L_CC_ANON_slice3', '512', '512', '1536', '1536'], ['53586896_6ac23356b912ee9b_MG_L_CC_ANON_slice4', '1024', '512', '2048', '1536', '0.3', '60', '-194', '891', '857'], ['53586896_6ac23356b912ee9b_MG_L_CC_ANON_slice5', '0', '1024', '1024', '2048'], ['53586896_6ac23356b912ee9b_MG_L_CC_ANON_slice6', '512', '1024', '1536', '2048'], ['53586896_6ac23356b912ee9b_MG_L_CC_ANON_slice7', '1024', '1024', '2048', '2048'], ['53586896_6ac23356b912ee9b_MG_L_CC_ANON_slice8', '1536', '1024', '2560', '2048'], ['53586896_6ac23356b912ee9b_MG_L_CC_ANON_slice9', '0', '1536', '1024', '2560'], ['53586896_6ac23356b912ee9b_MG_L_CC_ANON_slice10', '512', '1536', '1536', '2560'], ['53586896_6ac23356b912ee9b_MG_L_CC_ANON_slice11', '1024', '1536', '2048', '2560'], ['53586896_6ac23356b912ee9b_MG_L_CC_ANON_slice12', '1536', '1536', '2560', '2560'], ['53586896_6ac23356b912ee9b_MG_L_CC_ANON_slice13', '0', '2048', '1024', '3072', '0.59', '72', '41', '873', '943'], ['53586896_6ac23356b912ee9b_MG_L_CC_ANON_slice14', '512', '2048', '1536', '3072', '0.99', '791', '517', '237', '246'], ['53586896_6ac23356b912ee9b_MG_L_CC_ANON_slice15', '1024', '2048', '2048', '3072', '0.77', '286', '538', '260', '214'], ['53586896_6ac23356b912ee9b_MG_L_CC_ANON_slice16', '1536', '2048', '2560', '3072'], ['53586896_6ac23356b912ee9b_MG_L_CC_ANON_slice17', '0', '2560', '1024', '3584'], ['53586896_6ac23356b912ee9b_MG_L_CC_ANON_slice18', '512', '2560', '1536', '3584', '0.98', '797', '9', '227', '272'], ['53586896_6ac23356b912ee9b_MG_L_CC_ANON_slice19', '1024', '2560', '2048', '3584', '0.55', '284', '26', '268', '210'], ['53586896_6ac23356b912ee9b_MG_L_CC_ANON_slice20', '1536', '2560', '2560', '3584'], ['53586960_809e3f43339f93c6_MG_L_ML_ANON_slice0', '0', '0', '1024', '1024'], ['53586960_809e3f43339f93c6_MG_L_ML_ANON_slice1', '512', '0', '1536', '1024'], ['53586960_809e3f43339f93c6_MG_L_ML_ANON_slice2', '0', '512', '1024', '1536'], ['53586960_809e3f43339f93c6_MG_L_ML_ANON_slice3', '512', '512', '1536', '1536'], ['53586960_809e3f43339f93c6_MG_L_ML_ANON_slice4', '0', '1024', '1024', '2048', '0.37', '486', '698', '460', '314'], ['53586960_809e3f43339f93c6_MG_L_ML_ANON_slice5', '512', '1024', '1536', '2048'], ['53586960_809e3f43339f93c6_MG_L_ML_ANON_slice6', '1024', '1024', '2048', '2048'], ['53586960_809e3f43339f93c6_MG_L_ML_ANON_slice7', '0', '1536', '1024', '2560'], ['53586960_809e3f43339f93c6_MG_L_ML_ANON_slice8', '512', '1536', '1536', '2560'], ['53586960_809e3f43339f93c6_MG_L_ML_ANON_slice9', '1024', '1536', '2048', '2560'], ['53586960_809e3f43339f93c6_MG_L_ML_ANON_slice10', '0', '2048', '1024', '3072'], ['53586960_809e3f43339f93c6_MG_L_ML_ANON_slice11', '512', '2048', '1536', '3072'], ['53586960_809e3f43339f93c6_MG_L_ML_ANON_slice12', '1024', '2048', '2048', '3072'], ['53586960_809e3f43339f93c6_MG_L_ML_ANON_slice13', '0', '2560', '1024', '3584'], ['53586960_809e3f43339f93c6_MG_L_ML_ANON_slice14', '512', '2560', '1536', '3584'], ['53586960_809e3f43339f93c6_MG_L_ML_ANON_slice15', '1024', '2560', '2048', '3584'], ['53587014_809e3f43339f93c6_MG_L_CC_ANON_slice0', '0', '0', '1024', '1024', '0.68', '-72', '-146', '1148', '911'], ['53587014_809e3f43339f93c6_MG_L_CC_ANON_slice1', '0', '512', '1024', '1536'], ['53587014_809e3f43339f93c6_MG_L_CC_ANON_slice2', '512', '512', '1536', '1536', '0.33', '70', '-243', '869', '965'], ['53587014_809e3f43339f93c6_MG_L_CC_ANON_slice3', '0', '1024', '1024', '2048'], ['53587014_809e3f43339f93c6_MG_L_CC_ANON_slice4', '512', '1024', '1536', '2048'], ['53587014_809e3f43339f93c6_MG_L_CC_ANON_slice5', '1024', '1024', '2048', '2048'], ['53587014_809e3f43339f93c6_MG_L_CC_ANON_slice6', '0', '1536', '1024', '2560', '0.82', '202', '873', '491', '149'], ['53587014_809e3f43339f93c6_MG_L_CC_ANON_slice7', '512', '1536', '1536', '2560', '0.55', '-3', '896', '170', '130'], ['53587014_809e3f43339f93c6_MG_L_CC_ANON_slice8', '1024', '1536', '2048', '2560'], ['53587014_809e3f43339f93c6_MG_L_CC_ANON_slice9', '0', '2048', '1024', '3072', '0.96', '200', '353', '487', '331'], ['53587014_809e3f43339f93c6_MG_L_CC_ANON_slice10', '512', '2048', '1536', '3072', '0.88', '-11', '376', '174', '243'], ['53587014_809e3f43339f93c6_MG_L_CC_ANON_slice11', '1024', '2048', '2048', '3072'], ['53587014_809e3f43339f93c6_MG_L_CC_ANON_slice12', '0', '2560', '1024', '3584'], ['53587014_809e3f43339f93c6_MG_L_CC_ANON_slice13', '512', '2560', '1536', '3584'], ['53587014_809e3f43339f93c6_MG_L_CC_ANON_slice14', '1024', '2560', '2048', '3584', '0.25', '12', '-178', '997', '1373'], ['53587663_5fb370d4c1c71974_MG_R_CC_ANON_slice0', '2048', '512', '3072', '1536'], ['53587663_5fb370d4c1c71974_MG_R_CC_ANON_slice1', '1536', '1024', '2560', '2048'], ['53587663_5fb370d4c1c71974_MG_R_CC_ANON_slice2', '2048', '1024', '3072', '2048'], ['53587663_5fb370d4c1c71974_MG_R_CC_ANON_slice3', '1536', '1536', '2560', '2560'], ['53587663_5fb370d4c1c71974_MG_R_CC_ANON_slice4', '2048', '1536', '3072', '2560'], ['53587663_5fb370d4c1c71974_MG_R_CC_ANON_slice5', '1536', '2048', '2560', '3072'], ['53587663_5fb370d4c1c71974_MG_R_CC_ANON_slice6', '2048', '2048', '3072', '3072'], ['53587663_5fb370d4c1c71974_MG_R_CC_ANON_slice7', '1536', '2560', '2560', '3584'], ['53587663_5fb370d4c1c71974_MG_R_CC_ANON_slice8', '2048', '2560', '3072', '3584']]\n"
     ]
    }
   ],
   "source": [
    "file_path = \"D:/darknet-master/build/darknet/x64/results/CMD_result.txt\"\n",
    "with open(file_path, 'r') as file:\n",
    "        lines = file.readlines()\n",
    "\n",
    "CMD_data = []\n",
    "for line in lines:\n",
    "    if \"C:/Users/HAUYU/Desktop/data/cropped\" in line or \"abnormal\" in line:\n",
    "         CMD_data.append(line)\n",
    "\n",
    "num = 0\n",
    "for data in CMD_data:\n",
    "    if(num == 0):\n",
    "        colon_index = data.find(': Predicted')\n",
    "        data = data[:colon_index]\n",
    "        basename = os.path.basename(data).split('.')[0]\n",
    "        picture_data = []\n",
    "        num = num + 1\n",
    "    else:\n",
    "        if(data.startswith('C:/Users/HAUYU/Desktop/data/cropped')):\n",
    "            for i in range(len(CMD_result)):\n",
    "                if(basename == CMD_result[i][0]):\n",
    "                    for j in range(len(picture_data)):\n",
    "                        CMD_result[i].append(picture_data[j])\n",
    "            colon_index = data.find(': Predicted')\n",
    "            data = data[:colon_index]\n",
    "            basename = os.path.basename(data).split('.')[0]\n",
    "            picture_data = []\n",
    "        elif(data.startswith('abnormal')):\n",
    "            values = []\n",
    "            values.extend(data.strip().split())\n",
    "            values[1] = float(values[1].replace('%', '')) / 100 \n",
    "            picture_data.append(str(values[1]))\n",
    "            picture_data.append(values[3])\n",
    "            picture_data.append(values[5])\n",
    "            picture_data.append(values[7])\n",
    "            values[9] = int(values[9].replace(')', ''))\n",
    "            picture_data.append(str(values[9]))\n",
    "print(CMD_result)"
   ]
  },
  {
   "cell_type": "code",
   "execution_count": 11,
   "id": "063ef2fc-06e1-4053-aaee-143d23c162b1",
   "metadata": {
    "collapsed": true,
    "jupyter": {
     "outputs_hidden": true
    },
    "tags": []
   },
   "outputs": [
    {
     "name": "stdout",
     "output_type": "stream",
     "text": [
      "106\n",
      "[['20586908_6c613a14b80a8591_MG_R_CC_ANON', '0.56', '2093', '706', '2458', '958', '0.62', '2373', '1025', '2502', '1114', '0.68', '2441', '1612', '2593', '1763'], ['20586934_6c613a14b80a8591_MG_L_CC_ANON', '0.99', '92', '1986', '351', '2227'], ['20586960_6c613a14b80a8591_MG_R_ML_ANON', '0.9', '2441', '805', '2720', '985'], ['20586986_6c613a14b80a8591_MG_L_ML_ANON', '0.93', '61', '2295', '441', '2657'], ['20587612_f4b2d377f43ba0bd_MG_R_CC_ANON', '1.0', '2719', '502', '3076', '815'], ['20587664_f4b2d377f43ba0bd_MG_R_ML_ANON', '0.66', '916', '2869', '2020', '3694', '1.0', '2365', '845', '2760', '1152'], ['20587758_81cd83d2f4d78528_MG_L_CC_ANON', '0.51', '492', '-178', '1544', '660', '0.54', '191', '1084', '372', '1262'], ['20587810_81cd83d2f4d78528_MG_L_ML_ANON'], ['20587902_8dbbd4e51f549ff0_MG_R_CC_ANON', '0.68', '1411', '2376', '2550', '3163', '1.0', '1361', '1024', '2617', '1899'], ['20587928_8dbbd4e51f549ff0_MG_R_ML_ANON', '0.99', '1311', '1260', '2025', '2046'], ['20587994_024ee3569b2605dc_MG_R_CC_ANON', '0.88', '1929', '1921', '2205', '2174'], ['20588046_024ee3569b2605dc_MG_R_ML_ANON', '0.99', '1946', '2143', '2275', '2402'], ['20588190_8d0b9620c53c0268_MG_L_CC_ANON', '0.99', '62', '839', '324', '1099'], ['20588216_8d0b9620c53c0268_MG_L_ML_ANON', '0.84', '350', '903', '493', '1025', '0.99', '71', '1442', '306', '1742'], ['20588308_493155e17143edef_MG_L_ML_ANON', '1.0', '19', '1508', '418', '1855'], ['20588334_493155e17143edef_MG_L_CC_ANON', '1.0', '0', '2063', '366', '2411'], ['20588536_bf1a6aaadb05e3df_MG_L_ML_ANON', '0.58', '845', '1901', '1026', '2048', '1.0', '86', '460', '944', '1098'], ['20588562_bf1a6aaadb05e3df_MG_L_CC_ANON', '0.56', '-30', '-168', '1041', '653', '0.69', '1018', '1281', '1176', '1552', '1.0', '39', '809', '779', '1505'], ['20588680_036aff49b8ac84f0_MG_L_ML_ANON', '0.99', '-79', '1021', '956', '1816'], ['22427705_d713ef5849f98b6c_MG_L_CC_ANON', '0.59', '513', '875', '714', '1139', '1.0', '26', '1577', '271', '1852'], ['22427751_d713ef5849f98b6c_MG_L_ML_ANON', '0.58', '1233', '2254', '1511', '2564', '1.0', '679', '1188', '955', '1444'], ['22427840_bbd6a3a35438c11b_MG_R_CC_ANON', '0.98', '2031', '1023', '2446', '1325'], ['22579730_bbd6a3a35438c11b_MG_R_ML_ANON', '0.7', '2082', '863', '2238', '1035', '1.0', '1624', '907', '2077', '1413'], ['22580038_6200187f3f1ccc18_MG_L_CC_ANON', '1.0', '699', '1700', '1031', '2103'], ['22580098_6200187f3f1ccc18_MG_L_ML_ANON', '0.92', '803', '1295', '1130', '1538', '1.0', '597', '2237', '951', '2557'], ['22580192_5530d5782fc89dd7_MG_R_CC_ANON', '0.93', '1711', '1241', '2001', '1490'], ['22580244_5530d5782fc89dd7_MG_R_ML_ANON', '0.79', '1349', '1496', '1527', '1745'], ['22580341_5eae9beae14d26fd_MG_R_CC_ANON', '1.0', '1558', '835', '2548', '1782', '0.99', '1820', '1849', '2259', '2274'], ['22580367_5eae9beae14d26fd_MG_L_CC_ANON', '0.75', '28', '871', '423', '1023', '0.8', '328', '2055', '571', '2268', '1.0', '255', '1041', '862', '1702'], ['22580393_5eae9beae14d26fd_MG_R_ML_ANON', '0.99', '1579', '1050', '2226', '1885'], ['22580419_5eae9beae14d26fd_MG_L_ML_ANON', '1.0', '21', '1635', '547', '2088'], ['22580654_fe7d005dcbbfb46d_MG_R_CC_ANON', '0.6', '2012', '-171', '3090', '656', '0.99', '2295', '1575', '3109', '2782'], ['22580680_fe7d005dcbbfb46d_MG_L_CC_ANON'], ['22580706_fe7d005dcbbfb46d_MG_R_ML_ANON', '0.98', '2182', '2724', '3045', '3713', '0.98', '2025', '479', '3079', '2047'], ['22580732_fe7d005dcbbfb46d_MG_L_ML_ANON', '0.97', '560', '2434', '752', '2613'], ['22613650_dcafa6ba6374ec07_MG_L_CC_ANON', '0.52', '-15', '-176', '1030', '654', '0.56', '502', '2881', '1520', '3681', '1.0', '-23', '1255', '655', '2078'], ['22613702_dcafa6ba6374ec07_MG_L_ML_ANON', '1.0', '365', '1212', '1009', '1911'], ['22613770_45c7f44839fd9e68_MG_R_CC_ANON', '0.97', '2038', '1133', '2936', '1962'], ['22613822_45c7f44839fd9e68_MG_R_ML_ANON', '0.97', '2185', '896', '2812', '1397'], ['22614074_6bd24a0a42c19ce1_MG_R_CC_ANON', '0.62', '430', '2843', '1481', '3718', '1.0', '1948', '1464', '2350', '1925'], ['22614127_6bd24a0a42c19ce1_MG_R_ML_ANON', '1.0', '1984', '1716', '2422', '2110'], ['22614236_1e5c3af078f74b05_MG_L_CC_ANON', '0.99', '137', '1529', '491', '1796'], ['22614266_1e5c3af078f74b05_MG_L_ML_ANON', '0.72', '-5', '533', '85', '723', '0.87', '333', '1320', '653', '1601'], ['22614379_d065adcb9905b973_MG_L_CC_ANON', '1.0', '11', '2446', '640', '2948'], ['22614431_d065adcb9905b973_MG_L_ML_ANON', '1.0', '5', '2450', '342', '2913', '0.98', '752', '1446', '913', '1606', '0.93', '1099', '1931', '1285', '2111'], ['22614522_2dec4948fbe6336d_MG_L_CC_ANON', '0.61', '523', '874', '1006', '1021'], ['22614568_2dec4948fbe6336d_MG_L_ML_ANON', '0.9', '517', '1070', '746', '1308'], ['22670094_e1f51192f7bf3f5f_MG_R_CC_ANON', '0.96', '2779', '1158', '3072', '1457'], ['22670147_e1f51192f7bf3f5f_MG_R_ML_ANON', '0.88', '2409', '1174', '2838', '1563'], ['22670278_98429c0bdf78c0c7_MG_R_CC_ANON', '1.0', '1865', '1040', '2109', '1361'], ['22670324_98429c0bdf78c0c7_MG_R_ML_ANON', '1.0', '1570', '1213', '1785', '1555'], ['22670465_7e677f3d530e41ed_MG_L_CC_ANON', '1.0', '159', '653', '700', '1262'], ['22670511_7e677f3d530e41ed_MG_L_ML_ANON', '0.96', '246', '862', '837', '1514'], ['22670620_e15a16f87b4f9782_MG_R_CC_ANON'], ['22670673_e15a16f87b4f9782_MG_R_ML_ANON', '0.53', '942', '2856', '1991', '3706'], ['22670809_0b7396cdccacca82_MG_R_CC_ANON'], ['22670855_0b7396cdccacca82_MG_R_ML_ANON', '0.98', '2668', '1775', '2987', '2076'], ['22678646_61b13c59bcba149e_MG_L_CC_ANON'], ['22678694_61b13c59bcba149e_MG_L_ML_ANON', '0.74', '4', '501', '232', '837', '0.99', '-1', '2161', '333', '2465'], ['22678787_64a22c47765f0c5c_MG_R_CC_ANON', '0.55', '1364', '1022', '1995', '1237', '1.0', '1943', '1658', '2488', '2344'], ['22678833_64a22c47765f0c5c_MG_R_ML_ANON', '0.52', '1530', '1390', '1750', '1980', '0.69', '1084', '1534', '1367', '1778', '0.99', '2150', '2212', '2553', '2793'], ['24055274_1e10aef17c9fe149_MG_L_ML_ANON', '1.0', '399', '1600', '1019', '2072'], ['24055355_1e10aef17c9fe149_MG_L_CC_ANON', '1.0', '500', '1315', '1208', '1797'], ['24055445_ac3185e18ffdc7b6_MG_L_ML_ANON', '0.71', '999', '1533', '1926', '2563', '0.91', '79', '2581', '240', '2735'], ['24055464_ac3185e18ffdc7b6_MG_R_ML_ANON'], ['24055483_ac3185e18ffdc7b6_MG_L_CC_ANON', '0.52', '519', '-190', '1519', '668', '0.92', '423', '1873', '588', '2038'], ['24055502_ac3185e18ffdc7b6_MG_R_CC_ANON'], ['24065251_c4b995eddb3c510c_MG_L_ML_ANON', '0.57', '487', '2869', '1538', '3689', '0.99', '541', '970', '1143', '1803'], ['24065289_c4b995eddb3c510c_MG_L_CC_ANON', '0.99', '278', '1710', '904', '2492'], ['24065530_d8205a09c8173f44_MG_L_ML_ANON', '1.0', '-15', '1763', '1015', '2706'], ['24065707_5291e1aee2bbf5df_MG_R_ML_ANON'], ['24065761_5291e1aee2bbf5df_MG_R_CC_ANON'], ['27829134_fbb55bf7fff48540_MG_R_CC_ANON', '0.51', '1454', '2919', '2509', '3777', '1.0', '2522', '1950', '3030', '2517'], ['27829188_fbb55bf7fff48540_MG_R_ML_ANON', '0.67', '2678', '288', '3029', '730', '1.0', '2255', '1626', '2752', '2252'], ['30011507_349323117bf0fd93_MG_L_CC_ANON', '0.94', '121', '2076', '256', '2319'], ['30011553_349323117bf0fd93_MG_L_ML_ANON'], ['30011674_6968748e66837bc7_MG_L_CC_ANON', '1.0', '548', '855', '888', '1308'], ['30011727_6968748e66837bc7_MG_L_ML_ANON', '0.99', '810', '1490', '1128', '1769'], ['50994273_cc9e66c5b31baab8_MG_R_CC_ANON'], ['50994354_cc9e66c5b31baab8_MG_R_ML_ANON', '0.96', '2199', '796', '2466', '1110'], ['50994408_cc9e66c5b31baab8_MG_R_CC_ANON'], ['50995762_0c735e8768d276b4_MG_R_ML_ANON'], ['50995789_0c735e8768d276b4_MG_R_CC_ANON'], ['50996352_6aba0b402889a16f_MG_R_ML_ANON', '1.0', '1841', '1354', '2224', '1739'], ['50996406_6aba0b402889a16f_MG_R_CC_ANON', '0.62', '1427', '-110', '2542', '863', '1.0', '2196', '1177', '2533', '1559'], ['50997461_97ec8cadfca70d32_MG_R_ML_ANON'], ['50997515_97ec8cadfca70d32_MG_R_CC_ANON', '0.52', '2048', '-161', '3057', '639', '0.73', '2540', '1275', '2958', '1675'], ['50998981_a78eba834ef6ee88_MG_R_ML_ANON', '0.78', '2036', '1071', '2298', '1411'], ['50999008_a78eba834ef6ee88_MG_R_CC_ANON', '0.98', '2233', '1168', '2463', '1443'], ['50999432_f62fbf38fb208316_MG_L_ML_ANON', '0.82', '-50', '80', '679', '952', '1.0', '916', '1750', '2014', '3206'], ['50999459_f62fbf38fb208316_MG_L_CC_ANON', '0.61', '-41', '-174', '1052', '655', '1.0', '826', '1556', '1330', '2033'], ['51048738_3f22cdda8da215e3_MG_R_ML_ANON'], ['51048765_3f22cdda8da215e3_MG_R_CC_ANON'], ['51049053_8c105bb715bf1c3c_MG_L_ML_ANON', '0.61', '-1', '112', '886', '908', '0.9', '597', '2346', '814', '2579'], ['51049107_8c105bb715bf1c3c_MG_L_CC_ANON', '0.68', '-72', '-153', '1074', '773', '0.55', '347', '1513', '573', '1746'], ['53580804_51bec6477a7898b9_MG_L_ML_ANON', '0.66', '502', '491', '691', '851', '0.93', '123', '2391', '466', '2678'], ['53580858_51bec6477a7898b9_MG_L_CC_ANON', '1.0', '136', '1687', '428', '1993'], ['53581406_b231a8ba4dd4214f_MG_R_ML_ANON', '0.68', '1663', '109', '2573', '905', '0.94', '1729', '1669', '1873', '1824'], ['53581460_b231a8ba4dd4214f_MG_R_CC_ANON', '0.53', '948', '2325', '1986', '3212'], ['53582656_465aa5ec1b59efc6_MG_L_ML_ANON', '0.98', '-30', '1144', '922', '2171'], ['53582683_465aa5ec1b59efc6_MG_L_CC_ANON', '0.98', '114', '1615', '890', '2460'], ['53586869_6ac23356b912ee9b_MG_L_ML_ANON', '0.83', '1379', '3003', '1542', '3178', '0.98', '-93', '-22', '1113', '1198'], ['53586896_6ac23356b912ee9b_MG_L_CC_ANON', '0.67', '452', '-151', '1575', '769', '0.59', '72', '2089', '945', '3032', '0.99', '1303', '2565', '1576', '2841'], ['53586960_809e3f43339f93c6_MG_L_ML_ANON'], ['53587014_809e3f43339f93c6_MG_L_CC_ANON', '0.68', '-72', '-146', '1076', '765', '0.96', '200', '2401', '693', '2732'], ['53587663_5fb370d4c1c71974_MG_R_CC_ANON']]\n"
     ]
    }
   ],
   "source": [
    "cropped_folder = \"C:/Users/HAUYU/Desktop/data/cropped\"\n",
    "subfolders = [f.path for f in os.scandir(cropped_folder) if f.is_dir()]\n",
    "result_list = []\n",
    "for subfolder in subfolders:\n",
    "    foldername = os.path.basename(subfolder).split('.')[0]\n",
    "    overall_data = []\n",
    "    for sublist in CMD_result:\n",
    "        for element in sublist:\n",
    "            if foldername in element:\n",
    "                if(len(sublist)>5):\n",
    "                    overall_data.append(sublist)\n",
    "    result_list.append(overall_data)\n",
    "\n",
    "overall_data = []\n",
    "num=0\n",
    "for subfolder in subfolders:\n",
    "    foldername = os.path.basename(subfolder).split('.')[0]\n",
    "    picture_data = []\n",
    "    element=0\n",
    "    picture_data.append(f\"{foldername}\")\n",
    "    for i in range(len(result_list[num])):\n",
    "        index = int((len(result_list[num][element])-1)/5)\n",
    "        for j in range(index):\n",
    "            if(float(result_list[num][element][(j+1)*5])>0.5):\n",
    "                xmin = int(result_list[num][element][1]) + int(result_list[num][element][(j+1)*5+1])\n",
    "                ymin = int(result_list[num][element][2]) + int(result_list[num][element][(j+1)*5+2])\n",
    "                xmax = xmin + int(result_list[num][element][(j+1)*5+3])\n",
    "                ymax = ymin + int(result_list[num][element][(j+1)*5+4])\n",
    "                picture_data.append(str(result_list[num][element][(j+1)*5]))\n",
    "                picture_data.append(str(xmin))\n",
    "                picture_data.append(str(ymin))\n",
    "                picture_data.append(str(xmax))\n",
    "                picture_data.append(str(ymax))\n",
    "            else:\n",
    "                continue\n",
    "        element = element + 1\n",
    "    overall_data.append(picture_data)\n",
    "    num = num + 1\n",
    "\n",
    "CMD_result = []\n",
    "for i in range(len(overall_data)):\n",
    "    data_number = int((len(overall_data[i])-1)/5)\n",
    "    if(data_number<=1):\n",
    "        CMD_result.append(overall_data[i])\n",
    "        continue\n",
    "    else:\n",
    "        data_list = []\n",
    "        num = 0\n",
    "        for j in range(data_number):\n",
    "            data_list.append([overall_data[i][1+num],overall_data[i][2+num],overall_data[i][3+num],overall_data[i][4+num],overall_data[i][5+num]])\n",
    "            num = num + 5\n",
    "        if data_number==2:\n",
    "            confidence_i, xmin_i, ymin_i, xmax_i, ymax_i = data_list[0]\n",
    "            confidence_j, xmin_j, ymin_j, xmax_j, ymax_j = data_list[1]\n",
    "            if (float(xmin_i) <= float(xmax_j) and float(xmax_i) >= float(xmin_j) and float(ymin_i) <= float(ymax_j) and float(ymax_i) >= float(ymin_j)):\n",
    "                merged_xmin = min(int(xmin_i), int(xmin_j))\n",
    "                merged_ymin = min(int(ymin_i), int(ymin_j))\n",
    "                merged_xmax = max(int(xmax_i), int(xmax_j))\n",
    "                merged_ymax = max(int(ymax_i), int(ymax_j))\n",
    "                merged_confidence = max(float(confidence_i), float(confidence_j))\n",
    "                \n",
    "                name = overall_data[i][0]\n",
    "                overall_data[i].clear()\n",
    "                overall_data[i].append(name)\n",
    "                overall_data[i].append(str(merged_confidence))\n",
    "                overall_data[i].append(str(merged_xmin))\n",
    "                overall_data[i].append(str(merged_ymin))\n",
    "                overall_data[i].append(str(merged_xmax))\n",
    "                overall_data[i].append(str(merged_ymax))\n",
    "            CMD_result.append(overall_data[i])\n",
    "        elif(data_number>2):\n",
    "            while True:\n",
    "                for k in range(len(data_list)):\n",
    "                    #print(data_list)\n",
    "                    merged = False\n",
    "                    confidence_i, xmin_i, ymin_i, xmax_i, ymax_i = data_list[k]\n",
    "                    for l in range(k):\n",
    "                        confidence_j, xmin_j, ymin_j, xmax_j, ymax_j = data_list[l]\n",
    "                        if (float(xmin_i) <= float(xmax_j) and float(xmax_i) >= float(xmin_j) and float(ymin_i) <= float(ymax_j) and float(ymax_i) >= float(ymin_j)):\n",
    "                            merged_xmin = min(int(xmin_i), int(xmin_j))\n",
    "                            merged_ymin = min(int(ymin_i), int(ymin_j))\n",
    "                            merged_xmax = max(int(xmax_i), int(xmax_j))\n",
    "                            merged_ymax = max(int(ymax_i), int(ymax_j))\n",
    "                            merged_confidence = max(float(confidence_i), float(confidence_j))\n",
    "                            data_list.remove(data_list[k])\n",
    "                            data_list.remove(data_list[l])\n",
    "                            data_list.append([str(merged_confidence),str(merged_xmin),str(merged_ymin),str(merged_xmax),str(merged_ymax)])\n",
    "                            merged = True\n",
    "                            break\n",
    "                        else:\n",
    "                            merged = False\n",
    "                    if merged==True:\n",
    "                        break\n",
    "                if(len(data_list)==1):\n",
    "                    break\n",
    "                if merged==False:\n",
    "                    break\n",
    "            name = overall_data[i][0]\n",
    "            overall_data[i].clear()\n",
    "            overall_data[i].append(name)\n",
    "            for k in range(len(data_list)):\n",
    "                overall_data[i].append(str(data_list[k][0]))\n",
    "                overall_data[i].append(str(data_list[k][1]))\n",
    "                overall_data[i].append(str(data_list[k][2]))\n",
    "                overall_data[i].append(str(data_list[k][3]))\n",
    "                overall_data[i].append(str(data_list[k][4]))\n",
    "            CMD_result.append(overall_data[i])\n",
    "print(len(CMD_result)) \n",
    "print(CMD_result)           "
   ]
  },
  {
   "cell_type": "markdown",
   "id": "7ac678c6-fe13-4d97-a839-38f9fcc9dade",
   "metadata": {},
   "source": [
    "## CMD + FMD"
   ]
  },
  {
   "cell_type": "markdown",
   "id": "1d25e857-f8b9-4211-89b8-1fc6dad510d2",
   "metadata": {},
   "source": [
    "### 將FMD重疊資料做處理"
   ]
  },
  {
   "cell_type": "code",
   "execution_count": 12,
   "id": "c301e8f5-2126-40c5-b4e4-a665f0696fb8",
   "metadata": {
    "collapsed": true,
    "jupyter": {
     "outputs_hidden": true
    },
    "tags": []
   },
   "outputs": [
    {
     "name": "stdout",
     "output_type": "stream",
     "text": [
      "[['20586908_6c613a14b80a8591_MG_R_CC_ANON'], ['20586934_6c613a14b80a8591_MG_L_CC_ANON', '0.84', '99', '2004', '330', '2234', '0.66', '616', '1130', '842', '1333'], ['20586960_6c613a14b80a8591_MG_R_ML_ANON', '0.26', '1795', '1275', '1898', '1408'], ['20586986_6c613a14b80a8591_MG_L_ML_ANON'], ['20587612_f4b2d377f43ba0bd_MG_R_CC_ANON', '0.68', '2769', '529', '3032', '767'], ['20587664_f4b2d377f43ba0bd_MG_R_ML_ANON', '0.55', '2378', '840', '2763', '1173'], ['20587758_81cd83d2f4d78528_MG_L_CC_ANON', '0.99', '188', '1068', '379', '1281'], ['20587810_81cd83d2f4d78528_MG_L_ML_ANON'], ['20587902_8dbbd4e51f549ff0_MG_R_CC_ANON', '0.98', '1528', '1084', '2411', '1752'], ['20587928_8dbbd4e51f549ff0_MG_R_ML_ANON', '0.94', '1366', '1279', '2108', '1987'], ['20587994_024ee3569b2605dc_MG_R_CC_ANON'], ['20588046_024ee3569b2605dc_MG_R_ML_ANON', '0.98', '1980', '2184', '2250', '2367'], ['20588190_8d0b9620c53c0268_MG_L_CC_ANON', '0.99', '83', '850', '289', '1105'], ['20588216_8d0b9620c53c0268_MG_L_ML_ANON', '0.98', '80', '1455', '296', '1724'], ['20588308_493155e17143edef_MG_L_ML_ANON', '1.0', '46', '1470', '360', '1881'], ['20588334_493155e17143edef_MG_L_CC_ANON', '1.0', '30', '2081', '349', '2425'], ['20588536_bf1a6aaadb05e3df_MG_L_ML_ANON', '0.98', '343', '571', '841', '1076'], ['20588562_bf1a6aaadb05e3df_MG_L_CC_ANON', '0.99', '63', '876', '672', '1506'], ['20588680_036aff49b8ac84f0_MG_L_ML_ANON', '1.0', '83', '977', '706', '1781'], ['22427705_d713ef5849f98b6c_MG_L_CC_ANON', '0.96', '33', '1592', '287', '1837', '0.28', '217', '2929', '312', '3002'], ['22427751_d713ef5849f98b6c_MG_L_ML_ANON', '0.98', '693', '1207', '945', '1413'], ['22427840_bbd6a3a35438c11b_MG_R_CC_ANON', '0.86', '1976', '802', '2457', '1290'], ['22579730_bbd6a3a35438c11b_MG_R_ML_ANON', '1.0', '1668', '926', '2033', '1375'], ['22580038_6200187f3f1ccc18_MG_L_CC_ANON', '0.94', '721', '1777', '1010', '2105'], ['22580098_6200187f3f1ccc18_MG_L_ML_ANON', '0.96', '626', '2262', '965', '2505'], ['22580192_5530d5782fc89dd7_MG_R_CC_ANON', '0.95', '1704', '1228', '1980', '1496'], ['22580244_5530d5782fc89dd7_MG_R_ML_ANON', '0.71', '1350', '1521', '1504', '1734'], ['22580341_5eae9beae14d26fd_MG_R_CC_ANON', '0.91', '1699', '996', '2448', '1753', '0.9', '1855', '1843', '2231', '2347'], ['22580367_5eae9beae14d26fd_MG_L_CC_ANON', '0.99', '289', '1139', '850', '1620'], ['22580393_5eae9beae14d26fd_MG_R_ML_ANON', '0.94', '1586', '1071', '2186', '1848'], ['22580419_5eae9beae14d26fd_MG_L_ML_ANON', '1.0', '56', '1536', '521', '2129'], ['22580654_fe7d005dcbbfb46d_MG_R_CC_ANON', '0.94', '2460', '1729', '3148', '2765'], ['22580680_fe7d005dcbbfb46d_MG_L_CC_ANON'], ['22580706_fe7d005dcbbfb46d_MG_R_ML_ANON', '0.93', '2144', '3017', '3185', '3723'], ['22580732_fe7d005dcbbfb46d_MG_L_ML_ANON', '0.93', '574', '2445', '753', '2603'], ['22613650_dcafa6ba6374ec07_MG_L_CC_ANON', '0.97', '56', '1403', '522', '1956', '0.9', '1102', '1576', '1337', '1815'], ['22613702_dcafa6ba6374ec07_MG_L_ML_ANON', '0.84', '365', '1333', '962', '1814'], ['22613770_45c7f44839fd9e68_MG_R_CC_ANON', '0.26', '1869', '1432', '3062', '1690', '0.89', '1907', '1073', '3052', '2002', '0.48', '2338', '1117', '2967', '1705'], ['22613822_45c7f44839fd9e68_MG_R_ML_ANON', '0.25', '2243', '2528', '2368', '2649', '0.98', '2335', '967', '2729', '1300'], ['22614074_6bd24a0a42c19ce1_MG_R_CC_ANON', '0.95', '1990', '1452', '2327', '1940'], ['22614127_6bd24a0a42c19ce1_MG_R_ML_ANON', '1.0', '2000', '1709', '2404', '2101'], ['22614236_1e5c3af078f74b05_MG_L_CC_ANON', '0.98', '164', '1521', '477', '1801'], ['22614266_1e5c3af078f74b05_MG_L_ML_ANON', '0.88', '356', '1301', '641', '1594'], ['22614379_d065adcb9905b973_MG_L_CC_ANON', '1.0', '26', '2490', '614', '2897', '0.93', '954', '1498', '1095', '1647'], ['22614431_d065adcb9905b973_MG_L_ML_ANON', '1.0', '27', '2440', '310', '2870', '0.73', '760', '1452', '910', '1603', '0.93', '1138', '1943', '1282', '2109'], ['22614522_2dec4948fbe6336d_MG_L_CC_ANON', '0.98', '154', '308', '347', '556'], ['22614568_2dec4948fbe6336d_MG_L_ML_ANON', '0.98', '530', '1063', '732', '1303'], ['22670094_e1f51192f7bf3f5f_MG_R_CC_ANON', '0.89', '2774', '1136', '3227', '1453'], ['22670147_e1f51192f7bf3f5f_MG_R_ML_ANON'], ['22670278_98429c0bdf78c0c7_MG_R_CC_ANON', '0.99', '1890', '1052', '2103', '1316'], ['22670324_98429c0bdf78c0c7_MG_R_ML_ANON', '0.98', '1583', '1249', '1772', '1527'], ['22670465_7e677f3d530e41ed_MG_L_CC_ANON', '0.99', '94', '1802', '470', '2501', '0.84', '232', '666', '578', '1095'], ['22670511_7e677f3d530e41ed_MG_L_ML_ANON', '0.82', '265', '925', '769', '1452', '0.72', '336', '1810', '651', '2307'], ['22670620_e15a16f87b4f9782_MG_R_CC_ANON', '0.93', '3063', '586', '3332', '836'], ['22670673_e15a16f87b4f9782_MG_R_ML_ANON', '0.77', '3037', '1216', '3336', '1414'], ['22670809_0b7396cdccacca82_MG_R_CC_ANON', '0.98', '3042', '2533', '3275', '2824'], ['22670855_0b7396cdccacca82_MG_R_ML_ANON', '0.98', '2712', '1799', '2964', '2090'], ['22678646_61b13c59bcba149e_MG_L_CC_ANON', '1.0', '113', '1585', '380', '1939'], ['22678694_61b13c59bcba149e_MG_L_ML_ANON', '0.99', '26', '2175', '308', '2451'], ['22678787_64a22c47765f0c5c_MG_R_CC_ANON', '1.0', '1983', '1660', '2462', '2241'], ['22678833_64a22c47765f0c5c_MG_R_ML_ANON', '0.99', '2195', '2245', '2527', '2701'], ['24055274_1e10aef17c9fe149_MG_L_ML_ANON', '0.97', '482', '1591', '1024', '2032'], ['24055355_1e10aef17c9fe149_MG_L_CC_ANON', '1.0', '564', '1330', '1134', '1760'], ['24055445_ac3185e18ffdc7b6_MG_L_ML_ANON', '0.36', '51', '2570', '231', '2772'], ['24055464_ac3185e18ffdc7b6_MG_R_ML_ANON'], ['24055483_ac3185e18ffdc7b6_MG_L_CC_ANON'], ['24055502_ac3185e18ffdc7b6_MG_R_CC_ANON'], ['24065251_c4b995eddb3c510c_MG_L_ML_ANON', '0.92', '688', '999', '1091', '1564'], ['24065289_c4b995eddb3c510c_MG_L_CC_ANON', '0.86', '310', '1742', '843', '2335'], ['24065530_d8205a09c8173f44_MG_L_ML_ANON', '0.92', '152', '1599', '743', '2706', '0.48', '172', '1849', '809', '2364', '0.26', '254', '2169', '783', '2382', '0.3', '335', '1869', '630', '2227'], ['24065707_5291e1aee2bbf5df_MG_R_ML_ANON', '0.73', '2963', '1472', '3173', '1718'], ['24065761_5291e1aee2bbf5df_MG_R_CC_ANON', '0.97', '3069', '994', '3301', '1207'], ['27829134_fbb55bf7fff48540_MG_R_CC_ANON', '0.98', '2602', '1987', '3001', '2529'], ['27829188_fbb55bf7fff48540_MG_R_ML_ANON', '0.99', '2316', '1765', '2693', '2253'], ['30011507_349323117bf0fd93_MG_L_CC_ANON', '0.86', '67', '1145', '275', '1268', '0.86', '117', '2154', '252', '2293'], ['30011553_349323117bf0fd93_MG_L_ML_ANON', '0.43', '142', '1755', '278', '1924'], ['30011674_6968748e66837bc7_MG_L_CC_ANON', '0.97', '591', '1001', '870', '1286'], ['30011727_6968748e66837bc7_MG_L_ML_ANON', '0.99', '833', '1504', '1136', '1755'], ['50994273_cc9e66c5b31baab8_MG_R_CC_ANON'], ['50994354_cc9e66c5b31baab8_MG_R_ML_ANON', '0.98', '2207', '794', '2465', '1104', '0.92', '2301', '2138', '2419', '2224'], ['50994408_cc9e66c5b31baab8_MG_R_CC_ANON'], ['50995762_0c735e8768d276b4_MG_R_ML_ANON'], ['50995789_0c735e8768d276b4_MG_R_CC_ANON', '0.85', '1962', '1197', '2059', '1283'], ['50996352_6aba0b402889a16f_MG_R_ML_ANON', '1.0', '1870', '1365', '2191', '1702'], ['50996406_6aba0b402889a16f_MG_R_CC_ANON', '1.0', '2210', '1184', '2507', '1540'], ['50997461_97ec8cadfca70d32_MG_R_ML_ANON', '0.69', '2370', '1538', '2707', '2050', '0.98', '2739', '1413', '2957', '1630'], ['50997515_97ec8cadfca70d32_MG_R_CC_ANON', '0.6', '2244', '1164', '2456', '1399', '0.67', '2586', '1276', '2906', '1744'], ['50998981_a78eba834ef6ee88_MG_R_ML_ANON', '0.88', '2050', '1075', '2270', '1325'], ['50999008_a78eba834ef6ee88_MG_R_CC_ANON', '0.99', '2252', '1153', '2450', '1438'], ['50999432_f62fbf38fb208316_MG_L_ML_ANON', '1.0', '1037', '1767', '1348', '2241'], ['50999459_f62fbf38fb208316_MG_L_CC_ANON', '1.0', '902', '1572', '1278', '2036'], ['51048738_3f22cdda8da215e3_MG_R_ML_ANON', '0.92', '2000', '2590', '2201', '2719'], ['51048765_3f22cdda8da215e3_MG_R_CC_ANON'], ['51049053_8c105bb715bf1c3c_MG_L_ML_ANON', '0.98', '616', '2341', '811', '2564'], ['51049107_8c105bb715bf1c3c_MG_L_CC_ANON', '0.99', '356', '1517', '575', '1731'], ['53580804_51bec6477a7898b9_MG_L_ML_ANON', '0.99', '160', '2384', '468', '2638'], ['53580858_51bec6477a7898b9_MG_L_CC_ANON', '1.0', '162', '1699', '419', '1981'], ['53581406_b231a8ba4dd4214f_MG_R_ML_ANON', '0.98', '1737', '1666', '1874', '1826'], ['53581460_b231a8ba4dd4214f_MG_R_CC_ANON'], ['53582656_465aa5ec1b59efc6_MG_L_ML_ANON', '0.31', '83', '1350', '758', '2155'], ['53582683_465aa5ec1b59efc6_MG_L_CC_ANON', '0.38', '213', '1762', '775', '2541', '0.32', '232', '1066', '430', '1298'], ['53586869_6ac23356b912ee9b_MG_L_ML_ANON', '1.0', '1388', '3011', '1591', '3156'], ['53586896_6ac23356b912ee9b_MG_L_CC_ANON', '0.98', '1310', '2590', '1563', '2806'], ['53586960_809e3f43339f93c6_MG_L_ML_ANON'], ['53587014_809e3f43339f93c6_MG_L_CC_ANON', '0.75', '225', '2383', '721', '2711'], ['53587663_5fb370d4c1c71974_MG_R_CC_ANON']]\n"
     ]
    }
   ],
   "source": [
    "def calculate_overlap_percentage(box1, box2):\n",
    "\n",
    "    x1_intersection = max(int(box1[1]), int(box2[1]))\n",
    "    y1_intersection = max(int(box1[2]), int(box2[2]))\n",
    "    x2_intersection = min(int(box1[3]), int(box2[3]))\n",
    "    y2_intersection = min(int(box1[4]), int(box2[4]))\n",
    "\n",
    "    area_box1 = (int(box1[3]) - int(box1[1])) * (int(box1[4]) - int(box1[2]))\n",
    "    area_box2 = (int(box2[3]) - int(box2[1])) * (int(box2[4]) - int(box2[2]))\n",
    "\n",
    "    intersection_area = max(0, int(x2_intersection) - int(x1_intersection)) * max(0, int(y2_intersection) - int(y1_intersection))\n",
    "\n",
    "    union_area = area_box1 + area_box2 - intersection_area\n",
    "    overlap_percentage = (intersection_area / union_area) * 100\n",
    "\n",
    "    return overlap_percentage\n",
    "\n",
    "overall_data = FMD_result\n",
    "FMD_result = []\n",
    "for i in range(len(overall_data)):\n",
    "    data_number = int((len(overall_data[i])-1)/5)\n",
    "    if(data_number<=1):\n",
    "        FMD_result.append(overall_data[i])\n",
    "        continue\n",
    "    else:\n",
    "        data_list = []\n",
    "        num = 0\n",
    "        for j in range(data_number):\n",
    "            data_list.append([overall_data[i][1+num],overall_data[i][2+num],overall_data[i][3+num],overall_data[i][4+num],overall_data[i][5+num]])\n",
    "            num = num + 5\n",
    "        if data_number==2:\n",
    "            confidence_i, xmin_i, ymin_i, xmax_i, ymax_i = data_list[0]\n",
    "            confidence_j, xmin_j, ymin_j, xmax_j, ymax_j = data_list[1]\n",
    "            if (float(xmin_i) <= float(xmax_j) and float(xmax_i) >= float(xmin_j) and float(ymin_i) <= float(ymax_j) and float(ymax_i) >= float(ymin_j)):\n",
    "                if(float(calculate_overlap_percentage(data_list[0], data_list[1]))>40.0):\n",
    "                    if(confidence_i>confidence_j):\n",
    "                        name = overall_data[i][0]\n",
    "                        overall_data[i].clear()\n",
    "                        overall_data[i].append(name)\n",
    "                        overall_data[i].append(confidence_i)\n",
    "                        overall_data[i].append(xmin_i)\n",
    "                        overall_data[i].append(ymin_i)\n",
    "                        overall_data[i].append(xmax_i)\n",
    "                        overall_data[i].append(ymax_i)\n",
    "                        FMD_result.append(overall_data[i])\n",
    "                    elif(confidence_i<confidence_j):\n",
    "                        name = overall_data[i][0]\n",
    "                        overall_data[i].clear()\n",
    "                        overall_data[i].append(name)\n",
    "                        overall_data[i].append(confidence_j)\n",
    "                        overall_data[i].append(xmin_j)\n",
    "                        overall_data[i].append(ymin_j)\n",
    "                        overall_data[i].append(xmax_j)\n",
    "                        overall_data[i].append(ymax_j)\n",
    "                        FMD_result.append(overall_data[i])\n",
    "                else:\n",
    "                    FMD_result.append(overall_data[i])\n",
    "            else:\n",
    "                FMD_result.append(overall_data[i])\n",
    "        elif(data_number>2):\n",
    "            while True:\n",
    "                for k in range(len(data_list)):\n",
    "                    merged = False\n",
    "                    confidence_i, xmin_i, ymin_i, xmax_i, ymax_i = data_list[k]\n",
    "                    for l in range(k):\n",
    "                        confidence_j, xmin_j, ymin_j, xmax_j, ymax_j = data_list[l]\n",
    "                        if (float(xmin_i) <= float(xmax_j) and float(xmax_i) >= float(xmin_j) and float(ymin_i) <= float(ymax_j) and float(ymax_i) >= float(ymin_j)):\n",
    "                            if(calculate_overlap_percentage(data_list[k], data_list[l])>40.0):\n",
    "                                if(confidence_i>confidence_j):\n",
    "                                    merged_xmin = xmin_i\n",
    "                                    merged_ymin = ymin_i\n",
    "                                    merged_xmax = xmax_i\n",
    "                                    merged_ymax = ymax_i\n",
    "                                    data_list.remove(data_list[k])\n",
    "                                    data_list.remove(data_list[l])\n",
    "                                    data_list.append([confidence_i,merged_xmin,merged_ymin,merged_xmax,merged_ymax])\n",
    "                                    merged = True\n",
    "                                    break\n",
    "                                elif(confidence_j<confidence_i):\n",
    "                                    merged_xmin = xmin_j\n",
    "                                    merged_ymin = ymin_j\n",
    "                                    merged_xmax = xmax_j\n",
    "                                    merged_ymax = ymax_j\n",
    "                                    data_list.remove(data_list[k])\n",
    "                                    data_list.remove(data_list[l])\n",
    "                                    data_list.append([confidence_j,merged_xmin,merged_ymin,merged_xmax,merged_ymax])\n",
    "                                    merged = True\n",
    "                                    break\n",
    "                        else:\n",
    "                            merged = False\n",
    "                    if merged==True:\n",
    "                        break\n",
    "                if(len(data_list)==1):\n",
    "                    merged = False\n",
    "                if merged==False:\n",
    "                    break\n",
    "            name = overall_data[i][0]\n",
    "            overall_data[i].clear()\n",
    "            overall_data[i].append(name)\n",
    "            for k in range(len(data_list)):\n",
    "                overall_data[i].append(data_list[k][0])\n",
    "                overall_data[i].append(data_list[k][1])\n",
    "                overall_data[i].append(data_list[k][2])\n",
    "                overall_data[i].append(data_list[k][3])\n",
    "                overall_data[i].append(data_list[k][4])\n",
    "            FMD_result.append(overall_data[i])\n",
    "print(FMD_result)"
   ]
  },
  {
   "cell_type": "markdown",
   "id": "b060217d-efe8-4581-b965-00dd697b3d2d",
   "metadata": {},
   "source": [
    "### FMD和CMD資料合併"
   ]
  },
  {
   "cell_type": "code",
   "execution_count": 14,
   "id": "f32e9a0f-02e2-4ff6-9c1c-73607b40c1cd",
   "metadata": {
    "collapsed": true,
    "jupyter": {
     "outputs_hidden": true
    },
    "tags": []
   },
   "outputs": [
    {
     "name": "stdout",
     "output_type": "stream",
     "text": [
      "[['20586908_6c613a14b80a8591_MG_R_CC_ANON', '2093', '706', '2458', '958', '2373', '1025', '2502', '1114', '2441', '1612', '2593', '1763'], ['20586934_6c613a14b80a8591_MG_L_CC_ANON', '99', '2004', '330', '2227'], ['20586960_6c613a14b80a8591_MG_R_ML_ANON'], ['20586986_6c613a14b80a8591_MG_L_ML_ANON', '61', '2295', '441', '2657'], ['20587612_f4b2d377f43ba0bd_MG_R_CC_ANON', '2769', '529', '3032', '767'], ['20587664_f4b2d377f43ba0bd_MG_R_ML_ANON', '2378', '845', '2760', '1152'], ['20587758_81cd83d2f4d78528_MG_L_CC_ANON', '191', '1084', '372', '1262'], ['20587810_81cd83d2f4d78528_MG_L_ML_ANON'], ['20587902_8dbbd4e51f549ff0_MG_R_CC_ANON', '1528', '1084', '2411', '1752'], ['20587928_8dbbd4e51f549ff0_MG_R_ML_ANON', '1366', '1279', '2025', '1987'], ['20587994_024ee3569b2605dc_MG_R_CC_ANON', '1929', '1921', '2205', '2174'], ['20588046_024ee3569b2605dc_MG_R_ML_ANON', '1980', '2184', '2250', '2367'], ['20588190_8d0b9620c53c0268_MG_L_CC_ANON', '83', '850', '289', '1099'], ['20588216_8d0b9620c53c0268_MG_L_ML_ANON', '80', '1455', '296', '1724'], ['20588308_493155e17143edef_MG_L_ML_ANON', '46', '1508', '360', '1855'], ['20588334_493155e17143edef_MG_L_CC_ANON', '30', '2081', '349', '2411'], ['20588536_bf1a6aaadb05e3df_MG_L_ML_ANON', '86', '571', '841', '1076'], ['20588562_bf1a6aaadb05e3df_MG_L_CC_ANON', '63', '876', '672', '1505'], ['20588680_036aff49b8ac84f0_MG_L_ML_ANON', '83', '1021', '706', '1781'], ['22427705_d713ef5849f98b6c_MG_L_CC_ANON', '33', '1592', '271', '1837'], ['22427751_d713ef5849f98b6c_MG_L_ML_ANON', '693', '1207', '945', '1413'], ['22427840_bbd6a3a35438c11b_MG_R_CC_ANON', '2031', '1023', '2446', '1290'], ['22579730_bbd6a3a35438c11b_MG_R_ML_ANON', '1668', '926', '2033', '1375'], ['22580038_6200187f3f1ccc18_MG_L_CC_ANON', '721', '1777', '1010', '2103'], ['22580098_6200187f3f1ccc18_MG_L_ML_ANON', '626', '2262', '951', '2505'], ['22580192_5530d5782fc89dd7_MG_R_CC_ANON', '1711', '1241', '1980', '1490'], ['22580244_5530d5782fc89dd7_MG_R_ML_ANON', '1350', '1521', '1504', '1734'], ['22580341_5eae9beae14d26fd_MG_R_CC_ANON', '1699', '996', '2448', '1753', '1855', '1849', '2231', '2274'], ['22580367_5eae9beae14d26fd_MG_L_CC_ANON', '289', '1139', '850', '1620'], ['22580393_5eae9beae14d26fd_MG_R_ML_ANON', '1586', '1071', '2186', '1848'], ['22580419_5eae9beae14d26fd_MG_L_ML_ANON', '56', '1635', '521', '2088'], ['22580654_fe7d005dcbbfb46d_MG_R_CC_ANON', '2460', '1729', '3109', '2765'], ['22580680_fe7d005dcbbfb46d_MG_L_CC_ANON'], ['22580706_fe7d005dcbbfb46d_MG_R_ML_ANON', '2182', '3017', '3045', '3713'], ['22580732_fe7d005dcbbfb46d_MG_L_ML_ANON', '574', '2445', '752', '2603'], ['22613650_dcafa6ba6374ec07_MG_L_CC_ANON', '56', '1403', '522', '1956'], ['22613702_dcafa6ba6374ec07_MG_L_ML_ANON', '365', '1333', '962', '1814'], ['22613770_45c7f44839fd9e68_MG_R_CC_ANON', '1907', '1432', '3052', '1690', '2338', '1133', '2936', '1705'], ['22613822_45c7f44839fd9e68_MG_R_ML_ANON', '2335', '967', '2729', '1300'], ['22614074_6bd24a0a42c19ce1_MG_R_CC_ANON', '1990', '1464', '2327', '1925'], ['22614127_6bd24a0a42c19ce1_MG_R_ML_ANON', '2000', '1716', '2404', '2101'], ['22614236_1e5c3af078f74b05_MG_L_CC_ANON', '164', '1529', '477', '1796'], ['22614266_1e5c3af078f74b05_MG_L_ML_ANON', '356', '1320', '641', '1594'], ['22614379_d065adcb9905b973_MG_L_CC_ANON', '26', '2490', '614', '2897'], ['22614431_d065adcb9905b973_MG_L_ML_ANON', '5', '2450', '310', '2870', '760', '1452', '910', '1603', '1138', '1943', '1282', '2109'], ['22614522_2dec4948fbe6336d_MG_L_CC_ANON'], ['22614568_2dec4948fbe6336d_MG_L_ML_ANON', '530', '1070', '732', '1303'], ['22670094_e1f51192f7bf3f5f_MG_R_CC_ANON', '2779', '1158', '3072', '1453'], ['22670147_e1f51192f7bf3f5f_MG_R_ML_ANON', '2409', '1174', '2838', '1563'], ['22670278_98429c0bdf78c0c7_MG_R_CC_ANON', '1890', '1052', '2103', '1316'], ['22670324_98429c0bdf78c0c7_MG_R_ML_ANON', '1583', '1249', '1772', '1527'], ['22670465_7e677f3d530e41ed_MG_L_CC_ANON', '232', '666', '578', '1095'], ['22670511_7e677f3d530e41ed_MG_L_ML_ANON', '265', '925', '769', '1452'], ['22670620_e15a16f87b4f9782_MG_R_CC_ANON', '3063', '586', '3332', '836'], ['22670673_e15a16f87b4f9782_MG_R_ML_ANON'], ['22670809_0b7396cdccacca82_MG_R_CC_ANON', '3042', '2533', '3275', '2824'], ['22670855_0b7396cdccacca82_MG_R_ML_ANON', '2712', '1799', '2964', '2076'], ['22678646_61b13c59bcba149e_MG_L_CC_ANON', '113', '1585', '380', '1939'], ['22678694_61b13c59bcba149e_MG_L_ML_ANON', '26', '2175', '308', '2451'], ['22678787_64a22c47765f0c5c_MG_R_CC_ANON', '1983', '1660', '2462', '2241'], ['22678833_64a22c47765f0c5c_MG_R_ML_ANON', '2195', '2245', '2527', '2701'], ['24055274_1e10aef17c9fe149_MG_L_ML_ANON', '482', '1600', '1019', '2032'], ['24055355_1e10aef17c9fe149_MG_L_CC_ANON', '564', '1330', '1134', '1760'], ['24055445_ac3185e18ffdc7b6_MG_L_ML_ANON', '79', '2581', '231', '2735'], ['24055464_ac3185e18ffdc7b6_MG_R_ML_ANON'], ['24055483_ac3185e18ffdc7b6_MG_L_CC_ANON', '519', '-190', '1519', '668', '423', '1873', '588', '2038'], ['24055502_ac3185e18ffdc7b6_MG_R_CC_ANON'], ['24065251_c4b995eddb3c510c_MG_L_ML_ANON', '688', '999', '1091', '1564'], ['24065289_c4b995eddb3c510c_MG_L_CC_ANON', '310', '1742', '843', '2335'], ['24065530_d8205a09c8173f44_MG_L_ML_ANON', '172', '1849', '743', '2364', '335', '2169', '630', '2227'], ['24065707_5291e1aee2bbf5df_MG_R_ML_ANON', '2963', '1472', '3173', '1718'], ['24065761_5291e1aee2bbf5df_MG_R_CC_ANON', '3069', '994', '3301', '1207'], ['27829134_fbb55bf7fff48540_MG_R_CC_ANON', '2602', '1987', '3001', '2517'], ['27829188_fbb55bf7fff48540_MG_R_ML_ANON', '2316', '1765', '2693', '2252'], ['30011507_349323117bf0fd93_MG_L_CC_ANON', '121', '2154', '252', '2293'], ['30011553_349323117bf0fd93_MG_L_ML_ANON', '142', '1755', '278', '1924'], ['30011674_6968748e66837bc7_MG_L_CC_ANON', '591', '1001', '870', '1286'], ['30011727_6968748e66837bc7_MG_L_ML_ANON', '833', '1504', '1128', '1755'], ['50994273_cc9e66c5b31baab8_MG_R_CC_ANON'], ['50994354_cc9e66c5b31baab8_MG_R_ML_ANON', '2207', '796', '2465', '1104'], ['50994408_cc9e66c5b31baab8_MG_R_CC_ANON'], ['50995762_0c735e8768d276b4_MG_R_ML_ANON'], ['50995789_0c735e8768d276b4_MG_R_CC_ANON', '1962', '1197', '2059', '1283'], ['50996352_6aba0b402889a16f_MG_R_ML_ANON', '1870', '1365', '2191', '1702'], ['50996406_6aba0b402889a16f_MG_R_CC_ANON', '2210', '1184', '2507', '1540'], ['50997461_97ec8cadfca70d32_MG_R_ML_ANON', '2370', '1538', '2707', '2050', '2739', '1413', '2957', '1630'], ['50997515_97ec8cadfca70d32_MG_R_CC_ANON', '2586', '1276', '2906', '1675'], ['50998981_a78eba834ef6ee88_MG_R_ML_ANON', '2050', '1075', '2270', '1325'], ['50999008_a78eba834ef6ee88_MG_R_CC_ANON', '2252', '1168', '2450', '1438'], ['50999432_f62fbf38fb208316_MG_L_ML_ANON', '916', '1767', '1348', '2241'], ['50999459_f62fbf38fb208316_MG_L_CC_ANON', '902', '1572', '1278', '2033'], ['51048738_3f22cdda8da215e3_MG_R_ML_ANON', '2000', '2590', '2201', '2719'], ['51048765_3f22cdda8da215e3_MG_R_CC_ANON'], ['51049053_8c105bb715bf1c3c_MG_L_ML_ANON', '616', '2346', '811', '2564'], ['51049107_8c105bb715bf1c3c_MG_L_CC_ANON', '356', '1517', '573', '1731'], ['53580804_51bec6477a7898b9_MG_L_ML_ANON', '160', '2391', '466', '2638'], ['53580858_51bec6477a7898b9_MG_L_CC_ANON', '162', '1699', '419', '1981'], ['53581406_b231a8ba4dd4214f_MG_R_ML_ANON', '1737', '1669', '1873', '1824'], ['53581460_b231a8ba4dd4214f_MG_R_CC_ANON', '948', '2325', '1986', '3212'], ['53582656_465aa5ec1b59efc6_MG_L_ML_ANON', '83', '1350', '758', '2155'], ['53582683_465aa5ec1b59efc6_MG_L_CC_ANON', '213', '1762', '775', '2460'], ['53586869_6ac23356b912ee9b_MG_L_ML_ANON', '1388', '3011', '1542', '3156'], ['53586896_6ac23356b912ee9b_MG_L_CC_ANON', '1310', '2590', '1563', '2806'], ['53586960_809e3f43339f93c6_MG_L_ML_ANON'], ['53587014_809e3f43339f93c6_MG_L_CC_ANON', '225', '2401', '693', '2711'], ['53587663_5fb370d4c1c71974_MG_R_CC_ANON']]\n"
     ]
    }
   ],
   "source": [
    "CMD_FMD_result = []\n",
    "for i in range(len(FMD_result)):\n",
    "    CMD_FMD_result.append([FMD_result[i][0]])\n",
    "\n",
    "for k in range(len(CMD_FMD_result)):\n",
    "    if(len(FMD_result[k])<6 and len(CMD_result[k])>=6):\n",
    "        num = 0\n",
    "        for i in range(int((len(CMD_result[k])-1)/5)):\n",
    "            CMD_FMD_result[k].append(CMD_result[k][2+num])\n",
    "            CMD_FMD_result[k].append(CMD_result[k][3+num])\n",
    "            CMD_FMD_result[k].append(CMD_result[k][4+num])\n",
    "            CMD_FMD_result[k].append(CMD_result[k][5+num])\n",
    "            num = num + 5\n",
    "    elif(len(CMD_result[k])<6 and len(FMD_result[k])>=6):\n",
    "        num = 0\n",
    "        for i in range(int((len(FMD_result[k])-1)/5)):\n",
    "            CMD_FMD_result[k].append(FMD_result[k][2+num])\n",
    "            CMD_FMD_result[k].append(FMD_result[k][3+num])\n",
    "            CMD_FMD_result[k].append(FMD_result[k][4+num])\n",
    "            CMD_FMD_result[k].append(FMD_result[k][5+num])\n",
    "            num = num + 5      \n",
    "    else:\n",
    "        data_list = []\n",
    "        num = 0\n",
    "        for i in range(int((len(FMD_result[k])-1)/5)):\n",
    "            data_list.append([FMD_result[k][1+num],FMD_result[k][2+num],FMD_result[k][3+num],FMD_result[k][4+num],FMD_result[k][5+num],\"F\"])\n",
    "            num = num + 5\n",
    "        num = 0\n",
    "        for j in range(int((len(CMD_result[k])-1)/5)):\n",
    "            data_list.append([CMD_result[k][1+num],CMD_result[k][2+num],CMD_result[k][3+num],CMD_result[k][4+num],CMD_result[k][5+num],\"C\"])\n",
    "            num = num + 5\n",
    "        if len(data_list)==2:\n",
    "            confidence_i, xmin_i, ymin_i, xmax_i, ymax_i, index0 = data_list[0]\n",
    "            confidence_j, xmin_j, ymin_j, xmax_j, ymax_j, index1 = data_list[1]\n",
    "            if (float(xmin_i) <= float(xmax_j) and float(xmax_i) >= float(xmin_j) and float(ymin_i) <= float(ymax_j) and float(ymax_i) >= float(ymin_j)): \n",
    "                xmin_intersection = max(int(xmin_i), int(xmin_j))\n",
    "                ymin_intersection = max(int(ymin_i), int(ymin_j))\n",
    "                xmax_intersection = min(int(xmax_i), int(xmax_j))\n",
    "                ymax_intersection = min(int(ymax_i), int(ymax_j))\n",
    "                data_list.remove(data_list[0])\n",
    "                data_list.remove(data_list[0])\n",
    "                CMD_FMD_result[k].append(str(xmin_intersection))\n",
    "                CMD_FMD_result[k].append(str(ymin_intersection))\n",
    "                CMD_FMD_result[k].append(str(xmax_intersection))\n",
    "                CMD_FMD_result[k].append(str(ymax_intersection))   \n",
    "                  \n",
    "        elif len(data_list)>2:\n",
    "            while True:\n",
    "                for i in range(len(data_list)):\n",
    "                    merged = False\n",
    "                    confidence_i, xmin_i, ymin_i, xmax_i, ymax_i, indexi = data_list[i]\n",
    "                    for j in range(i):\n",
    "                        confidence_j, xmin_j, ymin_j, xmax_j, ymax_j, indexj = data_list[j]\n",
    "                        if (float(xmin_i) <= float(xmax_j) and float(xmax_i) >= float(xmin_j) and float(ymin_i) <= float(ymax_j) and float(ymax_i) >= float(ymin_j)):\n",
    "                            confidence_intersection = max(confidence_i,confidence_j)\n",
    "                            xmin_intersection = max(xmin_i, xmin_j)\n",
    "                            ymin_intersection = max(ymin_i, ymin_j)\n",
    "                            xmax_intersection = min(xmax_i, xmax_j)\n",
    "                            ymax_intersection = min(ymax_i, ymax_j)\n",
    "                            data_list.remove(data_list[i])\n",
    "                            data_list.remove(data_list[j])\n",
    "                            CMD_FMD_result[k].append(xmin_intersection)\n",
    "                            CMD_FMD_result[k].append(ymin_intersection)\n",
    "                            CMD_FMD_result[k].append(xmax_intersection)\n",
    "                            CMD_FMD_result[k].append(ymax_intersection)\n",
    "                            merged = True\n",
    "                            break\n",
    "                        else:\n",
    "                            merged = False\n",
    "                    if merged==True:\n",
    "                        break\n",
    "                if(len(data_list)==1 or len(data_list)==0):\n",
    "                    break\n",
    "                if merged==False:\n",
    "                    break\n",
    "\n",
    "print(CMD_FMD_result)    "
   ]
  },
  {
   "cell_type": "markdown",
   "id": "a5a61ed0-303b-48fc-8cfd-1efca9986383",
   "metadata": {},
   "source": [
    "### 計算FMD ACCURACY"
   ]
  },
  {
   "cell_type": "code",
   "execution_count": 15,
   "id": "434fe6ab-77ec-4b80-85fb-c8dbfde8567f",
   "metadata": {},
   "outputs": [
    {
     "name": "stdout",
     "output_type": "stream",
     "text": [
      "True Positives: 89\n",
      "True Negatives: 0\n",
      "False Positives: 21\n",
      "False Negatives: 26\n",
      "Accuracy: 0.6544117647058824\n",
      "Precision: 0.8090909090909091\n"
     ]
    }
   ],
   "source": [
    "def calculate_confusion_matrix(predictions, ground_truth_folder):\n",
    "    TP = 0\n",
    "    TN = 0\n",
    "    FP = 0\n",
    "    FN = 0\n",
    "    for prediction in predictions:\n",
    "        predicted_boxes = []\n",
    "        image_name = prediction[0]\n",
    "        if len(prediction) < 5:\n",
    "            ground_truth_file = os.path.join(ground_truth_folder, f\"{image_name}.txt\")\n",
    "            \n",
    "            if os.path.isfile(ground_truth_file):\n",
    "                with open(ground_truth_file, 'r') as gt_file:\n",
    "                    lines = gt_file.readlines()\n",
    "                FN += len(lines) \n",
    "            else:\n",
    "                TN += 1 \n",
    "            \n",
    "            continue\n",
    "        coordinates = list(map(float, prediction[1:]))\n",
    "        num_labels = len(coordinates) // 5    \n",
    "        for i in range(num_labels):\n",
    "            xmin, ymin, xmax, ymax = coordinates[i * 5 + 1], coordinates[i * 5 + 2], coordinates[i * 5 + 3], coordinates[i * 5 + 4]\n",
    "            predicted_boxes.append((int(xmin),int(ymin),int(xmax),int(ymax)))\n",
    "\n",
    "        ground_truth_file = os.path.join(ground_truth_folder, f\"{image_name}.txt\")\n",
    "        image = os.path.join(image_folder, f\"{image_name}.png\")\n",
    "        image = cv2.imread(image)\n",
    "        height,width,_ = image.shape\n",
    "        IMAGE_WIDTH = width  \n",
    "        IMAGE_HEIGHT = height  \n",
    "        \n",
    "        if not os.path.isfile(ground_truth_file):\n",
    "            print(f\"找不到對應的ground truth檔案：{ground_truth_file}\")\n",
    "            continue\n",
    "\n",
    "        with open(ground_truth_file, 'r') as gt_file:\n",
    "            lines = gt_file.readlines()\n",
    "\n",
    "        true_boxes = []\n",
    "\n",
    "        for line in lines:\n",
    "            parts = line.strip().split()\n",
    "            x_center, y_center, width, height = map(float, parts[1:])\n",
    "\n",
    "            xmin = int((x_center - width / 2) * IMAGE_WIDTH)\n",
    "            ymin = int((y_center - height / 2) * IMAGE_HEIGHT)\n",
    "            xmax = int((x_center + width / 2) * IMAGE_WIDTH)\n",
    "            ymax = int((y_center + height / 2) * IMAGE_HEIGHT)\n",
    "\n",
    "            true_boxes.append((xmin, ymin, xmax, ymax))\n",
    "        \n",
    "        for predicted_box in predicted_boxes:\n",
    "            for true_box in true_boxes:\n",
    "                iou = calculate_iou(predicted_box, true_box)\n",
    "\n",
    "                if iou >= IOU_THRESHOLD:\n",
    "                    TP += 1\n",
    "                    break\n",
    "            else:\n",
    "                FP += 1\n",
    "\n",
    "        for true_box in true_boxes:\n",
    "            for predicted_box in predicted_boxes:\n",
    "                iou = calculate_iou(predicted_box, true_box)\n",
    "\n",
    "                if iou >= IOU_THRESHOLD:\n",
    "                    break\n",
    "            else:\n",
    "                FN += 1\n",
    "\n",
    "    return TP, TN, FP, FN\n",
    "\n",
    "def calculate_iou(box1, box2):\n",
    "    x1 = int(box1[0])\n",
    "    y1 = int(box1[1])\n",
    "    x2 = int(box1[2])\n",
    "    y2 = int(box1[3])\n",
    "    \n",
    "    x3 = int(box2[0])\n",
    "    y3 = int(box2[1])\n",
    "    x4 = int(box2[2])\n",
    "    y4 = int(box2[3])\n",
    "    \n",
    "    x_intersection = max(x1, x3)\n",
    "    y_intersection = max(y1, y3)\n",
    "    x_union = min(x2, x4)\n",
    "    y_union = min(y2, y4)\n",
    "\n",
    "    if x_intersection < x_union and y_intersection < y_union:\n",
    "        intersection_area = (x_union - x_intersection) * (y_union - y_intersection)\n",
    "        box1_area = (x2 - x1) * (y2 - y1)\n",
    "        box2_area = (x4 - x3) * (y4 - y3)\n",
    "\n",
    "        iou = intersection_area / (box1_area + box2_area - intersection_area)\n",
    "        return iou\n",
    "\n",
    "    return 0.0\n",
    "\n",
    "IOU_THRESHOLD = 0.5 \n",
    "\n",
    "predictions = FMD_result\n",
    "\n",
    "ground_truth_folder = \"C:/Users/HAUYU/Desktop/test_dataset/mass/with_label\"\n",
    "image_folder = \"C:/Users/HAUYU/Desktop/data/full\"\n",
    "\n",
    "TP, TN, FP, FN = calculate_confusion_matrix(predictions, ground_truth_folder)\n",
    "AP = TP/(TP+FP)\n",
    "ACC = (TP+TN)/(TP+TN+FP+FN)\n",
    "\n",
    "print(f\"True Positives: {TP}\")\n",
    "print(f\"True Negatives: {TN}\")\n",
    "print(f\"False Positives: {FP}\")\n",
    "print(f\"False Negatives: {FN}\")\n",
    "print(f\"Accuracy: {ACC}\")\n",
    "print(f\"Precision: {AP}\")"
   ]
  },
  {
   "cell_type": "markdown",
   "id": "c85e270a-8a74-4f8c-90a7-20b83be2aebc",
   "metadata": {},
   "source": [
    "### 計算FMD+CMD ACCURACY"
   ]
  },
  {
   "cell_type": "code",
   "execution_count": 16,
   "id": "3a1884bb-04e9-47cb-b822-b2c0f0aba411",
   "metadata": {},
   "outputs": [
    {
     "name": "stdout",
     "output_type": "stream",
     "text": [
      "True Positives: 87\n",
      "True Negatives: 0\n",
      "False Positives: 15\n",
      "False Negatives: 28\n",
      "Accuracy: 0.6692307692307692\n",
      "Precision: 0.8529411764705882\n"
     ]
    }
   ],
   "source": [
    "def calculate_confusion_matrix(predictions, ground_truth_folder):\n",
    "    TP = 0\n",
    "    TN = 0\n",
    "    FP = 0\n",
    "    FN = 0\n",
    "    for prediction in predictions:\n",
    "        predicted_boxes = []\n",
    "        image_name = prediction[0]\n",
    "        if len(prediction) < 5:\n",
    "            ground_truth_file = os.path.join(ground_truth_folder, f\"{image_name}.txt\")\n",
    "        \n",
    "            if os.path.isfile(ground_truth_file):\n",
    "                with open(ground_truth_file, 'r') as gt_file:\n",
    "                    lines = gt_file.readlines()\n",
    "                FN += len(lines)  \n",
    "            else:\n",
    "                TN += 1  \n",
    "            \n",
    "            continue\n",
    "        coordinates = list(map(int, prediction[1:]))\n",
    "        num_labels = len(coordinates) // 4    \n",
    "        for i in range(num_labels):\n",
    "            xmin, ymin, xmax, ymax = coordinates[i * 4], coordinates[i * 4 + 1], coordinates[i * 4 + 2], coordinates[i * 4 + 3]\n",
    "            predicted_boxes.append((int(xmin),int(ymin),int(xmax),int(ymax)))\n",
    "\n",
    "        ground_truth_file = os.path.join(ground_truth_folder, f\"{image_name}.txt\")\n",
    "        image = os.path.join(image_folder, f\"{image_name}.png\")\n",
    "        image = cv2.imread(image)\n",
    "        height,width,_ = image.shape\n",
    "        IMAGE_WIDTH = width \n",
    "        IMAGE_HEIGHT = height \n",
    "        \n",
    "        if not os.path.isfile(ground_truth_file):\n",
    "            print(f\"找不到對應的ground truth檔案：{ground_truth_file}\")\n",
    "            continue\n",
    "\n",
    "        with open(ground_truth_file, 'r') as gt_file:\n",
    "            lines = gt_file.readlines()\n",
    "\n",
    "        true_boxes = []\n",
    "\n",
    "        for line in lines:\n",
    "            parts = line.strip().split()\n",
    "            x_center, y_center, width, height = map(float, parts[1:])\n",
    "\n",
    "            xmin = int((x_center - width / 2) * IMAGE_WIDTH)\n",
    "            ymin = int((y_center - height / 2) * IMAGE_HEIGHT)\n",
    "            xmax = int((x_center + width / 2) * IMAGE_WIDTH)\n",
    "            ymax = int((y_center + height / 2) * IMAGE_HEIGHT)\n",
    "\n",
    "            true_boxes.append((xmin, ymin, xmax, ymax))\n",
    "\n",
    "        for predicted_box in predicted_boxes:\n",
    "            for true_box in true_boxes:\n",
    "                iou = calculate_iou(predicted_box, true_box)\n",
    "\n",
    "                if iou >= IOU_THRESHOLD:\n",
    "                    TP += 1\n",
    "                    break\n",
    "            else:\n",
    "                FP += 1\n",
    "\n",
    "        for true_box in true_boxes:\n",
    "            for predicted_box in predicted_boxes:\n",
    "                iou = calculate_iou(predicted_box, true_box)\n",
    "\n",
    "                if iou >= IOU_THRESHOLD:\n",
    "                    break\n",
    "            else:\n",
    "                FN += 1\n",
    "\n",
    "    return TP, TN, FP, FN\n",
    "\n",
    "def calculate_iou(box1, box2):\n",
    "    x1 = int(box1[0])\n",
    "    y1 = int(box1[1])\n",
    "    x2 = int(box1[2])\n",
    "    y2 = int(box1[3])\n",
    "    \n",
    "    x3 = int(box2[0])\n",
    "    y3 = int(box2[1])\n",
    "    x4 = int(box2[2])\n",
    "    y4 = int(box2[3])\n",
    "    \n",
    "    x_intersection = max(x1, x3)\n",
    "    y_intersection = max(y1, y3)\n",
    "    x_union = min(x2, x4)\n",
    "    y_union = min(y2, y4)\n",
    "\n",
    "    if x_intersection < x_union and y_intersection < y_union:\n",
    "        intersection_area = (x_union - x_intersection) * (y_union - y_intersection)\n",
    "        box1_area = (x2 - x1) * (y2 - y1)\n",
    "        box2_area = (x4 - x3) * (y4 - y3)\n",
    "\n",
    "        iou = intersection_area / (box1_area + box2_area - intersection_area)\n",
    "        return iou\n",
    "\n",
    "    return 0.0\n",
    "\n",
    "IOU_THRESHOLD = 0.5 \n",
    "\n",
    "predictions = CMD_FMD_result\n",
    "\n",
    "ground_truth_folder = \"C:/Users/HAUYU/Desktop/test_dataset/mass/with_label\"\n",
    "image_folder = \"C:/Users/HAUYU/Desktop/data/full\"\n",
    "\n",
    "TP, TN, FP, FN = calculate_confusion_matrix(predictions, ground_truth_folder)\n",
    "ACC = (TP+TN)/(TP+TN+FP+FN)\n",
    "AP = TP/(TP+FP)\n",
    "\n",
    "print(f\"True Positives: {TP}\")\n",
    "print(f\"True Negatives: {TN}\")\n",
    "print(f\"False Positives: {FP}\")\n",
    "print(f\"False Negatives: {FN}\")\n",
    "print(f\"Accuracy: {ACC}\")\n",
    "print(f\"Precision: {AP}\")"
   ]
  }
 ],
 "metadata": {
  "kernelspec": {
   "display_name": "Python 3 (ipykernel)",
   "language": "python",
   "name": "python3"
  },
  "language_info": {
   "codemirror_mode": {
    "name": "ipython",
    "version": 3
   },
   "file_extension": ".py",
   "mimetype": "text/x-python",
   "name": "python",
   "nbconvert_exporter": "python",
   "pygments_lexer": "ipython3",
   "version": "3.8.16"
  }
 },
 "nbformat": 4,
 "nbformat_minor": 5
}
